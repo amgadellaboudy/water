{
 "cells": [
  {
   "cell_type": "markdown",
   "metadata": {},
   "source": [
    "# Global Minimial Viable Products (1)\n",
    "This is only for CONUS currently as the potential runoff product is to large to be an asset. \n",
    "\n",
    "Combine:\n",
    "* SMAP available porosity\n",
    "* ERA5-Merit potential runoff\n",
    "* MERIT terrain slope\n",
    "* MERIT upstream contributing area (needs to be less than some threshold)\n",
    "\n",
    "In to various \"products\"."
   ]
  },
  {
   "cell_type": "code",
   "execution_count": 1,
   "metadata": {},
   "outputs": [
    {
     "data": {
      "text/html": [
       "\n",
       "    <div class=\"bk-root\">\n",
       "        <a href=\"https://bokeh.org\" target=\"_blank\" class=\"bk-logo bk-logo-small bk-logo-notebook\"></a>\n",
       "        <span id=\"1001\">Loading BokehJS ...</span>\n",
       "    </div>"
      ]
     },
     "metadata": {},
     "output_type": "display_data"
    },
    {
     "data": {
      "application/javascript": [
       "\n",
       "(function(root) {\n",
       "  function now() {\n",
       "    return new Date();\n",
       "  }\n",
       "\n",
       "  var force = true;\n",
       "\n",
       "  if (typeof root._bokeh_onload_callbacks === \"undefined\" || force === true) {\n",
       "    root._bokeh_onload_callbacks = [];\n",
       "    root._bokeh_is_loading = undefined;\n",
       "  }\n",
       "\n",
       "  var JS_MIME_TYPE = 'application/javascript';\n",
       "  var HTML_MIME_TYPE = 'text/html';\n",
       "  var EXEC_MIME_TYPE = 'application/vnd.bokehjs_exec.v0+json';\n",
       "  var CLASS_NAME = 'output_bokeh rendered_html';\n",
       "\n",
       "  /**\n",
       "   * Render data to the DOM node\n",
       "   */\n",
       "  function render(props, node) {\n",
       "    var script = document.createElement(\"script\");\n",
       "    node.appendChild(script);\n",
       "  }\n",
       "\n",
       "  /**\n",
       "   * Handle when an output is cleared or removed\n",
       "   */\n",
       "  function handleClearOutput(event, handle) {\n",
       "    var cell = handle.cell;\n",
       "\n",
       "    var id = cell.output_area._bokeh_element_id;\n",
       "    var server_id = cell.output_area._bokeh_server_id;\n",
       "    // Clean up Bokeh references\n",
       "    if (id != null && id in Bokeh.index) {\n",
       "      Bokeh.index[id].model.document.clear();\n",
       "      delete Bokeh.index[id];\n",
       "    }\n",
       "\n",
       "    if (server_id !== undefined) {\n",
       "      // Clean up Bokeh references\n",
       "      var cmd = \"from bokeh.io.state import curstate; print(curstate().uuid_to_server['\" + server_id + \"'].get_sessions()[0].document.roots[0]._id)\";\n",
       "      cell.notebook.kernel.execute(cmd, {\n",
       "        iopub: {\n",
       "          output: function(msg) {\n",
       "            var id = msg.content.text.trim();\n",
       "            if (id in Bokeh.index) {\n",
       "              Bokeh.index[id].model.document.clear();\n",
       "              delete Bokeh.index[id];\n",
       "            }\n",
       "          }\n",
       "        }\n",
       "      });\n",
       "      // Destroy server and session\n",
       "      var cmd = \"import bokeh.io.notebook as ion; ion.destroy_server('\" + server_id + \"')\";\n",
       "      cell.notebook.kernel.execute(cmd);\n",
       "    }\n",
       "  }\n",
       "\n",
       "  /**\n",
       "   * Handle when a new output is added\n",
       "   */\n",
       "  function handleAddOutput(event, handle) {\n",
       "    var output_area = handle.output_area;\n",
       "    var output = handle.output;\n",
       "\n",
       "    // limit handleAddOutput to display_data with EXEC_MIME_TYPE content only\n",
       "    if ((output.output_type != \"display_data\") || (!output.data.hasOwnProperty(EXEC_MIME_TYPE))) {\n",
       "      return\n",
       "    }\n",
       "\n",
       "    var toinsert = output_area.element.find(\".\" + CLASS_NAME.split(' ')[0]);\n",
       "\n",
       "    if (output.metadata[EXEC_MIME_TYPE][\"id\"] !== undefined) {\n",
       "      toinsert[toinsert.length - 1].firstChild.textContent = output.data[JS_MIME_TYPE];\n",
       "      // store reference to embed id on output_area\n",
       "      output_area._bokeh_element_id = output.metadata[EXEC_MIME_TYPE][\"id\"];\n",
       "    }\n",
       "    if (output.metadata[EXEC_MIME_TYPE][\"server_id\"] !== undefined) {\n",
       "      var bk_div = document.createElement(\"div\");\n",
       "      bk_div.innerHTML = output.data[HTML_MIME_TYPE];\n",
       "      var script_attrs = bk_div.children[0].attributes;\n",
       "      for (var i = 0; i < script_attrs.length; i++) {\n",
       "        toinsert[toinsert.length - 1].firstChild.setAttribute(script_attrs[i].name, script_attrs[i].value);\n",
       "        toinsert[toinsert.length - 1].firstChild.textContent = bk_div.children[0].textContent\n",
       "      }\n",
       "      // store reference to server id on output_area\n",
       "      output_area._bokeh_server_id = output.metadata[EXEC_MIME_TYPE][\"server_id\"];\n",
       "    }\n",
       "  }\n",
       "\n",
       "  function register_renderer(events, OutputArea) {\n",
       "\n",
       "    function append_mime(data, metadata, element) {\n",
       "      // create a DOM node to render to\n",
       "      var toinsert = this.create_output_subarea(\n",
       "        metadata,\n",
       "        CLASS_NAME,\n",
       "        EXEC_MIME_TYPE\n",
       "      );\n",
       "      this.keyboard_manager.register_events(toinsert);\n",
       "      // Render to node\n",
       "      var props = {data: data, metadata: metadata[EXEC_MIME_TYPE]};\n",
       "      render(props, toinsert[toinsert.length - 1]);\n",
       "      element.append(toinsert);\n",
       "      return toinsert\n",
       "    }\n",
       "\n",
       "    /* Handle when an output is cleared or removed */\n",
       "    events.on('clear_output.CodeCell', handleClearOutput);\n",
       "    events.on('delete.Cell', handleClearOutput);\n",
       "\n",
       "    /* Handle when a new output is added */\n",
       "    events.on('output_added.OutputArea', handleAddOutput);\n",
       "\n",
       "    /**\n",
       "     * Register the mime type and append_mime function with output_area\n",
       "     */\n",
       "    OutputArea.prototype.register_mime_type(EXEC_MIME_TYPE, append_mime, {\n",
       "      /* Is output safe? */\n",
       "      safe: true,\n",
       "      /* Index of renderer in `output_area.display_order` */\n",
       "      index: 0\n",
       "    });\n",
       "  }\n",
       "\n",
       "  // register the mime type if in Jupyter Notebook environment and previously unregistered\n",
       "  if (root.Jupyter !== undefined) {\n",
       "    var events = require('base/js/events');\n",
       "    var OutputArea = require('notebook/js/outputarea').OutputArea;\n",
       "\n",
       "    if (OutputArea.prototype.mime_types().indexOf(EXEC_MIME_TYPE) == -1) {\n",
       "      register_renderer(events, OutputArea);\n",
       "    }\n",
       "  }\n",
       "\n",
       "  \n",
       "  if (typeof (root._bokeh_timeout) === \"undefined\" || force === true) {\n",
       "    root._bokeh_timeout = Date.now() + 5000;\n",
       "    root._bokeh_failed_load = false;\n",
       "  }\n",
       "\n",
       "  var NB_LOAD_WARNING = {'data': {'text/html':\n",
       "     \"<div style='background-color: #fdd'>\\n\"+\n",
       "     \"<p>\\n\"+\n",
       "     \"BokehJS does not appear to have successfully loaded. If loading BokehJS from CDN, this \\n\"+\n",
       "     \"may be due to a slow or bad network connection. Possible fixes:\\n\"+\n",
       "     \"</p>\\n\"+\n",
       "     \"<ul>\\n\"+\n",
       "     \"<li>re-rerun `output_notebook()` to attempt to load from CDN again, or</li>\\n\"+\n",
       "     \"<li>use INLINE resources instead, as so:</li>\\n\"+\n",
       "     \"</ul>\\n\"+\n",
       "     \"<code>\\n\"+\n",
       "     \"from bokeh.resources import INLINE\\n\"+\n",
       "     \"output_notebook(resources=INLINE)\\n\"+\n",
       "     \"</code>\\n\"+\n",
       "     \"</div>\"}};\n",
       "\n",
       "  function display_loaded() {\n",
       "    var el = document.getElementById(\"1001\");\n",
       "    if (el != null) {\n",
       "      el.textContent = \"BokehJS is loading...\";\n",
       "    }\n",
       "    if (root.Bokeh !== undefined) {\n",
       "      if (el != null) {\n",
       "        el.textContent = \"BokehJS \" + root.Bokeh.version + \" successfully loaded.\";\n",
       "      }\n",
       "    } else if (Date.now() < root._bokeh_timeout) {\n",
       "      setTimeout(display_loaded, 100)\n",
       "    }\n",
       "  }\n",
       "\n",
       "\n",
       "  function run_callbacks() {\n",
       "    try {\n",
       "      root._bokeh_onload_callbacks.forEach(function(callback) {\n",
       "        if (callback != null)\n",
       "          callback();\n",
       "      });\n",
       "    } finally {\n",
       "      delete root._bokeh_onload_callbacks\n",
       "    }\n",
       "    console.debug(\"Bokeh: all callbacks have finished\");\n",
       "  }\n",
       "\n",
       "  function load_libs(css_urls, js_urls, callback) {\n",
       "    if (css_urls == null) css_urls = [];\n",
       "    if (js_urls == null) js_urls = [];\n",
       "\n",
       "    root._bokeh_onload_callbacks.push(callback);\n",
       "    if (root._bokeh_is_loading > 0) {\n",
       "      console.debug(\"Bokeh: BokehJS is being loaded, scheduling callback at\", now());\n",
       "      return null;\n",
       "    }\n",
       "    if (js_urls == null || js_urls.length === 0) {\n",
       "      run_callbacks();\n",
       "      return null;\n",
       "    }\n",
       "    console.debug(\"Bokeh: BokehJS not loaded, scheduling load and callback at\", now());\n",
       "    root._bokeh_is_loading = css_urls.length + js_urls.length;\n",
       "\n",
       "    function on_load() {\n",
       "      root._bokeh_is_loading--;\n",
       "      if (root._bokeh_is_loading === 0) {\n",
       "        console.debug(\"Bokeh: all BokehJS libraries/stylesheets loaded\");\n",
       "        run_callbacks()\n",
       "      }\n",
       "    }\n",
       "\n",
       "    function on_error() {\n",
       "      console.error(\"failed to load \" + url);\n",
       "    }\n",
       "\n",
       "    for (var i = 0; i < css_urls.length; i++) {\n",
       "      var url = css_urls[i];\n",
       "      const element = document.createElement(\"link\");\n",
       "      element.onload = on_load;\n",
       "      element.onerror = on_error;\n",
       "      element.rel = \"stylesheet\";\n",
       "      element.type = \"text/css\";\n",
       "      element.href = url;\n",
       "      console.debug(\"Bokeh: injecting link tag for BokehJS stylesheet: \", url);\n",
       "      document.body.appendChild(element);\n",
       "    }\n",
       "\n",
       "    const hashes = {\"https://cdn.bokeh.org/bokeh/release/bokeh-2.2.3.min.js\": \"T2yuo9Oe71Cz/I4X9Ac5+gpEa5a8PpJCDlqKYO0CfAuEszu1JrXLl8YugMqYe3sM\", \"https://cdn.bokeh.org/bokeh/release/bokeh-widgets-2.2.3.min.js\": \"98GDGJ0kOMCUMUePhksaQ/GYgB3+NH9h996V88sh3aOiUNX3N+fLXAtry6xctSZ6\", \"https://cdn.bokeh.org/bokeh/release/bokeh-tables-2.2.3.min.js\": \"89bArO+nlbP3sgakeHjCo1JYxYR5wufVgA3IbUvDY+K7w4zyxJqssu7wVnfeKCq8\"};\n",
       "\n",
       "    for (var i = 0; i < js_urls.length; i++) {\n",
       "      var url = js_urls[i];\n",
       "      var element = document.createElement('script');\n",
       "      element.onload = on_load;\n",
       "      element.onerror = on_error;\n",
       "      element.async = false;\n",
       "      element.src = url;\n",
       "      if (url in hashes) {\n",
       "        element.crossOrigin = \"anonymous\";\n",
       "        element.integrity = \"sha384-\" + hashes[url];\n",
       "      }\n",
       "      console.debug(\"Bokeh: injecting script tag for BokehJS library: \", url);\n",
       "      document.head.appendChild(element);\n",
       "    }\n",
       "  };\n",
       "\n",
       "  function inject_raw_css(css) {\n",
       "    const element = document.createElement(\"style\");\n",
       "    element.appendChild(document.createTextNode(css));\n",
       "    document.body.appendChild(element);\n",
       "  }\n",
       "\n",
       "  \n",
       "  var js_urls = [\"https://cdn.bokeh.org/bokeh/release/bokeh-2.2.3.min.js\", \"https://cdn.bokeh.org/bokeh/release/bokeh-widgets-2.2.3.min.js\", \"https://cdn.bokeh.org/bokeh/release/bokeh-tables-2.2.3.min.js\"];\n",
       "  var css_urls = [];\n",
       "  \n",
       "\n",
       "  var inline_js = [\n",
       "    function(Bokeh) {\n",
       "      Bokeh.set_log_level(\"info\");\n",
       "    },\n",
       "    function(Bokeh) {\n",
       "    \n",
       "    \n",
       "    }\n",
       "  ];\n",
       "\n",
       "  function run_inline_js() {\n",
       "    \n",
       "    if (root.Bokeh !== undefined || force === true) {\n",
       "      \n",
       "    for (var i = 0; i < inline_js.length; i++) {\n",
       "      inline_js[i].call(root, root.Bokeh);\n",
       "    }\n",
       "    if (force === true) {\n",
       "        display_loaded();\n",
       "      }} else if (Date.now() < root._bokeh_timeout) {\n",
       "      setTimeout(run_inline_js, 100);\n",
       "    } else if (!root._bokeh_failed_load) {\n",
       "      console.log(\"Bokeh: BokehJS failed to load within specified timeout.\");\n",
       "      root._bokeh_failed_load = true;\n",
       "    } else if (force !== true) {\n",
       "      var cell = $(document.getElementById(\"1001\")).parents('.cell').data().cell;\n",
       "      cell.output_area.append_execute_result(NB_LOAD_WARNING)\n",
       "    }\n",
       "\n",
       "  }\n",
       "\n",
       "  if (root._bokeh_is_loading === 0) {\n",
       "    console.debug(\"Bokeh: BokehJS loaded, going straight to plotting\");\n",
       "    run_inline_js();\n",
       "  } else {\n",
       "    load_libs(css_urls, js_urls, function() {\n",
       "      console.debug(\"Bokeh: BokehJS plotting callback run at\", now());\n",
       "      run_inline_js();\n",
       "    });\n",
       "  }\n",
       "}(window));"
      ],
      "application/vnd.bokehjs_load.v0+json": "\n(function(root) {\n  function now() {\n    return new Date();\n  }\n\n  var force = true;\n\n  if (typeof root._bokeh_onload_callbacks === \"undefined\" || force === true) {\n    root._bokeh_onload_callbacks = [];\n    root._bokeh_is_loading = undefined;\n  }\n\n  \n\n  \n  if (typeof (root._bokeh_timeout) === \"undefined\" || force === true) {\n    root._bokeh_timeout = Date.now() + 5000;\n    root._bokeh_failed_load = false;\n  }\n\n  var NB_LOAD_WARNING = {'data': {'text/html':\n     \"<div style='background-color: #fdd'>\\n\"+\n     \"<p>\\n\"+\n     \"BokehJS does not appear to have successfully loaded. If loading BokehJS from CDN, this \\n\"+\n     \"may be due to a slow or bad network connection. Possible fixes:\\n\"+\n     \"</p>\\n\"+\n     \"<ul>\\n\"+\n     \"<li>re-rerun `output_notebook()` to attempt to load from CDN again, or</li>\\n\"+\n     \"<li>use INLINE resources instead, as so:</li>\\n\"+\n     \"</ul>\\n\"+\n     \"<code>\\n\"+\n     \"from bokeh.resources import INLINE\\n\"+\n     \"output_notebook(resources=INLINE)\\n\"+\n     \"</code>\\n\"+\n     \"</div>\"}};\n\n  function display_loaded() {\n    var el = document.getElementById(\"1001\");\n    if (el != null) {\n      el.textContent = \"BokehJS is loading...\";\n    }\n    if (root.Bokeh !== undefined) {\n      if (el != null) {\n        el.textContent = \"BokehJS \" + root.Bokeh.version + \" successfully loaded.\";\n      }\n    } else if (Date.now() < root._bokeh_timeout) {\n      setTimeout(display_loaded, 100)\n    }\n  }\n\n\n  function run_callbacks() {\n    try {\n      root._bokeh_onload_callbacks.forEach(function(callback) {\n        if (callback != null)\n          callback();\n      });\n    } finally {\n      delete root._bokeh_onload_callbacks\n    }\n    console.debug(\"Bokeh: all callbacks have finished\");\n  }\n\n  function load_libs(css_urls, js_urls, callback) {\n    if (css_urls == null) css_urls = [];\n    if (js_urls == null) js_urls = [];\n\n    root._bokeh_onload_callbacks.push(callback);\n    if (root._bokeh_is_loading > 0) {\n      console.debug(\"Bokeh: BokehJS is being loaded, scheduling callback at\", now());\n      return null;\n    }\n    if (js_urls == null || js_urls.length === 0) {\n      run_callbacks();\n      return null;\n    }\n    console.debug(\"Bokeh: BokehJS not loaded, scheduling load and callback at\", now());\n    root._bokeh_is_loading = css_urls.length + js_urls.length;\n\n    function on_load() {\n      root._bokeh_is_loading--;\n      if (root._bokeh_is_loading === 0) {\n        console.debug(\"Bokeh: all BokehJS libraries/stylesheets loaded\");\n        run_callbacks()\n      }\n    }\n\n    function on_error() {\n      console.error(\"failed to load \" + url);\n    }\n\n    for (var i = 0; i < css_urls.length; i++) {\n      var url = css_urls[i];\n      const element = document.createElement(\"link\");\n      element.onload = on_load;\n      element.onerror = on_error;\n      element.rel = \"stylesheet\";\n      element.type = \"text/css\";\n      element.href = url;\n      console.debug(\"Bokeh: injecting link tag for BokehJS stylesheet: \", url);\n      document.body.appendChild(element);\n    }\n\n    const hashes = {\"https://cdn.bokeh.org/bokeh/release/bokeh-2.2.3.min.js\": \"T2yuo9Oe71Cz/I4X9Ac5+gpEa5a8PpJCDlqKYO0CfAuEszu1JrXLl8YugMqYe3sM\", \"https://cdn.bokeh.org/bokeh/release/bokeh-widgets-2.2.3.min.js\": \"98GDGJ0kOMCUMUePhksaQ/GYgB3+NH9h996V88sh3aOiUNX3N+fLXAtry6xctSZ6\", \"https://cdn.bokeh.org/bokeh/release/bokeh-tables-2.2.3.min.js\": \"89bArO+nlbP3sgakeHjCo1JYxYR5wufVgA3IbUvDY+K7w4zyxJqssu7wVnfeKCq8\"};\n\n    for (var i = 0; i < js_urls.length; i++) {\n      var url = js_urls[i];\n      var element = document.createElement('script');\n      element.onload = on_load;\n      element.onerror = on_error;\n      element.async = false;\n      element.src = url;\n      if (url in hashes) {\n        element.crossOrigin = \"anonymous\";\n        element.integrity = \"sha384-\" + hashes[url];\n      }\n      console.debug(\"Bokeh: injecting script tag for BokehJS library: \", url);\n      document.head.appendChild(element);\n    }\n  };\n\n  function inject_raw_css(css) {\n    const element = document.createElement(\"style\");\n    element.appendChild(document.createTextNode(css));\n    document.body.appendChild(element);\n  }\n\n  \n  var js_urls = [\"https://cdn.bokeh.org/bokeh/release/bokeh-2.2.3.min.js\", \"https://cdn.bokeh.org/bokeh/release/bokeh-widgets-2.2.3.min.js\", \"https://cdn.bokeh.org/bokeh/release/bokeh-tables-2.2.3.min.js\"];\n  var css_urls = [];\n  \n\n  var inline_js = [\n    function(Bokeh) {\n      Bokeh.set_log_level(\"info\");\n    },\n    function(Bokeh) {\n    \n    \n    }\n  ];\n\n  function run_inline_js() {\n    \n    if (root.Bokeh !== undefined || force === true) {\n      \n    for (var i = 0; i < inline_js.length; i++) {\n      inline_js[i].call(root, root.Bokeh);\n    }\n    if (force === true) {\n        display_loaded();\n      }} else if (Date.now() < root._bokeh_timeout) {\n      setTimeout(run_inline_js, 100);\n    } else if (!root._bokeh_failed_load) {\n      console.log(\"Bokeh: BokehJS failed to load within specified timeout.\");\n      root._bokeh_failed_load = true;\n    } else if (force !== true) {\n      var cell = $(document.getElementById(\"1001\")).parents('.cell').data().cell;\n      cell.output_area.append_execute_result(NB_LOAD_WARNING)\n    }\n\n  }\n\n  if (root._bokeh_is_loading === 0) {\n    console.debug(\"Bokeh: BokehJS loaded, going straight to plotting\");\n    run_inline_js();\n  } else {\n    load_libs(css_urls, js_urls, function() {\n      console.debug(\"Bokeh: BokehJS plotting callback run at\", now());\n      run_inline_js();\n    });\n  }\n}(window));"
     },
     "metadata": {},
     "output_type": "display_data"
    }
   ],
   "source": [
    "import ee\n",
    "import numpy as np\n",
    "\n",
    "import sys\n",
    "sys.path.insert(1, '../datasets/SMAP-USDA/')  # until we package this\n",
    "import visualize as vis\n",
    "import water_common as common\n",
    "import normalize as norm\n",
    "from statistics import mean"
   ]
  },
  {
   "cell_type": "code",
   "execution_count": 2,
   "metadata": {},
   "outputs": [],
   "source": [
    "#ee.Authenticate()\n",
    "ee.Initialize()"
   ]
  },
  {
   "cell_type": "code",
   "execution_count": 3,
   "metadata": {},
   "outputs": [],
   "source": [
    "# Some common parameters\n",
    "month_names = [\n",
    "    'Jan', 'Feb', 'Mar', 'Apr', 'May', 'Jun', \n",
    "    'Jul', 'Aug', 'Sep', 'Oct', 'Nov', 'Dec']\n",
    "days_per_month = [\n",
    "    31, 28, 31, 30, 31, 30,\n",
    "    31, 31, 30, 31, 30, 31] \n",
    "seconds_per_month = [ dd* 24*60*60 for dd in days_per_month ]\n",
    "month = 7\n",
    "month_name = month_names[month - 1]\n",
    "\n",
    "bbox = common.bboxes()['conus']"
   ]
  },
  {
   "cell_type": "markdown",
   "metadata": {},
   "source": [
    "# SMAP-USDA Available Porosity\n",
    "More available porosity is better."
   ]
  },
  {
   "cell_type": "code",
   "execution_count": 4,
   "metadata": {},
   "outputs": [],
   "source": [
    "# Get a single example image \n",
    "smap_usda_clim = ee.ImageCollection('users/jamesmcc/smap_usda_climatology')\n",
    "\n",
    "avail_porosity_img = (\n",
    "    smap_usda_clim\n",
    "    .filter(ee.Filter.eq('month', month))\n",
    "    .filter(ee.Filter.eq('band', 'avail_porosity_mm')).first())\n",
    "\n",
    "avail_porosity_img_scaled = norm.img_scale(\n",
    "    avail_porosity_img, area_of_interest=common.bboxes()['conus'])"
   ]
  },
  {
   "cell_type": "code",
   "execution_count": 5,
   "metadata": {},
   "outputs": [],
   "source": [
    "# smap_range = norm.img_range(img, area_of_interest=common.bboxes()['conus'])\n",
    "# smap_range"
   ]
  },
  {
   "cell_type": "code",
   "execution_count": null,
   "metadata": {},
   "outputs": [],
   "source": []
  },
  {
   "cell_type": "code",
   "execution_count": 6,
   "metadata": {},
   "outputs": [],
   "source": [
    "smap_missing = -99999\n",
    "\n",
    "# units: mm\n",
    "avail_porosity_data = np.array(\n",
    "        avail_porosity_img\n",
    "        .sampleRectangle(bbox, ['avail_porosity_mm'], smap_missing)\n",
    "        .get('avail_porosity_mm')\n",
    "        .getInfo())\n",
    "avail_porosity_data_mask = np.ma.masked_values(avail_porosity_data, smap_missing)\n",
    "avail_porosity_data_drop = avail_porosity_data_mask[~avail_porosity_data_mask.mask]\n",
    "\n",
    "# Scaled\n",
    "avail_porosity_scaled_data = np.array(\n",
    "        avail_porosity_img_scaled\n",
    "        .sampleRectangle(bbox, ['avail_porosity_mm'], smap_missing)\n",
    "        .get('avail_porosity_mm')\n",
    "        .getInfo())\n",
    "avail_porosity_scaled_data_mask = np.ma.masked_values(avail_porosity_scaled_data, smap_missing)\n",
    "avail_porosity_scaled_data_drop = avail_porosity_scaled_data_mask[~avail_porosity_scaled_data_mask.mask]"
   ]
  },
  {
   "cell_type": "code",
   "execution_count": 7,
   "metadata": {},
   "outputs": [],
   "source": [
    "#print(avail_porosity_data)\n",
    "#avail_porosity_data_mask\n",
    "#avail_porosity_data_drop"
   ]
  },
  {
   "cell_type": "code",
   "execution_count": 8,
   "metadata": {},
   "outputs": [
    {
     "data": {
      "text/html": [
       "\n",
       "\n",
       "\n",
       "\n",
       "\n",
       "\n",
       "  <div class=\"bk-root\" id=\"bc1ac89e-4171-4851-ab0c-74e30c59189e\" data-root-id=\"1002\"></div>\n"
      ]
     },
     "metadata": {},
     "output_type": "display_data"
    },
    {
     "data": {
      "application/javascript": [
       "(function(root) {\n",
       "  function embed_document(root) {\n",
       "    \n",
       "  var docs_json = {\"d288fcdb-1d54-4474-b6ba-e64dc6a3800e\":{\"roots\":{\"references\":[{\"attributes\":{\"background_fill_color\":\"#fafafa\",\"below\":[{\"id\":\"1013\"}],\"center\":[{\"id\":\"1016\"},{\"id\":\"1020\"},{\"id\":\"1041\"}],\"left\":[{\"id\":\"1017\"}],\"renderers\":[{\"id\":\"1025\"},{\"id\":\"1030\"},{\"id\":\"1046\"}],\"title\":{\"id\":\"1003\"},\"toolbar\":{\"id\":\"1021\"},\"x_range\":{\"id\":\"1005\"},\"x_scale\":{\"id\":\"1009\"},\"y_range\":{\"id\":\"1007\"},\"y_scale\":{\"id\":\"1011\"}},\"id\":\"1002\",\"subtype\":\"Figure\",\"type\":\"Plot\"},{\"attributes\":{\"label\":{\"value\":\"CDF\"},\"renderers\":[{\"id\":\"1046\"}]},\"id\":\"1059\",\"type\":\"LegendItem\"},{\"attributes\":{\"data_source\":{\"id\":\"1022\"},\"glyph\":{\"id\":\"1023\"},\"hover_glyph\":null,\"muted_glyph\":null,\"nonselection_glyph\":{\"id\":\"1024\"},\"selection_glyph\":null,\"view\":{\"id\":\"1026\"}},\"id\":\"1025\",\"type\":\"GlyphRenderer\"},{\"attributes\":{},\"id\":\"1057\",\"type\":\"UnionRenderers\"},{\"attributes\":{},\"id\":\"1011\",\"type\":\"LinearScale\"},{\"attributes\":{\"axis\":{\"id\":\"1013\"},\"grid_line_color\":\"white\",\"ticker\":null},\"id\":\"1016\",\"type\":\"Grid\"},{\"attributes\":{\"line_alpha\":0.1,\"line_color\":\"#ff8888\",\"line_width\":4,\"x\":{\"field\":\"x\"},\"y\":{\"field\":\"y\"}},\"id\":\"1029\",\"type\":\"Line\"},{\"attributes\":{},\"id\":\"1037\",\"type\":\"UnionRenderers\"},{\"attributes\":{},\"id\":\"1058\",\"type\":\"Selection\"},{\"attributes\":{\"data_source\":{\"id\":\"1043\"},\"glyph\":{\"id\":\"1044\"},\"hover_glyph\":null,\"muted_glyph\":null,\"nonselection_glyph\":{\"id\":\"1045\"},\"selection_glyph\":null,\"view\":{\"id\":\"1047\"}},\"id\":\"1046\",\"type\":\"GlyphRenderer\"},{\"attributes\":{\"label\":{\"value\":\"PDF\"},\"renderers\":[{\"id\":\"1030\"}]},\"id\":\"1042\",\"type\":\"LegendItem\"},{\"attributes\":{\"text\":\"Normal Distribution (\\u03bc=90.74935877762995, \\u03c3=49.70601598727738)\"},\"id\":\"1003\",\"type\":\"Title\"},{\"attributes\":{},\"id\":\"1036\",\"type\":\"BasicTickFormatter\"},{\"attributes\":{\"bottom\":{\"value\":0},\"fill_alpha\":{\"value\":0.1},\"fill_color\":{\"value\":\"navy\"},\"left\":{\"field\":\"left\"},\"line_alpha\":{\"value\":0.1},\"line_color\":{\"value\":\"white\"},\"right\":{\"field\":\"right\"},\"top\":{\"field\":\"top\"}},\"id\":\"1024\",\"type\":\"Quad\"},{\"attributes\":{},\"id\":\"1009\",\"type\":\"LinearScale\"},{\"attributes\":{\"data\":{\"x\":{\"__ndarray__\":\"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\",\"dtype\":\"float64\",\"order\":\"little\",\"shape\":[1000]},\"y\":{\"__ndarray__\":\"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\",\"dtype\":\"float64\",\"order\":\"little\",\"shape\":[1000]}},\"selected\":{\"id\":\"1058\"},\"selection_policy\":{\"id\":\"1057\"}},\"id\":\"1043\",\"type\":\"ColumnDataSource\"},{\"attributes\":{\"axis_label\":\"Pr(x)\",\"formatter\":{\"id\":\"1034\"},\"ticker\":{\"id\":\"1018\"}},\"id\":\"1017\",\"type\":\"LinearAxis\"},{\"attributes\":{\"source\":{\"id\":\"1043\"}},\"id\":\"1047\",\"type\":\"CDSView\"},{\"attributes\":{\"active_drag\":\"auto\",\"active_inspect\":\"auto\",\"active_multi\":null,\"active_scroll\":\"auto\",\"active_tap\":\"auto\"},\"id\":\"1021\",\"type\":\"Toolbar\"},{\"attributes\":{\"line_alpha\":0.1,\"line_color\":\"orange\",\"line_width\":2,\"x\":{\"field\":\"x\"},\"y\":{\"field\":\"y\"}},\"id\":\"1045\",\"type\":\"Line\"},{\"attributes\":{},\"id\":\"1040\",\"type\":\"Selection\"},{\"attributes\":{\"start\":0},\"id\":\"1007\",\"type\":\"DataRange1d\"},{\"attributes\":{\"data\":{\"left\":{\"__ndarray__\":\"AAAAAAAAAACuR+F6cm0QQK5H4XpybSBAhetRuCukKECuR+F6cm0wQJqZmRnPiDRAhetRuCukOEBwPQpXiL88QK5H4XpybUBApHA9yiB7QkCamZkZz4hEQI/C9Wh9lkZAhetRuCukSEB7FK4H2rFKQHA9CleIv0xAZmZmpjbNTkCuR+F6cm1QQClcj6JJdFFApHA9yiB7UkAfhevx94FTQJqZmRnPiFRAFK5HQaaPVUCPwvVofZZWQArXo5BUnVdAhetRuCukWEAAAADgAqtZQHsUrgfasVpA9ihcL7G4W0BwPQpXiL9cQOtRuH5fxl1AZmZmpjbNXkDhehTODdRfQK5H4XpybWBA61G4Dt7wYEApXI+iSXRhQGZmZja192FApHA9yiB7YkDhehRejP5iQB+F6/H3gWNAXI/ChWMFZECamZkZz4hkQNejcK06DGVAFK5HQaaPZUBSuB7VERNmQI/C9Wh9lmZAzczM/OgZZ0AK16OQVJ1nQEjheiTAIGhAhetRuCukaEDC9ShMlydpQA==\",\"dtype\":\"float64\",\"order\":\"little\",\"shape\":[50]},\"right\":{\"__ndarray__\":\"rkfhenJtEECuR+F6cm0gQIXrUbgrpChArkfhenJtMECamZkZz4g0QIXrUbgrpDhAcD0KV4i/PECuR+F6cm1AQKRwPcoge0JAmpmZGc+IRECPwvVofZZGQIXrUbgrpEhAexSuB9qxSkBwPQpXiL9MQGZmZqY2zU5ArkfhenJtUEApXI+iSXRRQKRwPcoge1JAH4Xr8feBU0CamZkZz4hUQBSuR0Gmj1VAj8L1aH2WVkAK16OQVJ1XQIXrUbgrpFhAAAAA4AKrWUB7FK4H2rFaQPYoXC+xuFtAcD0KV4i/XEDrUbh+X8ZdQGZmZqY2zV5A4XoUzg3UX0CuR+F6cm1gQOtRuA7e8GBAKVyPokl0YUBmZmY2tfdhQKRwPcoge2JA4XoUXoz+YkAfhevx94FjQFyPwoVjBWRAmpmZGc+IZEDXo3CtOgxlQBSuR0Gmj2VAUrge1RETZkCPwvVofZZmQM3MzPzoGWdACtejkFSdZ0BI4XokwCBoQIXrUbgrpGhAwvUoTJcnaUAAAADgAqtpQA==\",\"dtype\":\"float64\",\"order\":\"little\",\"shape\":[50]},\"top\":{\"__ndarray__\":\"K2VLHBDfYj/foXhgszE+P2d5WohGpUY/Se9SUivCZD/boXhgszFuP7ZSbY8KXXs/ENtD5vT7gD84Kk+3ndCDP0fvUlIrwoQ/26F4YLMxfj+M+MEYLoOAP4IDYr5hiHg/sUfN6dZXgz9veVqIRqV2PzgqT7ed0HM/C9tD5vT7gD9H71JSK8J0PyllSxwQ33I/OCpPt53Qcz8aoEeBgu1xP2u0Vu24s3U/OCpPt53Qcz9H71JSK8J0P3M+XiPUlnc/ZXlaiEaldj+E+MEYLoOAPzgqT7ed0HM/yVJtjwpdez9zPl4j1JZ3PwvbQ+b0+4A/r1Jtjwpdez+gjWn0fGt6PwwWQEtnCnA/XT5eI9SWdz87ZUscEN9yPzPvUlIrwnQ/G9tD5vT7cD/62kPm9PtwP9kXcSqYTmw/+tpD5vT7cD97eVqIRqVmPyygR4GC7XE/M+9SUivCZD8soEeBgu1xPxdlSxwQ33I/e3laiEalRj++oXhgszFOP3t5WohGpVY/+aF4YLMxLj++oXhgszEuPw==\",\"dtype\":\"float64\",\"order\":\"little\",\"shape\":[50]}},\"selected\":{\"id\":\"1038\"},\"selection_policy\":{\"id\":\"1037\"}},\"id\":\"1022\",\"type\":\"ColumnDataSource\"},{\"attributes\":{\"axis\":{\"id\":\"1017\"},\"dimension\":1,\"grid_line_color\":\"white\",\"ticker\":null},\"id\":\"1020\",\"type\":\"Grid\"},{\"attributes\":{\"data_source\":{\"id\":\"1027\"},\"glyph\":{\"id\":\"1028\"},\"hover_glyph\":null,\"muted_glyph\":null,\"nonselection_glyph\":{\"id\":\"1029\"},\"selection_glyph\":null,\"view\":{\"id\":\"1031\"}},\"id\":\"1030\",\"type\":\"GlyphRenderer\"},{\"attributes\":{\"source\":{\"id\":\"1027\"}},\"id\":\"1031\",\"type\":\"CDSView\"},{\"attributes\":{},\"id\":\"1014\",\"type\":\"BasicTicker\"},{\"attributes\":{\"axis_label\":\"x\",\"formatter\":{\"id\":\"1036\"},\"ticker\":{\"id\":\"1014\"}},\"id\":\"1013\",\"type\":\"LinearAxis\"},{\"attributes\":{\"source\":{\"id\":\"1022\"}},\"id\":\"1026\",\"type\":\"CDSView\"},{\"attributes\":{\"line_alpha\":0.7,\"line_color\":\"#ff8888\",\"line_width\":4,\"x\":{\"field\":\"x\"},\"y\":{\"field\":\"y\"}},\"id\":\"1028\",\"type\":\"Line\"},{\"attributes\":{\"data\":{\"x\":{\"__ndarray__\":\"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\",\"dtype\":\"float64\",\"order\":\"little\",\"shape\":[1000]},\"y\":{\"__ndarray__\":\"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\",\"dtype\":\"float64\",\"order\":\"little\",\"shape\":[1000]}},\"selected\":{\"id\":\"1040\"},\"selection_policy\":{\"id\":\"1039\"}},\"id\":\"1027\",\"type\":\"ColumnDataSource\"},{\"attributes\":{\"bottom\":{\"value\":0},\"fill_alpha\":{\"value\":0.5},\"fill_color\":{\"value\":\"navy\"},\"left\":{\"field\":\"left\"},\"line_alpha\":{\"value\":0.5},\"line_color\":{\"value\":\"white\"},\"right\":{\"field\":\"right\"},\"top\":{\"field\":\"top\"}},\"id\":\"1023\",\"type\":\"Quad\"},{\"attributes\":{},\"id\":\"1034\",\"type\":\"BasicTickFormatter\"},{\"attributes\":{},\"id\":\"1039\",\"type\":\"UnionRenderers\"},{\"attributes\":{\"background_fill_color\":\"#fefefe\",\"items\":[{\"id\":\"1042\"},{\"id\":\"1059\"}],\"location\":\"center_right\"},\"id\":\"1041\",\"type\":\"Legend\"},{\"attributes\":{},\"id\":\"1018\",\"type\":\"BasicTicker\"},{\"attributes\":{},\"id\":\"1005\",\"type\":\"DataRange1d\"},{\"attributes\":{\"line_alpha\":0.7,\"line_color\":\"orange\",\"line_width\":2,\"x\":{\"field\":\"x\"},\"y\":{\"field\":\"y\"}},\"id\":\"1044\",\"type\":\"Line\"},{\"attributes\":{},\"id\":\"1038\",\"type\":\"Selection\"}],\"root_ids\":[\"1002\"]},\"title\":\"Bokeh Application\",\"version\":\"2.2.3\"}};\n",
       "  var render_items = [{\"docid\":\"d288fcdb-1d54-4474-b6ba-e64dc6a3800e\",\"root_ids\":[\"1002\"],\"roots\":{\"1002\":\"bc1ac89e-4171-4851-ab0c-74e30c59189e\"}}];\n",
       "  root.Bokeh.embed.embed_items_notebook(docs_json, render_items);\n",
       "\n",
       "  }\n",
       "  if (root.Bokeh !== undefined) {\n",
       "    embed_document(root);\n",
       "  } else {\n",
       "    var attempts = 0;\n",
       "    var timer = setInterval(function(root) {\n",
       "      if (root.Bokeh !== undefined) {\n",
       "        clearInterval(timer);\n",
       "        embed_document(root);\n",
       "      } else {\n",
       "        attempts++;\n",
       "        if (attempts > 100) {\n",
       "          clearInterval(timer);\n",
       "          console.log(\"Bokeh: ERROR: Unable to run BokehJS code because BokehJS library is missing\");\n",
       "        }\n",
       "      }\n",
       "    }, 10, root)\n",
       "  }\n",
       "})(window);"
      ],
      "application/vnd.bokehjs_exec.v0+json": ""
     },
     "metadata": {
      "application/vnd.bokehjs_exec.v0+json": {
       "id": "1002"
      }
     },
     "output_type": "display_data"
    }
   ],
   "source": [
    "_ = norm.normal_dist_plot(avail_porosity_data_drop)"
   ]
  },
  {
   "cell_type": "code",
   "execution_count": 9,
   "metadata": {},
   "outputs": [
    {
     "data": {
      "text/html": [
       "\n",
       "\n",
       "\n",
       "\n",
       "\n",
       "\n",
       "  <div class=\"bk-root\" id=\"f94f688c-87b8-46a3-ad17-6ef128a8ccb5\" data-root-id=\"1126\"></div>\n"
      ]
     },
     "metadata": {},
     "output_type": "display_data"
    },
    {
     "data": {
      "application/javascript": [
       "(function(root) {\n",
       "  function embed_document(root) {\n",
       "    \n",
       "  var docs_json = {\"43c01169-54cf-40eb-b13f-ed2fbdf81bee\":{\"roots\":{\"references\":[{\"attributes\":{\"background_fill_color\":\"#fafafa\",\"below\":[{\"id\":\"1137\"}],\"center\":[{\"id\":\"1140\"},{\"id\":\"1144\"},{\"id\":\"1165\"}],\"left\":[{\"id\":\"1141\"}],\"renderers\":[{\"id\":\"1149\"},{\"id\":\"1154\"},{\"id\":\"1170\"}],\"title\":{\"id\":\"1127\"},\"toolbar\":{\"id\":\"1145\"},\"x_range\":{\"id\":\"1129\"},\"x_scale\":{\"id\":\"1133\"},\"y_range\":{\"id\":\"1131\"},\"y_scale\":{\"id\":\"1135\"}},\"id\":\"1126\",\"subtype\":\"Figure\",\"type\":\"Plot\"},{\"attributes\":{},\"id\":\"1129\",\"type\":\"DataRange1d\"},{\"attributes\":{\"line_alpha\":0.1,\"line_color\":\"#ff8888\",\"line_width\":4,\"x\":{\"field\":\"x\"},\"y\":{\"field\":\"y\"}},\"id\":\"1153\",\"type\":\"Line\"},{\"attributes\":{\"data_source\":{\"id\":\"1151\"},\"glyph\":{\"id\":\"1152\"},\"hover_glyph\":null,\"muted_glyph\":null,\"nonselection_glyph\":{\"id\":\"1153\"},\"selection_glyph\":null,\"view\":{\"id\":\"1155\"}},\"id\":\"1154\",\"type\":\"GlyphRenderer\"},{\"attributes\":{},\"id\":\"1142\",\"type\":\"BasicTicker\"},{\"attributes\":{\"data_source\":{\"id\":\"1167\"},\"glyph\":{\"id\":\"1168\"},\"hover_glyph\":null,\"muted_glyph\":null,\"nonselection_glyph\":{\"id\":\"1169\"},\"selection_glyph\":null,\"view\":{\"id\":\"1171\"}},\"id\":\"1170\",\"type\":\"GlyphRenderer\"},{\"attributes\":{\"line_alpha\":0.7,\"line_color\":\"orange\",\"line_width\":2,\"x\":{\"field\":\"x\"},\"y\":{\"field\":\"y\"}},\"id\":\"1168\",\"type\":\"Line\"},{\"attributes\":{\"data\":{\"left\":{\"__ndarray__\":\"AAAAAAAAAAB7FK5H4XqUP3sUrkfheqQ/uB6F61G4rj97FK5H4Xq0P5qZmZmZmbk/uB6F61G4vj/sUbgehevBP3sUrkfhesQ/CtejcD0Kxz+amZmZmZnJPylcj8L1KMw/uB6F61G4zj+kcD0K16PQP+xRuB6F69E/MzMzMzMz0z97FK5H4XrUP8P1KFyPwtU/CtejcD0K1z9SuB6F61HYP5qZmZmZmdk/4XoUrkfh2j8pXI/C9SjcP3E9CtejcN0/uB6F61G43j8AAAAAAADgP6RwPQrXo+A/SOF6FK5H4T/sUbgehevhP4/C9Shcj+I/MzMzMzMz4z/Xo3A9CtfjP3sUrkfheuQ/H4XrUbge5T/D9Shcj8LlP2dmZmZmZuY/CtejcD0K5z+uR+F6FK7nP1K4HoXrUeg/9ihcj8L16D+amZmZmZnpPz4K16NwPeo/4XoUrkfh6j+F61G4HoXrPylcj8L1KOw/zczMzMzM7D9xPQrXo3DtPxWuR+F6FO4/uB6F61G47j9cj8L1KFzvPw==\",\"dtype\":\"float64\",\"order\":\"little\",\"shape\":[50]},\"right\":{\"__ndarray__\":\"exSuR+F6lD97FK5H4XqkP7gehetRuK4/exSuR+F6tD+amZmZmZm5P7gehetRuL4/7FG4HoXrwT97FK5H4XrEPwrXo3A9Csc/mpmZmZmZyT8pXI/C9SjMP7gehetRuM4/pHA9Ctej0D/sUbgehevRPzMzMzMzM9M/exSuR+F61D/D9Shcj8LVPwrXo3A9Ctc/UrgehetR2D+amZmZmZnZP+F6FK5H4do/KVyPwvUo3D9xPQrXo3DdP7gehetRuN4/AAAAAAAA4D+kcD0K16PgP0jhehSuR+E/7FG4HoXr4T+PwvUoXI/iPzMzMzMzM+M/16NwPQrX4z97FK5H4XrkPx+F61G4HuU/w/UoXI/C5T9nZmZmZmbmPwrXo3A9Cuc/rkfhehSu5z9SuB6F61HoP/YoXI/C9eg/mpmZmZmZ6T8+CtejcD3qP+F6FK5H4eo/hetRuB6F6z8pXI/C9SjsP83MzMzMzOw/cT0K16Nw7T8VrkfhehTuP7gehetRuO4/XI/C9Shc7z8AAAAAAADwPw==\",\"dtype\":\"float64\",\"order\":\"little\",\"shape\":[50]},\"top\":{\"__ndarray__\":\"8hh5jDxG3j/C4GBwMDi4P5KoSFQkKsI/hJpCTaGm4D/B4GBwMDjoP7LL1+Xr8vU/0/xsfjY/+z8CJ3+Tv8n/P4eaQk2hpgBAvOBgcDA4+D/Y9en6dH36P6C2TlunrfM/8B/8D/4H/z+MqEhUJCryPxAnf5O/ye8/0/xsfjY/+z+BmkJNoabwPwMZeYw8Ru4/9yZ/k7/J7z/fCnOFucLsP5WhxdBiaPE/9yZ/k7/J7z+BmkJNoabwP6Gvy9fl6/I/jKhIVCQq8j/N9en6dH36P/cmf5O/ye8/qsvX5evy9T+xr8vX5evyP9P8bH42P/s/qsvX5evy9T+lxFRiKjH1P8fuZnezu+k/k6/L1+Xr8j/qGHmMPEbuP5uaQk2hpvA/0/xsfjY/6z/T/Gx+Nj/rP7DSWmmttOY/0/xsfjY/6z+MqEhUJCriPwwLc4W5wuw/gZpCTaGm4D/fCnOFucLsP+oYeYw8Ru4/jKhIVCQqwj+84GBwMDjIP6qoSFQkKtI/vOBgcDA4qD+84GBwMDioPw==\",\"dtype\":\"float64\",\"order\":\"little\",\"shape\":[50]}},\"selected\":{\"id\":\"1162\"},\"selection_policy\":{\"id\":\"1161\"}},\"id\":\"1146\",\"type\":\"ColumnDataSource\"},{\"attributes\":{\"data\":{\"x\":{\"__ndarray__\":\"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\",\"dtype\":\"float64\",\"order\":\"little\",\"shape\":[1000]},\"y\":{\"__ndarray__\":\"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\",\"dtype\":\"float64\",\"order\":\"little\",\"shape\":[1000]}},\"selected\":{\"id\":\"1182\"},\"selection_policy\":{\"id\":\"1181\"}},\"id\":\"1167\",\"type\":\"ColumnDataSource\"},{\"attributes\":{\"source\":{\"id\":\"1167\"}},\"id\":\"1171\",\"type\":\"CDSView\"},{\"attributes\":{\"line_alpha\":0.1,\"line_color\":\"orange\",\"line_width\":2,\"x\":{\"field\":\"x\"},\"y\":{\"field\":\"y\"}},\"id\":\"1169\",\"type\":\"Line\"},{\"attributes\":{},\"id\":\"1161\",\"type\":\"UnionRenderers\"},{\"attributes\":{\"label\":{\"value\":\"CDF\"},\"renderers\":[{\"id\":\"1170\"}]},\"id\":\"1183\",\"type\":\"LegendItem\"},{\"attributes\":{},\"id\":\"1162\",\"type\":\"Selection\"},{\"attributes\":{},\"id\":\"1133\",\"type\":\"LinearScale\"},{\"attributes\":{},\"id\":\"1158\",\"type\":\"BasicTickFormatter\"},{\"attributes\":{\"text\":\"Normal Distribution (\\u03bc=0.4419379880160178, \\u03c3=0.242062059951728)\"},\"id\":\"1127\",\"type\":\"Title\"},{\"attributes\":{\"label\":{\"value\":\"PDF\"},\"renderers\":[{\"id\":\"1154\"}]},\"id\":\"1166\",\"type\":\"LegendItem\"},{\"attributes\":{},\"id\":\"1181\",\"type\":\"UnionRenderers\"},{\"attributes\":{\"source\":{\"id\":\"1146\"}},\"id\":\"1150\",\"type\":\"CDSView\"},{\"attributes\":{\"axis\":{\"id\":\"1141\"},\"dimension\":1,\"grid_line_color\":\"white\",\"ticker\":null},\"id\":\"1144\",\"type\":\"Grid\"},{\"attributes\":{\"data\":{\"x\":{\"__ndarray__\":\"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\",\"dtype\":\"float64\",\"order\":\"little\",\"shape\":[1000]},\"y\":{\"__ndarray__\":\"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\",\"dtype\":\"float64\",\"order\":\"little\",\"shape\":[1000]}},\"selected\":{\"id\":\"1164\"},\"selection_policy\":{\"id\":\"1163\"}},\"id\":\"1151\",\"type\":\"ColumnDataSource\"},{\"attributes\":{},\"id\":\"1163\",\"type\":\"UnionRenderers\"},{\"attributes\":{\"data_source\":{\"id\":\"1146\"},\"glyph\":{\"id\":\"1147\"},\"hover_glyph\":null,\"muted_glyph\":null,\"nonselection_glyph\":{\"id\":\"1148\"},\"selection_glyph\":null,\"view\":{\"id\":\"1150\"}},\"id\":\"1149\",\"type\":\"GlyphRenderer\"},{\"attributes\":{},\"id\":\"1138\",\"type\":\"BasicTicker\"},{\"attributes\":{},\"id\":\"1160\",\"type\":\"BasicTickFormatter\"},{\"attributes\":{},\"id\":\"1164\",\"type\":\"Selection\"},{\"attributes\":{\"start\":0},\"id\":\"1131\",\"type\":\"DataRange1d\"},{\"attributes\":{},\"id\":\"1135\",\"type\":\"LinearScale\"},{\"attributes\":{\"axis_label\":\"x\",\"formatter\":{\"id\":\"1160\"},\"ticker\":{\"id\":\"1138\"}},\"id\":\"1137\",\"type\":\"LinearAxis\"},{\"attributes\":{\"line_alpha\":0.7,\"line_color\":\"#ff8888\",\"line_width\":4,\"x\":{\"field\":\"x\"},\"y\":{\"field\":\"y\"}},\"id\":\"1152\",\"type\":\"Line\"},{\"attributes\":{\"active_drag\":\"auto\",\"active_inspect\":\"auto\",\"active_multi\":null,\"active_scroll\":\"auto\",\"active_tap\":\"auto\"},\"id\":\"1145\",\"type\":\"Toolbar\"},{\"attributes\":{\"axis\":{\"id\":\"1137\"},\"grid_line_color\":\"white\",\"ticker\":null},\"id\":\"1140\",\"type\":\"Grid\"},{\"attributes\":{\"bottom\":{\"value\":0},\"fill_alpha\":{\"value\":0.1},\"fill_color\":{\"value\":\"navy\"},\"left\":{\"field\":\"left\"},\"line_alpha\":{\"value\":0.1},\"line_color\":{\"value\":\"white\"},\"right\":{\"field\":\"right\"},\"top\":{\"field\":\"top\"}},\"id\":\"1148\",\"type\":\"Quad\"},{\"attributes\":{},\"id\":\"1182\",\"type\":\"Selection\"},{\"attributes\":{\"axis_label\":\"Pr(x)\",\"formatter\":{\"id\":\"1158\"},\"ticker\":{\"id\":\"1142\"}},\"id\":\"1141\",\"type\":\"LinearAxis\"},{\"attributes\":{\"background_fill_color\":\"#fefefe\",\"items\":[{\"id\":\"1166\"},{\"id\":\"1183\"}],\"location\":\"center_right\"},\"id\":\"1165\",\"type\":\"Legend\"},{\"attributes\":{\"source\":{\"id\":\"1151\"}},\"id\":\"1155\",\"type\":\"CDSView\"},{\"attributes\":{\"bottom\":{\"value\":0},\"fill_alpha\":{\"value\":0.5},\"fill_color\":{\"value\":\"navy\"},\"left\":{\"field\":\"left\"},\"line_alpha\":{\"value\":0.5},\"line_color\":{\"value\":\"white\"},\"right\":{\"field\":\"right\"},\"top\":{\"field\":\"top\"}},\"id\":\"1147\",\"type\":\"Quad\"}],\"root_ids\":[\"1126\"]},\"title\":\"Bokeh Application\",\"version\":\"2.2.3\"}};\n",
       "  var render_items = [{\"docid\":\"43c01169-54cf-40eb-b13f-ed2fbdf81bee\",\"root_ids\":[\"1126\"],\"roots\":{\"1126\":\"f94f688c-87b8-46a3-ad17-6ef128a8ccb5\"}}];\n",
       "  root.Bokeh.embed.embed_items_notebook(docs_json, render_items);\n",
       "\n",
       "  }\n",
       "  if (root.Bokeh !== undefined) {\n",
       "    embed_document(root);\n",
       "  } else {\n",
       "    var attempts = 0;\n",
       "    var timer = setInterval(function(root) {\n",
       "      if (root.Bokeh !== undefined) {\n",
       "        clearInterval(timer);\n",
       "        embed_document(root);\n",
       "      } else {\n",
       "        attempts++;\n",
       "        if (attempts > 100) {\n",
       "          clearInterval(timer);\n",
       "          console.log(\"Bokeh: ERROR: Unable to run BokehJS code because BokehJS library is missing\");\n",
       "        }\n",
       "      }\n",
       "    }, 10, root)\n",
       "  }\n",
       "})(window);"
      ],
      "application/vnd.bokehjs_exec.v0+json": ""
     },
     "metadata": {
      "application/vnd.bokehjs_exec.v0+json": {
       "id": "1126"
      }
     },
     "output_type": "display_data"
    }
   ],
   "source": [
    "_ = norm.normal_dist_plot(avail_porosity_scaled_data_drop)"
   ]
  },
  {
   "cell_type": "markdown",
   "metadata": {},
   "source": [
    "## ERA5-MERIT Potential Runoff"
   ]
  },
  {
   "cell_type": "code",
   "execution_count": 10,
   "metadata": {},
   "outputs": [],
   "source": [
    "# Get a single example image \n",
    "pot_runoff_clim = ee.ImageCollection(\n",
    "    'users/jamesmcc/era5_merit_potential_sfc_runoff_conus_climatology')\n",
    "\n",
    "pot_runoff_img = (\n",
    "    pot_runoff_clim\n",
    "    .filter(ee.Filter.eq('month', month))\n",
    "    .filter(ee.Filter.eq('variable', 'potential_sfc_runoff_mon_clim_cms')).first())\n",
    "\n",
    "# Mask to a usable range\n",
    "runoff_mask = pot_runoff_img.lte(.5).And(pot_runoff_img.gte(.01))\n",
    "\n",
    "pot_runoff_img_scaled = norm.img_scale(\n",
    "    pot_runoff_img.updateMask(runoff_mask), \n",
    "    area_of_interest=common.bboxes()['conus'])"
   ]
  },
  {
   "cell_type": "code",
   "execution_count": 11,
   "metadata": {},
   "outputs": [],
   "source": [
    "# Image.sampleRectangle: Too many pixels in sample; must be <= 262144. Got 2047606081.\n",
    "# https://gis.stackexchange.com/questions/350771/earth-engine-simplest-way-to-move-from-ee-image-to-array-for-use-in-sklearn/351177#351177\n",
    "# runoff_missing = -99999\n",
    "# pot_runoff_data = np.array(\n",
    "#         pot_runoff_img_scaled\n",
    "#         .sampleRectangle(bbox, ['potential_sfc_runoff_mon_clim_cms'], smap_missing)\n",
    "#         .get('potential_sfc_runoff_mon_clim_cms')\n",
    "#         .getInfo())\n",
    "# pot_runoff_data_mask = np.ma.masked_values(pot_runoff_data, smap_missing)\n",
    "# pot_runoff_data_drop = pot_runoff_data_mask[~pot_runoff_data_mask.mask]"
   ]
  },
  {
   "cell_type": "code",
   "execution_count": 12,
   "metadata": {},
   "outputs": [],
   "source": [
    "# print(pot_runoff_data)"
   ]
  },
  {
   "cell_type": "code",
   "execution_count": 13,
   "metadata": {},
   "outputs": [],
   "source": [
    "# pot_runoff_data_mask\n",
    "# pot_runoff_data_drop"
   ]
  },
  {
   "cell_type": "code",
   "execution_count": 14,
   "metadata": {},
   "outputs": [],
   "source": [
    "# _ = norm.normal_dist_plot(avail_porosity_data_drop)"
   ]
  },
  {
   "cell_type": "markdown",
   "metadata": {},
   "source": [
    "## MERIT Terrain Slope"
   ]
  },
  {
   "cell_type": "code",
   "execution_count": 15,
   "metadata": {},
   "outputs": [],
   "source": [
    "slope_img = ee.Image('users/jamesmcc/merit_slope/merit_terrain_slope')\n",
    "slope_mask = slope_img.lte(9).And(slope_img.gte(2))"
   ]
  },
  {
   "cell_type": "code",
   "execution_count": 16,
   "metadata": {},
   "outputs": [],
   "source": [
    "# This dosent really need scaled, just a mask?\n",
    "#slope_img_scaled = norm.img_scale(slope_img, area_of_interest=common.bboxes()['conus'])"
   ]
  },
  {
   "cell_type": "markdown",
   "metadata": {},
   "source": [
    "## Product 1\n",
    "Simply give higher scores to places that have both high potential runoff and available porosity in only areas with acceptable slopes"
   ]
  },
  {
   "cell_type": "code",
   "execution_count": 17,
   "metadata": {},
   "outputs": [],
   "source": [
    "product_1 = avail_porosity_img_scaled.multiply(pot_runoff_img_scaled).updateMask(slope_mask).updateMask(runoff_mask)"
   ]
  },
  {
   "cell_type": "code",
   "execution_count": 18,
   "metadata": {},
   "outputs": [
    {
     "data": {
      "text/html": [
       "\n",
       "\n",
       "\n",
       "\n",
       "\n",
       "\n",
       "  <div class=\"bk-root\" id=\"a7e96486-a864-4c99-9867-0bf8a66acd6d\" data-root-id=\"1261\"></div>\n"
      ]
     },
     "metadata": {},
     "output_type": "display_data"
    },
    {
     "data": {
      "application/javascript": [
       "(function(root) {\n",
       "  function embed_document(root) {\n",
       "    \n",
       "  var docs_json = {\"d05251c2-665b-47c9-a7a5-468a76fe4243\":{\"roots\":{\"references\":[{\"attributes\":{\"below\":[{\"id\":\"1272\"}],\"center\":[{\"id\":\"1275\"},{\"id\":\"1279\"}],\"left\":[{\"id\":\"1276\"}],\"plot_height\":75,\"plot_width\":500,\"renderers\":[{\"id\":\"1297\"}],\"title\":{\"id\":\"1262\"},\"toolbar\":{\"id\":\"1287\"},\"x_range\":{\"id\":\"1264\"},\"x_scale\":{\"id\":\"1268\"},\"y_range\":{\"id\":\"1266\"},\"y_scale\":{\"id\":\"1270\"}},\"id\":\"1261\",\"subtype\":\"Figure\",\"type\":\"Plot\"},{\"attributes\":{},\"id\":\"1285\",\"type\":\"HelpTool\"},{\"attributes\":{},\"id\":\"1266\",\"type\":\"DataRange1d\"},{\"attributes\":{},\"id\":\"1270\",\"type\":\"LinearScale\"},{\"attributes\":{},\"id\":\"1273\",\"type\":\"BasicTicker\"},{\"attributes\":{\"axis\":{\"id\":\"1276\"},\"dimension\":1,\"ticker\":null},\"id\":\"1279\",\"type\":\"Grid\"},{\"attributes\":{\"bottom\":{\"field\":\"bottom\"},\"fill_alpha\":{\"value\":0.1},\"fill_color\":{\"field\":\"fill_color\"},\"line_alpha\":{\"value\":0.1},\"line_color\":{\"field\":\"line_color\"},\"top\":{\"field\":\"top\"},\"width\":{\"value\":0.08620537528488105},\"x\":{\"field\":\"x\"}},\"id\":\"1296\",\"type\":\"VBar\"},{\"attributes\":{\"source\":{\"id\":\"1294\"}},\"id\":\"1298\",\"type\":\"CDSView\"},{\"attributes\":{},\"id\":\"1323\",\"type\":\"BasicTickFormatter\"},{\"attributes\":{\"data_source\":{\"id\":\"1294\"},\"glyph\":{\"id\":\"1295\"},\"hover_glyph\":null,\"muted_glyph\":null,\"nonselection_glyph\":{\"id\":\"1296\"},\"selection_glyph\":null,\"view\":{\"id\":\"1298\"}},\"id\":\"1297\",\"type\":\"GlyphRenderer\"},{\"attributes\":{\"data\":{\"bottom\":[1,1,1,1,1,1,1,1,1,1,1],\"fill_color\":[\"#543005\",\"#8c510a\",\"#bf812d\",\"#dfc27d\",\"#f6e8c3\",\"#f5f5f5\",\"#c7eae5\",\"#80cdc1\",\"#35978f\",\"#01665e\",\"#003c30\"],\"line_color\":[\"#543005\",\"#8c510a\",\"#bf812d\",\"#dfc27d\",\"#f6e8c3\",\"#f5f5f5\",\"#c7eae5\",\"#80cdc1\",\"#35978f\",\"#01665e\",\"#003c30\"],\"top\":[0,0,0,0,0,0,0,0,0,0,0],\"x\":[0.043102687642440525,0.12930806292732158,0.21551343821220262,0.3017188134970837,0.3879241887819647,0.47412956406684575,0.5603349393517268,0.6465403146366079,0.7327456899214889,0.81895106520637,0.905156440491251]},\"selected\":{\"id\":\"1327\"},\"selection_policy\":{\"id\":\"1326\"}},\"id\":\"1294\",\"type\":\"ColumnDataSource\"},{\"attributes\":{},\"id\":\"1264\",\"type\":\"DataRange1d\"},{\"attributes\":{\"formatter\":{\"id\":\"1325\"},\"ticker\":{\"id\":\"1273\"}},\"id\":\"1272\",\"type\":\"LinearAxis\"},{\"attributes\":{\"bottom_units\":\"screen\",\"fill_alpha\":0.5,\"fill_color\":\"lightgrey\",\"left_units\":\"screen\",\"level\":\"overlay\",\"line_alpha\":1.0,\"line_color\":\"black\",\"line_dash\":[4,4],\"line_width\":2,\"right_units\":\"screen\",\"top_units\":\"screen\"},\"id\":\"1286\",\"type\":\"BoxAnnotation\"},{\"attributes\":{},\"id\":\"1325\",\"type\":\"BasicTickFormatter\"},{\"attributes\":{\"formatter\":{\"id\":\"1323\"},\"ticker\":{\"id\":\"1277\"}},\"id\":\"1276\",\"type\":\"LinearAxis\"},{\"attributes\":{},\"id\":\"1268\",\"type\":\"LinearScale\"},{\"attributes\":{\"axis\":{\"id\":\"1272\"},\"ticker\":null},\"id\":\"1275\",\"type\":\"Grid\"},{\"attributes\":{\"active_drag\":\"auto\",\"active_inspect\":\"auto\",\"active_multi\":null,\"active_scroll\":\"auto\",\"active_tap\":\"auto\",\"tools\":[{\"id\":\"1280\"},{\"id\":\"1281\"},{\"id\":\"1282\"},{\"id\":\"1283\"},{\"id\":\"1284\"},{\"id\":\"1285\"}]},\"id\":\"1287\",\"type\":\"Toolbar\"},{\"attributes\":{},\"id\":\"1284\",\"type\":\"ResetTool\"},{\"attributes\":{},\"id\":\"1283\",\"type\":\"SaveTool\"},{\"attributes\":{},\"id\":\"1281\",\"type\":\"WheelZoomTool\"},{\"attributes\":{\"overlay\":{\"id\":\"1286\"}},\"id\":\"1282\",\"type\":\"BoxZoomTool\"},{\"attributes\":{},\"id\":\"1280\",\"type\":\"PanTool\"},{\"attributes\":{},\"id\":\"1277\",\"type\":\"BasicTicker\"},{\"attributes\":{},\"id\":\"1326\",\"type\":\"UnionRenderers\"},{\"attributes\":{\"text\":\"Legend Title (-)\"},\"id\":\"1262\",\"type\":\"Title\"},{\"attributes\":{\"bottom\":{\"field\":\"bottom\"},\"fill_color\":{\"field\":\"fill_color\"},\"line_color\":{\"field\":\"line_color\"},\"top\":{\"field\":\"top\"},\"width\":{\"value\":0.08620537528488105},\"x\":{\"field\":\"x\"}},\"id\":\"1295\",\"type\":\"VBar\"},{\"attributes\":{},\"id\":\"1327\",\"type\":\"Selection\"}],\"root_ids\":[\"1261\"]},\"title\":\"Bokeh Application\",\"version\":\"2.2.3\"}};\n",
       "  var render_items = [{\"docid\":\"d05251c2-665b-47c9-a7a5-468a76fe4243\",\"root_ids\":[\"1261\"],\"roots\":{\"1261\":\"a7e96486-a864-4c99-9867-0bf8a66acd6d\"}}];\n",
       "  root.Bokeh.embed.embed_items_notebook(docs_json, render_items);\n",
       "\n",
       "  }\n",
       "  if (root.Bokeh !== undefined) {\n",
       "    embed_document(root);\n",
       "  } else {\n",
       "    var attempts = 0;\n",
       "    var timer = setInterval(function(root) {\n",
       "      if (root.Bokeh !== undefined) {\n",
       "        clearInterval(timer);\n",
       "        embed_document(root);\n",
       "      } else {\n",
       "        attempts++;\n",
       "        if (attempts > 100) {\n",
       "          clearInterval(timer);\n",
       "          console.log(\"Bokeh: ERROR: Unable to run BokehJS code because BokehJS library is missing\");\n",
       "        }\n",
       "      }\n",
       "    }, 10, root)\n",
       "  }\n",
       "})(window);"
      ],
      "application/vnd.bokehjs_exec.v0+json": ""
     },
     "metadata": {
      "application/vnd.bokehjs_exec.v0+json": {
       "id": "1261"
      }
     },
     "output_type": "display_data"
    }
   ],
   "source": [
    "product_1_range = norm.img_range(product_1, area_of_interest=bbox)\n",
    "\n",
    "palette_name = 'BrBG'\n",
    "palette_len = 11\n",
    "palette = vis.brewer[palette_name][palette_len][::-1]\n",
    "vis.legend(palette=palette, minimum=product_1_range[0], maximum=product_1_range[1])\n",
    "\n",
    "box_corners = bbox.toGeoJSON()['coordinates'][0]\n",
    "center_lon = mean([corner[0] for corner in box_corners])\n",
    "center_lat = mean([corner[1] for corner in box_corners])\n",
    "\n",
    "\n",
    "vis_params = {\n",
    "    'min': product_1_range[0], 'max': product_1_range[1], 'dimensions': 512,\n",
    "    'palette': palette}"
   ]
  },
  {
   "cell_type": "code",
   "execution_count": 19,
   "metadata": {},
   "outputs": [
    {
     "data": {
      "text/html": [
       "<div style=\"width:100%;\"><div style=\"position:relative;width:100%;height:0;padding-bottom:60%;\"><span style=\"color:#565656\">Make this Notebook Trusted to load map: File -> Trust Notebook</span><iframe src=\"about:blank\" style=\"position:absolute;width:100%;height:100%;left:0;top:0;border:none !important;\" data-html=PCFET0NUWVBFIGh0bWw+CjxoZWFkPiAgICAKICAgIDxtZXRhIGh0dHAtZXF1aXY9ImNvbnRlbnQtdHlwZSIgY29udGVudD0idGV4dC9odG1sOyBjaGFyc2V0PVVURi04IiAvPgogICAgCiAgICAgICAgPHNjcmlwdD4KICAgICAgICAgICAgTF9OT19UT1VDSCA9IGZhbHNlOwogICAgICAgICAgICBMX0RJU0FCTEVfM0QgPSBmYWxzZTsKICAgICAgICA8L3NjcmlwdD4KICAgIAogICAgPHNjcmlwdCBzcmM9Imh0dHBzOi8vY2RuLmpzZGVsaXZyLm5ldC9ucG0vbGVhZmxldEAxLjYuMC9kaXN0L2xlYWZsZXQuanMiPjwvc2NyaXB0PgogICAgPHNjcmlwdCBzcmM9Imh0dHBzOi8vY29kZS5qcXVlcnkuY29tL2pxdWVyeS0xLjEyLjQubWluLmpzIj48L3NjcmlwdD4KICAgIDxzY3JpcHQgc3JjPSJodHRwczovL21heGNkbi5ib290c3RyYXBjZG4uY29tL2Jvb3RzdHJhcC8zLjIuMC9qcy9ib290c3RyYXAubWluLmpzIj48L3NjcmlwdD4KICAgIDxzY3JpcHQgc3JjPSJodHRwczovL2NkbmpzLmNsb3VkZmxhcmUuY29tL2FqYXgvbGlicy9MZWFmbGV0LmF3ZXNvbWUtbWFya2Vycy8yLjAuMi9sZWFmbGV0LmF3ZXNvbWUtbWFya2Vycy5qcyI+PC9zY3JpcHQ+CiAgICA8bGluayByZWw9InN0eWxlc2hlZXQiIGhyZWY9Imh0dHBzOi8vY2RuLmpzZGVsaXZyLm5ldC9ucG0vbGVhZmxldEAxLjYuMC9kaXN0L2xlYWZsZXQuY3NzIi8+CiAgICA8bGluayByZWw9InN0eWxlc2hlZXQiIGhyZWY9Imh0dHBzOi8vbWF4Y2RuLmJvb3RzdHJhcGNkbi5jb20vYm9vdHN0cmFwLzMuMi4wL2Nzcy9ib290c3RyYXAubWluLmNzcyIvPgogICAgPGxpbmsgcmVsPSJzdHlsZXNoZWV0IiBocmVmPSJodHRwczovL21heGNkbi5ib290c3RyYXBjZG4uY29tL2Jvb3RzdHJhcC8zLjIuMC9jc3MvYm9vdHN0cmFwLXRoZW1lLm1pbi5jc3MiLz4KICAgIDxsaW5rIHJlbD0ic3R5bGVzaGVldCIgaHJlZj0iaHR0cHM6Ly9tYXhjZG4uYm9vdHN0cmFwY2RuLmNvbS9mb250LWF3ZXNvbWUvNC42LjMvY3NzL2ZvbnQtYXdlc29tZS5taW4uY3NzIi8+CiAgICA8bGluayByZWw9InN0eWxlc2hlZXQiIGhyZWY9Imh0dHBzOi8vY2RuanMuY2xvdWRmbGFyZS5jb20vYWpheC9saWJzL0xlYWZsZXQuYXdlc29tZS1tYXJrZXJzLzIuMC4yL2xlYWZsZXQuYXdlc29tZS1tYXJrZXJzLmNzcyIvPgogICAgPGxpbmsgcmVsPSJzdHlsZXNoZWV0IiBocmVmPSJodHRwczovL3Jhd2Nkbi5naXRoYWNrLmNvbS9weXRob24tdmlzdWFsaXphdGlvbi9mb2xpdW0vbWFzdGVyL2ZvbGl1bS90ZW1wbGF0ZXMvbGVhZmxldC5hd2Vzb21lLnJvdGF0ZS5jc3MiLz4KICAgIDxzdHlsZT5odG1sLCBib2R5IHt3aWR0aDogMTAwJTtoZWlnaHQ6IDEwMCU7bWFyZ2luOiAwO3BhZGRpbmc6IDA7fTwvc3R5bGU+CiAgICA8c3R5bGU+I21hcCB7cG9zaXRpb246YWJzb2x1dGU7dG9wOjA7Ym90dG9tOjA7cmlnaHQ6MDtsZWZ0OjA7fTwvc3R5bGU+CiAgICAKICAgICAgICAgICAgPG1ldGEgbmFtZT0idmlld3BvcnQiIGNvbnRlbnQ9IndpZHRoPWRldmljZS13aWR0aCwKICAgICAgICAgICAgICAgIGluaXRpYWwtc2NhbGU9MS4wLCBtYXhpbXVtLXNjYWxlPTEuMCwgdXNlci1zY2FsYWJsZT1ubyIgLz4KICAgICAgICAgICAgPHN0eWxlPgogICAgICAgICAgICAgICAgI21hcF9jODgxZmRlNzlmMzI0N2E1YjQ2OWRhOTU0MjIzMDViNyB7CiAgICAgICAgICAgICAgICAgICAgcG9zaXRpb246IHJlbGF0aXZlOwogICAgICAgICAgICAgICAgICAgIHdpZHRoOiAxMDAuMCU7CiAgICAgICAgICAgICAgICAgICAgaGVpZ2h0OiA1MDAuMHB4OwogICAgICAgICAgICAgICAgICAgIGxlZnQ6IDAuMCU7CiAgICAgICAgICAgICAgICAgICAgdG9wOiAwLjAlOwogICAgICAgICAgICAgICAgfQogICAgICAgICAgICA8L3N0eWxlPgogICAgICAgIAo8L2hlYWQ+Cjxib2R5PiAgICAKICAgIAogICAgICAgICAgICA8ZGl2IGNsYXNzPSJmb2xpdW0tbWFwIiBpZD0ibWFwX2M4ODFmZGU3OWYzMjQ3YTViNDY5ZGE5NTQyMjMwNWI3IiA+PC9kaXY+CiAgICAgICAgCjwvYm9keT4KPHNjcmlwdD4gICAgCiAgICAKICAgICAgICAgICAgdmFyIG1hcF9jODgxZmRlNzlmMzI0N2E1YjQ2OWRhOTU0MjIzMDViNyA9IEwubWFwKAogICAgICAgICAgICAgICAgIm1hcF9jODgxZmRlNzlmMzI0N2E1YjQ2OWRhOTU0MjIzMDViNyIsCiAgICAgICAgICAgICAgICB7CiAgICAgICAgICAgICAgICAgICAgY2VudGVyOiBbMzcuMSwgLTk1LjldLAogICAgICAgICAgICAgICAgICAgIGNyczogTC5DUlMuRVBTRzM4NTcsCiAgICAgICAgICAgICAgICAgICAgem9vbTogNCwKICAgICAgICAgICAgICAgICAgICB6b29tQ29udHJvbDogdHJ1ZSwKICAgICAgICAgICAgICAgICAgICBwcmVmZXJDYW52YXM6IGZhbHNlLAogICAgICAgICAgICAgICAgfQogICAgICAgICAgICApOwoKICAgICAgICAgICAgCgogICAgICAgIAogICAgCiAgICAgICAgICAgIHZhciB0aWxlX2xheWVyXzhkNWY1ZjllODZjNTRlZDliODJhYmZjNWJmMzBiY2I0ID0gTC50aWxlTGF5ZXIoCiAgICAgICAgICAgICAgICAiaHR0cHM6Ly97c30udGlsZS5vcGVuc3RyZWV0bWFwLm9yZy97en0ve3h9L3t5fS5wbmciLAogICAgICAgICAgICAgICAgeyJhdHRyaWJ1dGlvbiI6ICJEYXRhIGJ5IFx1MDAyNmNvcHk7IFx1MDAzY2EgaHJlZj1cImh0dHA6Ly9vcGVuc3RyZWV0bWFwLm9yZ1wiXHUwMDNlT3BlblN0cmVldE1hcFx1MDAzYy9hXHUwMDNlLCB1bmRlciBcdTAwM2NhIGhyZWY9XCJodHRwOi8vd3d3Lm9wZW5zdHJlZXRtYXAub3JnL2NvcHlyaWdodFwiXHUwMDNlT0RiTFx1MDAzYy9hXHUwMDNlLiIsICJkZXRlY3RSZXRpbmEiOiBmYWxzZSwgIm1heE5hdGl2ZVpvb20iOiAxOCwgIm1heFpvb20iOiAxOCwgIm1pblpvb20iOiAwLCAibm9XcmFwIjogZmFsc2UsICJvcGFjaXR5IjogMSwgInN1YmRvbWFpbnMiOiAiYWJjIiwgInRtcyI6IGZhbHNlfQogICAgICAgICAgICApLmFkZFRvKG1hcF9jODgxZmRlNzlmMzI0N2E1YjQ2OWRhOTU0MjIzMDViNyk7CiAgICAgICAgCiAgICAKICAgICAgICAgICAgdmFyIHRpbGVfbGF5ZXJfZTVhNjk1MjQ0Yjk2NGIxZjg5NmRlMjA1MWY1MTU3OTYgPSBMLnRpbGVMYXllcigKICAgICAgICAgICAgICAgICJodHRwczovL2VhcnRoZW5naW5lLmdvb2dsZWFwaXMuY29tL3YxYWxwaGEvcHJvamVjdHMvZWFydGhlbmdpbmUtbGVnYWN5L21hcHMvNTdmNGViNDVjMjNkZjNkMjNmMjc4MDBjYzA5YTRlOWEtZTRkMGIzMDEyOWVhZDM1ZTcwMmJlMWM0OWQyZWE3ZDkvdGlsZXMve3p9L3t4fS97eX0iLAogICAgICAgICAgICAgICAgeyJhdHRyaWJ1dGlvbiI6ICJNYXAgRGF0YSBcdTAwMjZjb3B5OyBcdTAwM2NhIGhyZWY9XCJodHRwczovL2VhcnRoZW5naW5lLmdvb2dsZS5jb20vXCJcdTAwM2VHb29nbGUgRWFydGggRW5naW5lXHUwMDNjL2FcdTAwM2UiLCAiZGV0ZWN0UmV0aW5hIjogZmFsc2UsICJtYXhOYXRpdmVab29tIjogMTgsICJtYXhab29tIjogMTgsICJtaW5ab29tIjogMCwgIm5vV3JhcCI6IGZhbHNlLCAib3BhY2l0eSI6IDEsICJzdWJkb21haW5zIjogImFiYyIsICJ0bXMiOiBmYWxzZX0KICAgICAgICAgICAgKS5hZGRUbyhtYXBfYzg4MWZkZTc5ZjMyNDdhNWI0NjlkYTk1NDIyMzA1YjcpOwogICAgICAgIAogICAgCiAgICAgICAgICAgIHZhciBsYXllcl9jb250cm9sX2JiNGEyOTBjNTNhODRkMmQ4MWEyNzAyMWFlOTQ1YmQxID0gewogICAgICAgICAgICAgICAgYmFzZV9sYXllcnMgOiB7CiAgICAgICAgICAgICAgICAgICAgIm9wZW5zdHJlZXRtYXAiIDogdGlsZV9sYXllcl84ZDVmNWY5ZTg2YzU0ZWQ5YjgyYWJmYzViZjMwYmNiNCwKICAgICAgICAgICAgICAgIH0sCiAgICAgICAgICAgICAgICBvdmVybGF5cyA6ICB7CiAgICAgICAgICAgICAgICAgICAgIlByb2R1Y3QgMSBKdWwiIDogdGlsZV9sYXllcl9lNWE2OTUyNDRiOTY0YjFmODk2ZGUyMDUxZjUxNTc5NiwKICAgICAgICAgICAgICAgIH0sCiAgICAgICAgICAgIH07CiAgICAgICAgICAgIEwuY29udHJvbC5sYXllcnMoCiAgICAgICAgICAgICAgICBsYXllcl9jb250cm9sX2JiNGEyOTBjNTNhODRkMmQ4MWEyNzAyMWFlOTQ1YmQxLmJhc2VfbGF5ZXJzLAogICAgICAgICAgICAgICAgbGF5ZXJfY29udHJvbF9iYjRhMjkwYzUzYTg0ZDJkODFhMjcwMjFhZTk0NWJkMS5vdmVybGF5cywKICAgICAgICAgICAgICAgIHsiYXV0b1pJbmRleCI6IHRydWUsICJjb2xsYXBzZWQiOiB0cnVlLCAicG9zaXRpb24iOiAidG9wcmlnaHQifQogICAgICAgICAgICApLmFkZFRvKG1hcF9jODgxZmRlNzlmMzI0N2E1YjQ2OWRhOTU0MjIzMDViNyk7CiAgICAgICAgCjwvc2NyaXB0Pg== onload=\"this.contentDocument.open();this.contentDocument.write(atob(this.getAttribute('data-html')));this.contentDocument.close();\" allowfullscreen webkitallowfullscreen mozallowfullscreen></iframe></div></div>"
      ],
      "text/plain": [
       "<folium.folium.Map at 0x7f9fa06ba8b0>"
      ]
     },
     "metadata": {},
     "output_type": "display_data"
    }
   ],
   "source": [
    "the_map = vis.folium_map(location=[center_lat, center_lon], zoom_start=4, height=500)\n",
    "month_names = [\n",
    "    'Jan', 'Feb', 'Mar', 'Apr', 'May', 'Jun', \n",
    "    'Jul', 'Aug', 'Sep', 'Oct', 'Nov', 'Dec']\n",
    "month_name = month_names[month-1]\n",
    "\n",
    "the_map.add_ee_layer(product_1, vis_params, 'Product 1 ' + month_name)\n",
    "\n",
    "vis.folium_display(the_map)"
   ]
  },
  {
   "cell_type": "markdown",
   "metadata": {},
   "source": [
    "## Product 2\n",
    "Ratio of potential_runoff:available_porosity?"
   ]
  },
  {
   "cell_type": "code",
   "execution_count": 20,
   "metadata": {},
   "outputs": [],
   "source": [
    "runoff_pixel_area_m2 = pot_runoff_img.pixelArea()\n",
    "pot_runoff_img_mm = pot_runoff_img.divide(runoff_pixel_area_m2).multiply(seconds_per_month[month-1] * 1000)\n",
    "# pot_runoff_mask = pot_runoff_img_mm.gte(1000)\n",
    "avail_porosity_mask = avail_porosity_img.gte(50)"
   ]
  },
  {
   "cell_type": "code",
   "execution_count": 21,
   "metadata": {},
   "outputs": [
    {
     "data": {
      "text/plain": [
       "[16.847965699571173, 1162.8066667861892]"
      ]
     },
     "execution_count": 21,
     "metadata": {},
     "output_type": "execute_result"
    }
   ],
   "source": [
    "norm.img_range(pot_runoff_img_mm.updateMask(runoff_mask), area_of_interest=bbox)\n",
    "#norm.img_range(pot_runoff_img_mm, area_of_interest=bbox)"
   ]
  },
  {
   "cell_type": "code",
   "execution_count": 22,
   "metadata": {},
   "outputs": [
    {
     "data": {
      "text/plain": [
       "[1147915.625, 1592437.625]"
      ]
     },
     "execution_count": 22,
     "metadata": {},
     "output_type": "execute_result"
    }
   ],
   "source": [
    "norm.img_range(runoff_pixel_area_m2, area_of_interest=bbox)"
   ]
  },
  {
   "cell_type": "code",
   "execution_count": 23,
   "metadata": {},
   "outputs": [
    {
     "data": {
      "text/plain": [
       "[0, 205.34410095214844]"
      ]
     },
     "execution_count": 23,
     "metadata": {},
     "output_type": "execute_result"
    }
   ],
   "source": [
    "norm.img_range(avail_porosity_img, area_of_interest=bbox)"
   ]
  },
  {
   "cell_type": "code",
   "execution_count": null,
   "metadata": {},
   "outputs": [],
   "source": []
  },
  {
   "cell_type": "code",
   "execution_count": 24,
   "metadata": {},
   "outputs": [],
   "source": [
    "product_2_raw = (\n",
    "    pot_runoff_img_mm\n",
    "    .divide(avail_porosity_img)\n",
    "    .updateMask(slope_mask)\n",
    "    .updateMask(avail_porosity_mask)\n",
    "    .updateMask(runoff_mask))\n",
    "product_2_mask = product_2_raw.gte(1)\n",
    "product_2 = product_2_raw.updateMask(product_2_mask)"
   ]
  },
  {
   "cell_type": "code",
   "execution_count": 25,
   "metadata": {},
   "outputs": [
    {
     "data": {
      "text/html": [
       "\n",
       "\n",
       "\n",
       "\n",
       "\n",
       "\n",
       "  <div class=\"bk-root\" id=\"5a384bea-ee60-4752-a3d7-578ae79851a4\" data-root-id=\"1369\"></div>\n"
      ]
     },
     "metadata": {},
     "output_type": "display_data"
    },
    {
     "data": {
      "application/javascript": [
       "(function(root) {\n",
       "  function embed_document(root) {\n",
       "    \n",
       "  var docs_json = {\"a02d1645-620e-4a1f-8610-001ccd447505\":{\"roots\":{\"references\":[{\"attributes\":{\"below\":[{\"id\":\"1380\"}],\"center\":[{\"id\":\"1383\"},{\"id\":\"1387\"}],\"left\":[{\"id\":\"1384\"}],\"plot_height\":75,\"plot_width\":500,\"renderers\":[{\"id\":\"1405\"}],\"title\":{\"id\":\"1370\"},\"toolbar\":{\"id\":\"1395\"},\"x_range\":{\"id\":\"1372\"},\"x_scale\":{\"id\":\"1376\"},\"y_range\":{\"id\":\"1374\"},\"y_scale\":{\"id\":\"1378\"}},\"id\":\"1369\",\"subtype\":\"Figure\",\"type\":\"Plot\"},{\"attributes\":{\"source\":{\"id\":\"1402\"}},\"id\":\"1406\",\"type\":\"CDSView\"},{\"attributes\":{\"data_source\":{\"id\":\"1402\"},\"glyph\":{\"id\":\"1403\"},\"hover_glyph\":null,\"muted_glyph\":null,\"nonselection_glyph\":{\"id\":\"1404\"},\"selection_glyph\":null,\"view\":{\"id\":\"1406\"}},\"id\":\"1405\",\"type\":\"GlyphRenderer\"},{\"attributes\":{\"formatter\":{\"id\":\"1441\"},\"ticker\":{\"id\":\"1381\"}},\"id\":\"1380\",\"type\":\"LinearAxis\"},{\"attributes\":{},\"id\":\"1442\",\"type\":\"UnionRenderers\"},{\"attributes\":{},\"id\":\"1381\",\"type\":\"BasicTicker\"},{\"attributes\":{},\"id\":\"1392\",\"type\":\"ResetTool\"},{\"attributes\":{\"axis\":{\"id\":\"1384\"},\"dimension\":1,\"ticker\":null},\"id\":\"1387\",\"type\":\"Grid\"},{\"attributes\":{\"text\":\"Legend Title (-)\"},\"id\":\"1370\",\"type\":\"Title\"},{\"attributes\":{},\"id\":\"1443\",\"type\":\"Selection\"},{\"attributes\":{\"axis\":{\"id\":\"1380\"},\"ticker\":null},\"id\":\"1383\",\"type\":\"Grid\"},{\"attributes\":{\"bottom\":{\"field\":\"bottom\"},\"fill_color\":{\"field\":\"fill_color\"},\"line_color\":{\"field\":\"line_color\"},\"top\":{\"field\":\"top\"},\"width\":{\"value\":1.8714696683083334},\"x\":{\"field\":\"x\"}},\"id\":\"1403\",\"type\":\"VBar\"},{\"attributes\":{},\"id\":\"1385\",\"type\":\"BasicTicker\"},{\"attributes\":{\"bottom\":{\"field\":\"bottom\"},\"fill_alpha\":{\"value\":0.1},\"fill_color\":{\"field\":\"fill_color\"},\"line_alpha\":{\"value\":0.1},\"line_color\":{\"field\":\"line_color\"},\"top\":{\"field\":\"top\"},\"width\":{\"value\":1.8714696683083334},\"x\":{\"field\":\"x\"}},\"id\":\"1404\",\"type\":\"VBar\"},{\"attributes\":{},\"id\":\"1439\",\"type\":\"BasicTickFormatter\"},{\"attributes\":{},\"id\":\"1393\",\"type\":\"HelpTool\"},{\"attributes\":{\"bottom_units\":\"screen\",\"fill_alpha\":0.5,\"fill_color\":\"lightgrey\",\"left_units\":\"screen\",\"level\":\"overlay\",\"line_alpha\":1.0,\"line_color\":\"black\",\"line_dash\":[4,4],\"line_width\":2,\"right_units\":\"screen\",\"top_units\":\"screen\"},\"id\":\"1394\",\"type\":\"BoxAnnotation\"},{\"attributes\":{},\"id\":\"1374\",\"type\":\"DataRange1d\"},{\"attributes\":{},\"id\":\"1391\",\"type\":\"SaveTool\"},{\"attributes\":{\"overlay\":{\"id\":\"1394\"}},\"id\":\"1390\",\"type\":\"BoxZoomTool\"},{\"attributes\":{\"active_drag\":\"auto\",\"active_inspect\":\"auto\",\"active_multi\":null,\"active_scroll\":\"auto\",\"active_tap\":\"auto\",\"tools\":[{\"id\":\"1388\"},{\"id\":\"1389\"},{\"id\":\"1390\"},{\"id\":\"1391\"},{\"id\":\"1392\"},{\"id\":\"1393\"}]},\"id\":\"1395\",\"type\":\"Toolbar\"},{\"attributes\":{},\"id\":\"1441\",\"type\":\"BasicTickFormatter\"},{\"attributes\":{},\"id\":\"1388\",\"type\":\"PanTool\"},{\"attributes\":{\"formatter\":{\"id\":\"1439\"},\"ticker\":{\"id\":\"1385\"}},\"id\":\"1384\",\"type\":\"LinearAxis\"},{\"attributes\":{},\"id\":\"1378\",\"type\":\"LinearScale\"},{\"attributes\":{\"data\":{\"bottom\":[1,1,1,1,1,1,1,1,1,1,1],\"fill_color\":[\"#543005\",\"#8c510a\",\"#bf812d\",\"#dfc27d\",\"#f6e8c3\",\"#f5f5f5\",\"#c7eae5\",\"#80cdc1\",\"#35978f\",\"#01665e\",\"#003c30\"],\"line_color\":[\"#543005\",\"#8c510a\",\"#bf812d\",\"#dfc27d\",\"#f6e8c3\",\"#f5f5f5\",\"#c7eae5\",\"#80cdc1\",\"#35978f\",\"#01665e\",\"#003c30\"],\"top\":[0,0,0,0,0,0,0,0,0,0,0],\"x\":[1.935739272689284,3.8072089409976173,5.67867860930595,7.5501482776142845,9.421617945922616,11.293087614230952,13.164557282539285,15.036026950847617,16.90749661915595,18.778966287464286,20.65043595577262]},\"selected\":{\"id\":\"1443\"},\"selection_policy\":{\"id\":\"1442\"}},\"id\":\"1402\",\"type\":\"ColumnDataSource\"},{\"attributes\":{},\"id\":\"1372\",\"type\":\"DataRange1d\"},{\"attributes\":{},\"id\":\"1389\",\"type\":\"WheelZoomTool\"},{\"attributes\":{},\"id\":\"1376\",\"type\":\"LinearScale\"}],\"root_ids\":[\"1369\"]},\"title\":\"Bokeh Application\",\"version\":\"2.2.3\"}};\n",
       "  var render_items = [{\"docid\":\"a02d1645-620e-4a1f-8610-001ccd447505\",\"root_ids\":[\"1369\"],\"roots\":{\"1369\":\"5a384bea-ee60-4752-a3d7-578ae79851a4\"}}];\n",
       "  root.Bokeh.embed.embed_items_notebook(docs_json, render_items);\n",
       "\n",
       "  }\n",
       "  if (root.Bokeh !== undefined) {\n",
       "    embed_document(root);\n",
       "  } else {\n",
       "    var attempts = 0;\n",
       "    var timer = setInterval(function(root) {\n",
       "      if (root.Bokeh !== undefined) {\n",
       "        clearInterval(timer);\n",
       "        embed_document(root);\n",
       "      } else {\n",
       "        attempts++;\n",
       "        if (attempts > 100) {\n",
       "          clearInterval(timer);\n",
       "          console.log(\"Bokeh: ERROR: Unable to run BokehJS code because BokehJS library is missing\");\n",
       "        }\n",
       "      }\n",
       "    }, 10, root)\n",
       "  }\n",
       "})(window);"
      ],
      "application/vnd.bokehjs_exec.v0+json": ""
     },
     "metadata": {
      "application/vnd.bokehjs_exec.v0+json": {
       "id": "1369"
      }
     },
     "output_type": "display_data"
    }
   ],
   "source": [
    "product_2_range = norm.img_range(product_2, area_of_interest=bbox)\n",
    "\n",
    "\n",
    "palette_name = 'BrBG'\n",
    "palette_len = 11\n",
    "palette = vis.brewer[palette_name][palette_len][::-1]\n",
    "vis.legend(palette=palette, minimum=product_2_range[0], maximum=product_2_range[1])\n",
    "\n",
    "box_corners = bbox.toGeoJSON()['coordinates'][0]\n",
    "center_lon = mean([corner[0] for corner in box_corners])\n",
    "center_lat = mean([corner[1] for corner in box_corners])\n",
    "\n",
    "vis_params = {\n",
    "    'min': product_2_range[0], 'max': product_2_range[1], 'dimensions': 512,\n",
    "    'palette': palette}"
   ]
  },
  {
   "cell_type": "code",
   "execution_count": 26,
   "metadata": {},
   "outputs": [
    {
     "data": {
      "text/html": [
       "<div style=\"width:100%;\"><div style=\"position:relative;width:100%;height:0;padding-bottom:60%;\"><span style=\"color:#565656\">Make this Notebook Trusted to load map: File -> Trust Notebook</span><iframe src=\"about:blank\" style=\"position:absolute;width:100%;height:100%;left:0;top:0;border:none !important;\" data-html=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 onload=\"this.contentDocument.open();this.contentDocument.write(atob(this.getAttribute('data-html')));this.contentDocument.close();\" allowfullscreen webkitallowfullscreen mozallowfullscreen></iframe></div></div>"
      ],
      "text/plain": [
       "<folium.folium.Map at 0x7f9fa06ba6a0>"
      ]
     },
     "metadata": {},
     "output_type": "display_data"
    }
   ],
   "source": [
    "the_map = vis.folium_map(location=[center_lat, center_lon], zoom_start=4, height=500)\n",
    "the_map.add_ee_layer(product_2, vis_params, 'Product 2: ' + month_name)\n",
    "vis.folium_display(the_map)"
   ]
  },
  {
   "cell_type": "code",
   "execution_count": null,
   "metadata": {},
   "outputs": [],
   "source": []
  }
 ],
 "metadata": {
  "kernelspec": {
   "display_name": "Python 3",
   "language": "python",
   "name": "python3"
  },
  "language_info": {
   "codemirror_mode": {
    "name": "ipython",
    "version": 3
   },
   "file_extension": ".py",
   "mimetype": "text/x-python",
   "name": "python",
   "nbconvert_exporter": "python",
   "pygments_lexer": "ipython3",
   "version": "3.8.3"
  }
 },
 "nbformat": 4,
 "nbformat_minor": 4
}
