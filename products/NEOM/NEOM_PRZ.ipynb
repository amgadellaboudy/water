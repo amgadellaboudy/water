{
 "cells": [
  {
   "cell_type": "markdown",
   "metadata": {},
   "source": [
    "# NEOM Potential Recharge Zones (region swale potential)\n",
    "\n",
    "Amgad, James, Josh\n",
    "\n",
    "Mapping NEOM region for suitability of building features (such as swales) to capture surface/ sub-surface water, mainly to build up plant-available water in the soil.\n",
    "\n",
    "Layers/ Factors:\n",
    "1. Slope : Restricted to [0-10 degrees], gradual slopes are more desirable\n",
    "2. Top Soil Types: Medium texture (loam/ silt) score highest, second is fine clays, and last is coarse sands for retaining plant-avaialble water\n",
    "3. Runoff: Higher runoff is better, masked to values only above 1E-3 mm per grid box\n",
    "\n",
    "## Preliminaries"
   ]
  },
  {
   "cell_type": "code",
   "execution_count": 1,
   "metadata": {},
   "outputs": [
    {
     "data": {
      "text/html": [
       "\n",
       "    <div class=\"bk-root\">\n",
       "        <a href=\"https://bokeh.org\" target=\"_blank\" class=\"bk-logo bk-logo-small bk-logo-notebook\"></a>\n",
       "        <span id=\"1001\">Loading BokehJS ...</span>\n",
       "    </div>"
      ]
     },
     "metadata": {},
     "output_type": "display_data"
    },
    {
     "data": {
      "application/javascript": [
       "\n",
       "(function(root) {\n",
       "  function now() {\n",
       "    return new Date();\n",
       "  }\n",
       "\n",
       "  var force = true;\n",
       "\n",
       "  if (typeof root._bokeh_onload_callbacks === \"undefined\" || force === true) {\n",
       "    root._bokeh_onload_callbacks = [];\n",
       "    root._bokeh_is_loading = undefined;\n",
       "  }\n",
       "\n",
       "  var JS_MIME_TYPE = 'application/javascript';\n",
       "  var HTML_MIME_TYPE = 'text/html';\n",
       "  var EXEC_MIME_TYPE = 'application/vnd.bokehjs_exec.v0+json';\n",
       "  var CLASS_NAME = 'output_bokeh rendered_html';\n",
       "\n",
       "  /**\n",
       "   * Render data to the DOM node\n",
       "   */\n",
       "  function render(props, node) {\n",
       "    var script = document.createElement(\"script\");\n",
       "    node.appendChild(script);\n",
       "  }\n",
       "\n",
       "  /**\n",
       "   * Handle when an output is cleared or removed\n",
       "   */\n",
       "  function handleClearOutput(event, handle) {\n",
       "    var cell = handle.cell;\n",
       "\n",
       "    var id = cell.output_area._bokeh_element_id;\n",
       "    var server_id = cell.output_area._bokeh_server_id;\n",
       "    // Clean up Bokeh references\n",
       "    if (id != null && id in Bokeh.index) {\n",
       "      Bokeh.index[id].model.document.clear();\n",
       "      delete Bokeh.index[id];\n",
       "    }\n",
       "\n",
       "    if (server_id !== undefined) {\n",
       "      // Clean up Bokeh references\n",
       "      var cmd = \"from bokeh.io.state import curstate; print(curstate().uuid_to_server['\" + server_id + \"'].get_sessions()[0].document.roots[0]._id)\";\n",
       "      cell.notebook.kernel.execute(cmd, {\n",
       "        iopub: {\n",
       "          output: function(msg) {\n",
       "            var id = msg.content.text.trim();\n",
       "            if (id in Bokeh.index) {\n",
       "              Bokeh.index[id].model.document.clear();\n",
       "              delete Bokeh.index[id];\n",
       "            }\n",
       "          }\n",
       "        }\n",
       "      });\n",
       "      // Destroy server and session\n",
       "      var cmd = \"import bokeh.io.notebook as ion; ion.destroy_server('\" + server_id + \"')\";\n",
       "      cell.notebook.kernel.execute(cmd);\n",
       "    }\n",
       "  }\n",
       "\n",
       "  /**\n",
       "   * Handle when a new output is added\n",
       "   */\n",
       "  function handleAddOutput(event, handle) {\n",
       "    var output_area = handle.output_area;\n",
       "    var output = handle.output;\n",
       "\n",
       "    // limit handleAddOutput to display_data with EXEC_MIME_TYPE content only\n",
       "    if ((output.output_type != \"display_data\") || (!output.data.hasOwnProperty(EXEC_MIME_TYPE))) {\n",
       "      return\n",
       "    }\n",
       "\n",
       "    var toinsert = output_area.element.find(\".\" + CLASS_NAME.split(' ')[0]);\n",
       "\n",
       "    if (output.metadata[EXEC_MIME_TYPE][\"id\"] !== undefined) {\n",
       "      toinsert[toinsert.length - 1].firstChild.textContent = output.data[JS_MIME_TYPE];\n",
       "      // store reference to embed id on output_area\n",
       "      output_area._bokeh_element_id = output.metadata[EXEC_MIME_TYPE][\"id\"];\n",
       "    }\n",
       "    if (output.metadata[EXEC_MIME_TYPE][\"server_id\"] !== undefined) {\n",
       "      var bk_div = document.createElement(\"div\");\n",
       "      bk_div.innerHTML = output.data[HTML_MIME_TYPE];\n",
       "      var script_attrs = bk_div.children[0].attributes;\n",
       "      for (var i = 0; i < script_attrs.length; i++) {\n",
       "        toinsert[toinsert.length - 1].firstChild.setAttribute(script_attrs[i].name, script_attrs[i].value);\n",
       "        toinsert[toinsert.length - 1].firstChild.textContent = bk_div.children[0].textContent\n",
       "      }\n",
       "      // store reference to server id on output_area\n",
       "      output_area._bokeh_server_id = output.metadata[EXEC_MIME_TYPE][\"server_id\"];\n",
       "    }\n",
       "  }\n",
       "\n",
       "  function register_renderer(events, OutputArea) {\n",
       "\n",
       "    function append_mime(data, metadata, element) {\n",
       "      // create a DOM node to render to\n",
       "      var toinsert = this.create_output_subarea(\n",
       "        metadata,\n",
       "        CLASS_NAME,\n",
       "        EXEC_MIME_TYPE\n",
       "      );\n",
       "      this.keyboard_manager.register_events(toinsert);\n",
       "      // Render to node\n",
       "      var props = {data: data, metadata: metadata[EXEC_MIME_TYPE]};\n",
       "      render(props, toinsert[toinsert.length - 1]);\n",
       "      element.append(toinsert);\n",
       "      return toinsert\n",
       "    }\n",
       "\n",
       "    /* Handle when an output is cleared or removed */\n",
       "    events.on('clear_output.CodeCell', handleClearOutput);\n",
       "    events.on('delete.Cell', handleClearOutput);\n",
       "\n",
       "    /* Handle when a new output is added */\n",
       "    events.on('output_added.OutputArea', handleAddOutput);\n",
       "\n",
       "    /**\n",
       "     * Register the mime type and append_mime function with output_area\n",
       "     */\n",
       "    OutputArea.prototype.register_mime_type(EXEC_MIME_TYPE, append_mime, {\n",
       "      /* Is output safe? */\n",
       "      safe: true,\n",
       "      /* Index of renderer in `output_area.display_order` */\n",
       "      index: 0\n",
       "    });\n",
       "  }\n",
       "\n",
       "  // register the mime type if in Jupyter Notebook environment and previously unregistered\n",
       "  if (root.Jupyter !== undefined) {\n",
       "    var events = require('base/js/events');\n",
       "    var OutputArea = require('notebook/js/outputarea').OutputArea;\n",
       "\n",
       "    if (OutputArea.prototype.mime_types().indexOf(EXEC_MIME_TYPE) == -1) {\n",
       "      register_renderer(events, OutputArea);\n",
       "    }\n",
       "  }\n",
       "\n",
       "  \n",
       "  if (typeof (root._bokeh_timeout) === \"undefined\" || force === true) {\n",
       "    root._bokeh_timeout = Date.now() + 5000;\n",
       "    root._bokeh_failed_load = false;\n",
       "  }\n",
       "\n",
       "  var NB_LOAD_WARNING = {'data': {'text/html':\n",
       "     \"<div style='background-color: #fdd'>\\n\"+\n",
       "     \"<p>\\n\"+\n",
       "     \"BokehJS does not appear to have successfully loaded. If loading BokehJS from CDN, this \\n\"+\n",
       "     \"may be due to a slow or bad network connection. Possible fixes:\\n\"+\n",
       "     \"</p>\\n\"+\n",
       "     \"<ul>\\n\"+\n",
       "     \"<li>re-rerun `output_notebook()` to attempt to load from CDN again, or</li>\\n\"+\n",
       "     \"<li>use INLINE resources instead, as so:</li>\\n\"+\n",
       "     \"</ul>\\n\"+\n",
       "     \"<code>\\n\"+\n",
       "     \"from bokeh.resources import INLINE\\n\"+\n",
       "     \"output_notebook(resources=INLINE)\\n\"+\n",
       "     \"</code>\\n\"+\n",
       "     \"</div>\"}};\n",
       "\n",
       "  function display_loaded() {\n",
       "    var el = document.getElementById(\"1001\");\n",
       "    if (el != null) {\n",
       "      el.textContent = \"BokehJS is loading...\";\n",
       "    }\n",
       "    if (root.Bokeh !== undefined) {\n",
       "      if (el != null) {\n",
       "        el.textContent = \"BokehJS \" + root.Bokeh.version + \" successfully loaded.\";\n",
       "      }\n",
       "    } else if (Date.now() < root._bokeh_timeout) {\n",
       "      setTimeout(display_loaded, 100)\n",
       "    }\n",
       "  }\n",
       "\n",
       "\n",
       "  function run_callbacks() {\n",
       "    try {\n",
       "      root._bokeh_onload_callbacks.forEach(function(callback) {\n",
       "        if (callback != null)\n",
       "          callback();\n",
       "      });\n",
       "    } finally {\n",
       "      delete root._bokeh_onload_callbacks\n",
       "    }\n",
       "    console.debug(\"Bokeh: all callbacks have finished\");\n",
       "  }\n",
       "\n",
       "  function load_libs(css_urls, js_urls, callback) {\n",
       "    if (css_urls == null) css_urls = [];\n",
       "    if (js_urls == null) js_urls = [];\n",
       "\n",
       "    root._bokeh_onload_callbacks.push(callback);\n",
       "    if (root._bokeh_is_loading > 0) {\n",
       "      console.debug(\"Bokeh: BokehJS is being loaded, scheduling callback at\", now());\n",
       "      return null;\n",
       "    }\n",
       "    if (js_urls == null || js_urls.length === 0) {\n",
       "      run_callbacks();\n",
       "      return null;\n",
       "    }\n",
       "    console.debug(\"Bokeh: BokehJS not loaded, scheduling load and callback at\", now());\n",
       "    root._bokeh_is_loading = css_urls.length + js_urls.length;\n",
       "\n",
       "    function on_load() {\n",
       "      root._bokeh_is_loading--;\n",
       "      if (root._bokeh_is_loading === 0) {\n",
       "        console.debug(\"Bokeh: all BokehJS libraries/stylesheets loaded\");\n",
       "        run_callbacks()\n",
       "      }\n",
       "    }\n",
       "\n",
       "    function on_error() {\n",
       "      console.error(\"failed to load \" + url);\n",
       "    }\n",
       "\n",
       "    for (var i = 0; i < css_urls.length; i++) {\n",
       "      var url = css_urls[i];\n",
       "      const element = document.createElement(\"link\");\n",
       "      element.onload = on_load;\n",
       "      element.onerror = on_error;\n",
       "      element.rel = \"stylesheet\";\n",
       "      element.type = \"text/css\";\n",
       "      element.href = url;\n",
       "      console.debug(\"Bokeh: injecting link tag for BokehJS stylesheet: \", url);\n",
       "      document.body.appendChild(element);\n",
       "    }\n",
       "\n",
       "    const hashes = {\"https://cdn.bokeh.org/bokeh/release/bokeh-2.2.3.min.js\": \"T2yuo9Oe71Cz/I4X9Ac5+gpEa5a8PpJCDlqKYO0CfAuEszu1JrXLl8YugMqYe3sM\", \"https://cdn.bokeh.org/bokeh/release/bokeh-widgets-2.2.3.min.js\": \"98GDGJ0kOMCUMUePhksaQ/GYgB3+NH9h996V88sh3aOiUNX3N+fLXAtry6xctSZ6\", \"https://cdn.bokeh.org/bokeh/release/bokeh-tables-2.2.3.min.js\": \"89bArO+nlbP3sgakeHjCo1JYxYR5wufVgA3IbUvDY+K7w4zyxJqssu7wVnfeKCq8\"};\n",
       "\n",
       "    for (var i = 0; i < js_urls.length; i++) {\n",
       "      var url = js_urls[i];\n",
       "      var element = document.createElement('script');\n",
       "      element.onload = on_load;\n",
       "      element.onerror = on_error;\n",
       "      element.async = false;\n",
       "      element.src = url;\n",
       "      if (url in hashes) {\n",
       "        element.crossOrigin = \"anonymous\";\n",
       "        element.integrity = \"sha384-\" + hashes[url];\n",
       "      }\n",
       "      console.debug(\"Bokeh: injecting script tag for BokehJS library: \", url);\n",
       "      document.head.appendChild(element);\n",
       "    }\n",
       "  };\n",
       "\n",
       "  function inject_raw_css(css) {\n",
       "    const element = document.createElement(\"style\");\n",
       "    element.appendChild(document.createTextNode(css));\n",
       "    document.body.appendChild(element);\n",
       "  }\n",
       "\n",
       "  \n",
       "  var js_urls = [\"https://cdn.bokeh.org/bokeh/release/bokeh-2.2.3.min.js\", \"https://cdn.bokeh.org/bokeh/release/bokeh-widgets-2.2.3.min.js\", \"https://cdn.bokeh.org/bokeh/release/bokeh-tables-2.2.3.min.js\"];\n",
       "  var css_urls = [];\n",
       "  \n",
       "\n",
       "  var inline_js = [\n",
       "    function(Bokeh) {\n",
       "      Bokeh.set_log_level(\"info\");\n",
       "    },\n",
       "    function(Bokeh) {\n",
       "    \n",
       "    \n",
       "    }\n",
       "  ];\n",
       "\n",
       "  function run_inline_js() {\n",
       "    \n",
       "    if (root.Bokeh !== undefined || force === true) {\n",
       "      \n",
       "    for (var i = 0; i < inline_js.length; i++) {\n",
       "      inline_js[i].call(root, root.Bokeh);\n",
       "    }\n",
       "    if (force === true) {\n",
       "        display_loaded();\n",
       "      }} else if (Date.now() < root._bokeh_timeout) {\n",
       "      setTimeout(run_inline_js, 100);\n",
       "    } else if (!root._bokeh_failed_load) {\n",
       "      console.log(\"Bokeh: BokehJS failed to load within specified timeout.\");\n",
       "      root._bokeh_failed_load = true;\n",
       "    } else if (force !== true) {\n",
       "      var cell = $(document.getElementById(\"1001\")).parents('.cell').data().cell;\n",
       "      cell.output_area.append_execute_result(NB_LOAD_WARNING)\n",
       "    }\n",
       "\n",
       "  }\n",
       "\n",
       "  if (root._bokeh_is_loading === 0) {\n",
       "    console.debug(\"Bokeh: BokehJS loaded, going straight to plotting\");\n",
       "    run_inline_js();\n",
       "  } else {\n",
       "    load_libs(css_urls, js_urls, function() {\n",
       "      console.debug(\"Bokeh: BokehJS plotting callback run at\", now());\n",
       "      run_inline_js();\n",
       "    });\n",
       "  }\n",
       "}(window));"
      ],
      "application/vnd.bokehjs_load.v0+json": "\n(function(root) {\n  function now() {\n    return new Date();\n  }\n\n  var force = true;\n\n  if (typeof root._bokeh_onload_callbacks === \"undefined\" || force === true) {\n    root._bokeh_onload_callbacks = [];\n    root._bokeh_is_loading = undefined;\n  }\n\n  \n\n  \n  if (typeof (root._bokeh_timeout) === \"undefined\" || force === true) {\n    root._bokeh_timeout = Date.now() + 5000;\n    root._bokeh_failed_load = false;\n  }\n\n  var NB_LOAD_WARNING = {'data': {'text/html':\n     \"<div style='background-color: #fdd'>\\n\"+\n     \"<p>\\n\"+\n     \"BokehJS does not appear to have successfully loaded. If loading BokehJS from CDN, this \\n\"+\n     \"may be due to a slow or bad network connection. Possible fixes:\\n\"+\n     \"</p>\\n\"+\n     \"<ul>\\n\"+\n     \"<li>re-rerun `output_notebook()` to attempt to load from CDN again, or</li>\\n\"+\n     \"<li>use INLINE resources instead, as so:</li>\\n\"+\n     \"</ul>\\n\"+\n     \"<code>\\n\"+\n     \"from bokeh.resources import INLINE\\n\"+\n     \"output_notebook(resources=INLINE)\\n\"+\n     \"</code>\\n\"+\n     \"</div>\"}};\n\n  function display_loaded() {\n    var el = document.getElementById(\"1001\");\n    if (el != null) {\n      el.textContent = \"BokehJS is loading...\";\n    }\n    if (root.Bokeh !== undefined) {\n      if (el != null) {\n        el.textContent = \"BokehJS \" + root.Bokeh.version + \" successfully loaded.\";\n      }\n    } else if (Date.now() < root._bokeh_timeout) {\n      setTimeout(display_loaded, 100)\n    }\n  }\n\n\n  function run_callbacks() {\n    try {\n      root._bokeh_onload_callbacks.forEach(function(callback) {\n        if (callback != null)\n          callback();\n      });\n    } finally {\n      delete root._bokeh_onload_callbacks\n    }\n    console.debug(\"Bokeh: all callbacks have finished\");\n  }\n\n  function load_libs(css_urls, js_urls, callback) {\n    if (css_urls == null) css_urls = [];\n    if (js_urls == null) js_urls = [];\n\n    root._bokeh_onload_callbacks.push(callback);\n    if (root._bokeh_is_loading > 0) {\n      console.debug(\"Bokeh: BokehJS is being loaded, scheduling callback at\", now());\n      return null;\n    }\n    if (js_urls == null || js_urls.length === 0) {\n      run_callbacks();\n      return null;\n    }\n    console.debug(\"Bokeh: BokehJS not loaded, scheduling load and callback at\", now());\n    root._bokeh_is_loading = css_urls.length + js_urls.length;\n\n    function on_load() {\n      root._bokeh_is_loading--;\n      if (root._bokeh_is_loading === 0) {\n        console.debug(\"Bokeh: all BokehJS libraries/stylesheets loaded\");\n        run_callbacks()\n      }\n    }\n\n    function on_error() {\n      console.error(\"failed to load \" + url);\n    }\n\n    for (var i = 0; i < css_urls.length; i++) {\n      var url = css_urls[i];\n      const element = document.createElement(\"link\");\n      element.onload = on_load;\n      element.onerror = on_error;\n      element.rel = \"stylesheet\";\n      element.type = \"text/css\";\n      element.href = url;\n      console.debug(\"Bokeh: injecting link tag for BokehJS stylesheet: \", url);\n      document.body.appendChild(element);\n    }\n\n    const hashes = {\"https://cdn.bokeh.org/bokeh/release/bokeh-2.2.3.min.js\": \"T2yuo9Oe71Cz/I4X9Ac5+gpEa5a8PpJCDlqKYO0CfAuEszu1JrXLl8YugMqYe3sM\", \"https://cdn.bokeh.org/bokeh/release/bokeh-widgets-2.2.3.min.js\": \"98GDGJ0kOMCUMUePhksaQ/GYgB3+NH9h996V88sh3aOiUNX3N+fLXAtry6xctSZ6\", \"https://cdn.bokeh.org/bokeh/release/bokeh-tables-2.2.3.min.js\": \"89bArO+nlbP3sgakeHjCo1JYxYR5wufVgA3IbUvDY+K7w4zyxJqssu7wVnfeKCq8\"};\n\n    for (var i = 0; i < js_urls.length; i++) {\n      var url = js_urls[i];\n      var element = document.createElement('script');\n      element.onload = on_load;\n      element.onerror = on_error;\n      element.async = false;\n      element.src = url;\n      if (url in hashes) {\n        element.crossOrigin = \"anonymous\";\n        element.integrity = \"sha384-\" + hashes[url];\n      }\n      console.debug(\"Bokeh: injecting script tag for BokehJS library: \", url);\n      document.head.appendChild(element);\n    }\n  };\n\n  function inject_raw_css(css) {\n    const element = document.createElement(\"style\");\n    element.appendChild(document.createTextNode(css));\n    document.body.appendChild(element);\n  }\n\n  \n  var js_urls = [\"https://cdn.bokeh.org/bokeh/release/bokeh-2.2.3.min.js\", \"https://cdn.bokeh.org/bokeh/release/bokeh-widgets-2.2.3.min.js\", \"https://cdn.bokeh.org/bokeh/release/bokeh-tables-2.2.3.min.js\"];\n  var css_urls = [];\n  \n\n  var inline_js = [\n    function(Bokeh) {\n      Bokeh.set_log_level(\"info\");\n    },\n    function(Bokeh) {\n    \n    \n    }\n  ];\n\n  function run_inline_js() {\n    \n    if (root.Bokeh !== undefined || force === true) {\n      \n    for (var i = 0; i < inline_js.length; i++) {\n      inline_js[i].call(root, root.Bokeh);\n    }\n    if (force === true) {\n        display_loaded();\n      }} else if (Date.now() < root._bokeh_timeout) {\n      setTimeout(run_inline_js, 100);\n    } else if (!root._bokeh_failed_load) {\n      console.log(\"Bokeh: BokehJS failed to load within specified timeout.\");\n      root._bokeh_failed_load = true;\n    } else if (force !== true) {\n      var cell = $(document.getElementById(\"1001\")).parents('.cell').data().cell;\n      cell.output_area.append_execute_result(NB_LOAD_WARNING)\n    }\n\n  }\n\n  if (root._bokeh_is_loading === 0) {\n    console.debug(\"Bokeh: BokehJS loaded, going straight to plotting\");\n    run_inline_js();\n  } else {\n    load_libs(css_urls, js_urls, function() {\n      console.debug(\"Bokeh: BokehJS plotting callback run at\", now());\n      run_inline_js();\n    });\n  }\n}(window));"
     },
     "metadata": {},
     "output_type": "display_data"
    }
   ],
   "source": [
    "import ee\n",
    "import numpy as np\n",
    "\n",
    "from earthshot import water_viz as vis\n",
    "from earthshot import water_common as common\n",
    "from earthshot import normalize as norm\n",
    "\n",
    "from statistics import mean\n",
    "import folium\n",
    "from folium import plugins\n",
    "from bokeh.plotting import figure, output_file, show\n",
    "from bokeh.models import Range1d"
   ]
  },
  {
   "cell_type": "code",
   "execution_count": 2,
   "metadata": {},
   "outputs": [],
   "source": [
    "ee.Initialize()\n",
    "\n",
    "bbox_name = 'neom'\n",
    "bbox = common.bboxes()[bbox_name]"
   ]
  },
  {
   "cell_type": "markdown",
   "metadata": {},
   "source": [
    "## Predictors \n",
    "**Terrain Slope** from [Merit Hydro](https://developers.google.com/earth-engine/datasets/catalog/MERIT_Hydro_v1_0_1#description)"
   ]
  },
  {
   "cell_type": "code",
   "execution_count": 31,
   "metadata": {},
   "outputs": [
    {
     "data": {
      "text/plain": [
       "[0, 1]"
      ]
     },
     "execution_count": 31,
     "metadata": {},
     "output_type": "execute_result"
    }
   ],
   "source": [
    "slope_img = ee.Image('users/jamesmcc/merit_slope/merit_terrain_slope').clip(bbox)\n",
    "slope_mask = slope_img.lte(10).And(slope_img.gt(0))\n",
    "slope_img_inv = slope_img.updateMask(slope_mask).pow(-1) \n",
    "slope_img_scaled = norm.img_scale(slope_img_inv, area_of_interest=bbox) \n",
    "norm.img_range(slope_img_scaled, area_of_interest=bbox)"
   ]
  },
  {
   "cell_type": "markdown",
   "metadata": {},
   "source": [
    "**Soil Types** qualitative ranking."
   ]
  },
  {
   "cell_type": "code",
   "execution_count": 32,
   "metadata": {},
   "outputs": [],
   "source": [
    "soil_types = ee.Image(\"OpenLandMap/SOL/SOL_TEXTURE-CLASS_USDA-TT_M/v02\").clip(bbox)\n",
    "\n",
    "#categorizing soil types at 0, 10, and 30 cm depths based on retaining plant-available water ability\n",
    "top_soils = [5,7,8,10]\n",
    "medium_soils = [2,4,6,9]\n",
    "low_soils = [1,3,11,12]\n",
    "soil_0 = soil_types.expression(\n",
    "        \"(b('b0') == 5) ? 1.0\" +\n",
    "        \": (b('b0') == 7) ? 1.0\" +\n",
    "        \": (b('b0') == 8) ? 1.0\" +\n",
    "        \": (b('b0') == 10) ? 1.0\" +\n",
    "        \": (b('b0') == 2) ? 0.7\" +\n",
    "        \": (b('b0') == 4) ? 0.7\" +\n",
    "        \": (b('b0') == 6) ? 0.7\" +\n",
    "        \": (b('b0') == 9) ? 0.7\" +\n",
    "        \": (b('b0') == 1) ? 0.4\" +\n",
    "        \": (b('b0') == 3) ? 0.4\" +\n",
    "        \": (b('b0') == 11) ? 0.4\" +\n",
    "        \": (b('b0') == 12) ? 0.4\" +\n",
    "        \": 0\")\n",
    "\n",
    "soil_10 = soil_types.expression(\n",
    "        \"(b('b10') == 5) ? 1.0\" +\n",
    "        \": (b('b10') == 7) ? 1.0\" +\n",
    "        \": (b('b10') == 8) ? 1.0\" +\n",
    "        \": (b('b10') == 10) ? 1.0\" +\n",
    "        \": (b('b10') == 2) ? 0.7\" +\n",
    "        \": (b('b10') == 4) ? 0.7\" +\n",
    "        \": (b('b10') == 6) ? 0.7\" +\n",
    "        \": (b('b10') == 9) ? 0.7\" +\n",
    "        \": (b('b10') == 1) ? 0.4\" +\n",
    "        \": (b('b10') == 3) ? 0.4\" +\n",
    "        \": (b('b10') == 11) ? 0.4\" +\n",
    "        \": (b('b10') == 12) ? 0.4\" +\n",
    "        \": 0\")\n",
    "\n",
    "soil_30 = soil_types.expression(\n",
    "        \"(b('b30') == 5) ? 1.0\" +\n",
    "        \": (b('b30') == 7) ? 1.0\" +\n",
    "        \": (b('b30') == 8) ? 1.0\" +\n",
    "        \": (b('b30') == 10) ? 1.0\" +\n",
    "        \": (b('b30') == 2) ? 0.7\" +\n",
    "        \": (b('b30') == 4) ? 0.7\" +\n",
    "        \": (b('b30') == 6) ? 0.7\" +\n",
    "        \": (b('b30') == 9) ? 0.7\" +\n",
    "        \": (b('b30') == 1) ? 0.4\" +\n",
    "        \": (b('b30') == 3) ? 0.4\" +\n",
    "        \": (b('b30') == 11) ? 0.4\" +\n",
    "        \": (b('b30') == 12) ? 0.4\" +\n",
    "        \": 0\")\n",
    "\n",
    "top_soils = soil_0.expression('top_soil + soil_10 + soil_30',\n",
    "                             {'top_soil': soil_0.select('constant'),\n",
    "                             'soil_10': soil_10.select('constant'),\n",
    "                             'soil_30': soil_30.select('constant')})"
   ]
  },
  {
   "cell_type": "code",
   "execution_count": 33,
   "metadata": {},
   "outputs": [
    {
     "data": {
      "text/plain": [
       "[0, 1]"
      ]
     },
     "execution_count": 33,
     "metadata": {},
     "output_type": "execute_result"
    }
   ],
   "source": [
    "top_soils_scaled = norm.img_scale(top_soils, area_of_interest=bbox)\n",
    "norm.img_range(top_soils_scaled, area_of_interest=bbox)"
   ]
  },
  {
   "cell_type": "code",
   "execution_count": 35,
   "metadata": {},
   "outputs": [
    {
     "data": {
      "text/plain": [
       "[0, 1]"
      ]
     },
     "execution_count": 35,
     "metadata": {},
     "output_type": "execute_result"
    }
   ],
   "source": [
    "#importing runoff for January, masking for values higher than 1e-03 mm\n",
    "runoff_clim = ee.ImageCollection('users/jamesmcc/era5_sfc_runoff_neom_climatology')\n",
    "runoff = runoff_clim.sum().clip(bbox)\n",
    "runoff_mask = runoff.gte(1e-06)\n",
    "runoff_update = runoff.updateMask(runoff_mask)\n",
    "runoff_scaled = norm.img_scale(runoff_update, area_of_interest=bbox)\n",
    "norm.img_range(runoff_scaled, area_of_interest=bbox)"
   ]
  },
  {
   "cell_type": "code",
   "execution_count": 36,
   "metadata": {},
   "outputs": [
    {
     "data": {
      "text/plain": [
       "[0, 0.9999999999999999]"
      ]
     },
     "execution_count": 36,
     "metadata": {},
     "output_type": "execute_result"
    }
   ],
   "source": [
    "#Compiling score, printing score range\n",
    "score = (runoff_scaled.multiply(.5)\n",
    "         .add(top_soils_scaled.multiply(.25))\n",
    "         .add(slope_img_scaled.multiply(.25)))\n",
    "score = norm.img_scale(score, area_of_interest=bbox)\n",
    "norm.img_range(score, area_of_interest=bbox)"
   ]
  },
  {
   "cell_type": "code",
   "execution_count": 37,
   "metadata": {},
   "outputs": [
    {
     "data": {
      "text/html": [
       "\n",
       "\n",
       "\n",
       "\n",
       "\n",
       "\n",
       "  <div class=\"bk-root\" id=\"42f11e18-095d-432d-b291-7987c4ada7f2\" data-root-id=\"1772\"></div>\n"
      ]
     },
     "metadata": {},
     "output_type": "display_data"
    },
    {
     "data": {
      "application/javascript": [
       "(function(root) {\n",
       "  function embed_document(root) {\n",
       "    \n",
       "  var docs_json = {\"c2076914-9a0c-4c91-b855-8b8f89e61da6\":{\"roots\":{\"references\":[{\"attributes\":{\"background_fill_color\":\"white\",\"below\":[{\"id\":\"1783\"}],\"center\":[{\"id\":\"1786\"},{\"id\":\"1790\"}],\"left\":[{\"id\":\"1787\"}],\"plot_height\":300,\"renderers\":[{\"id\":\"1808\"}],\"title\":{\"id\":\"1773\"},\"toolbar\":{\"id\":\"1798\"},\"x_range\":{\"id\":\"1775\"},\"x_scale\":{\"id\":\"1779\"},\"y_range\":{\"id\":\"1777\"},\"y_scale\":{\"id\":\"1781\"}},\"id\":\"1772\",\"subtype\":\"Figure\",\"type\":\"Plot\"},{\"attributes\":{\"bottom_units\":\"screen\",\"fill_alpha\":0.5,\"fill_color\":\"lightgrey\",\"left_units\":\"screen\",\"level\":\"overlay\",\"line_alpha\":1.0,\"line_color\":\"black\",\"line_dash\":[4,4],\"line_width\":2,\"right_units\":\"screen\",\"top_units\":\"screen\"},\"id\":\"1797\",\"type\":\"BoxAnnotation\"},{\"attributes\":{\"formatter\":{\"id\":\"1867\"},\"ticker\":{\"id\":\"1784\"}},\"id\":\"1783\",\"type\":\"LinearAxis\"},{\"attributes\":{\"axis\":{\"id\":\"1783\"},\"ticker\":null},\"id\":\"1786\",\"type\":\"Grid\"},{\"attributes\":{},\"id\":\"1873\",\"type\":\"Selection\"},{\"attributes\":{\"axis\":{\"id\":\"1787\"},\"dimension\":1,\"ticker\":null},\"id\":\"1790\",\"type\":\"Grid\"},{\"attributes\":{},\"id\":\"1867\",\"type\":\"BasicTickFormatter\"},{\"attributes\":{},\"id\":\"1796\",\"type\":\"HelpTool\"},{\"attributes\":{},\"id\":\"1775\",\"type\":\"DataRange1d\"},{\"attributes\":{\"text\":\"NEOM PRZ Score\"},\"id\":\"1773\",\"type\":\"Title\"},{\"attributes\":{\"active_drag\":\"auto\",\"active_inspect\":\"auto\",\"active_multi\":null,\"active_scroll\":\"auto\",\"active_tap\":\"auto\",\"tools\":[{\"id\":\"1791\"},{\"id\":\"1792\"},{\"id\":\"1793\"},{\"id\":\"1794\"},{\"id\":\"1795\"},{\"id\":\"1796\"}]},\"id\":\"1798\",\"type\":\"Toolbar\"},{\"attributes\":{},\"id\":\"1784\",\"type\":\"BasicTicker\"},{\"attributes\":{\"formatter\":{\"id\":\"1869\"},\"ticker\":{\"id\":\"1788\"}},\"id\":\"1787\",\"type\":\"LinearAxis\"},{\"attributes\":{},\"id\":\"1788\",\"type\":\"BasicTicker\"},{\"attributes\":{},\"id\":\"1781\",\"type\":\"LinearScale\"},{\"attributes\":{\"data\":{\"left\":{\"__ndarray__\":\"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\",\"dtype\":\"float64\",\"order\":\"little\",\"shape\":[256]},\"right\":{\"__ndarray__\":\"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\",\"dtype\":\"float64\",\"order\":\"little\",\"shape\":[256]},\"top\":{\"__ndarray__\":\"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\",\"dtype\":\"float64\",\"order\":\"little\",\"shape\":[256]}},\"selected\":{\"id\":\"1873\"},\"selection_policy\":{\"id\":\"1872\"}},\"id\":\"1805\",\"type\":\"ColumnDataSource\"},{\"attributes\":{\"overlay\":{\"id\":\"1797\"}},\"id\":\"1793\",\"type\":\"BoxZoomTool\"},{\"attributes\":{\"data_source\":{\"id\":\"1805\"},\"glyph\":{\"id\":\"1806\"},\"hover_glyph\":null,\"muted_glyph\":null,\"nonselection_glyph\":{\"id\":\"1807\"},\"selection_glyph\":null,\"view\":{\"id\":\"1809\"}},\"id\":\"1808\",\"type\":\"GlyphRenderer\"},{\"attributes\":{},\"id\":\"1777\",\"type\":\"DataRange1d\"},{\"attributes\":{},\"id\":\"1779\",\"type\":\"LinearScale\"},{\"attributes\":{},\"id\":\"1791\",\"type\":\"PanTool\"},{\"attributes\":{\"bottom\":{\"value\":1},\"fill_alpha\":{\"value\":0.1},\"fill_color\":{\"value\":\"navy\"},\"left\":{\"field\":\"left\"},\"line_alpha\":{\"value\":0.1},\"line_color\":{\"value\":\"navy\"},\"right\":{\"field\":\"right\"},\"top\":{\"field\":\"top\"}},\"id\":\"1807\",\"type\":\"Quad\"},{\"attributes\":{},\"id\":\"1792\",\"type\":\"WheelZoomTool\"},{\"attributes\":{},\"id\":\"1795\",\"type\":\"ResetTool\"},{\"attributes\":{\"source\":{\"id\":\"1805\"}},\"id\":\"1809\",\"type\":\"CDSView\"},{\"attributes\":{\"bottom\":{\"value\":1},\"fill_color\":{\"value\":\"navy\"},\"left\":{\"field\":\"left\"},\"line_color\":{\"value\":\"navy\"},\"right\":{\"field\":\"right\"},\"top\":{\"field\":\"top\"}},\"id\":\"1806\",\"type\":\"Quad\"},{\"attributes\":{},\"id\":\"1794\",\"type\":\"SaveTool\"},{\"attributes\":{},\"id\":\"1869\",\"type\":\"BasicTickFormatter\"},{\"attributes\":{},\"id\":\"1872\",\"type\":\"UnionRenderers\"}],\"root_ids\":[\"1772\"]},\"title\":\"Bokeh Application\",\"version\":\"2.2.3\"}};\n",
       "  var render_items = [{\"docid\":\"c2076914-9a0c-4c91-b855-8b8f89e61da6\",\"root_ids\":[\"1772\"],\"roots\":{\"1772\":\"42f11e18-095d-432d-b291-7987c4ada7f2\"}}];\n",
       "  root.Bokeh.embed.embed_items_notebook(docs_json, render_items);\n",
       "\n",
       "  }\n",
       "  if (root.Bokeh !== undefined) {\n",
       "    embed_document(root);\n",
       "  } else {\n",
       "    var attempts = 0;\n",
       "    var timer = setInterval(function(root) {\n",
       "      if (root.Bokeh !== undefined) {\n",
       "        clearInterval(timer);\n",
       "        embed_document(root);\n",
       "      } else {\n",
       "        attempts++;\n",
       "        if (attempts > 100) {\n",
       "          clearInterval(timer);\n",
       "          console.log(\"Bokeh: ERROR: Unable to run BokehJS code because BokehJS library is missing\");\n",
       "        }\n",
       "      }\n",
       "    }, 10, root)\n",
       "  }\n",
       "})(window);"
      ],
      "application/vnd.bokehjs_exec.v0+json": ""
     },
     "metadata": {
      "application/vnd.bokehjs_exec.v0+json": {
       "id": "1772"
      }
     },
     "output_type": "display_data"
    }
   ],
   "source": [
    "# Plot a histogram of the scores\n",
    "runoff_hist = ee.Dictionary(\n",
    "    score.clip(bbox)\n",
    "    .reduceRegion(\n",
    "        ee.Reducer.histogram()).get('surface_runoff'))\n",
    "\n",
    "hist = np.array(runoff_hist.get('histogram').getInfo())\n",
    "edges = (\n",
    "    (np.array(list(range(len(hist) + 1))) * \n",
    "     np.array(runoff_hist.get('bucketWidth').getInfo())) + \n",
    "    np.array(runoff_hist.get('bucketMin').getInfo()) )\n",
    "\n",
    "p = figure(\n",
    "    title='NEOM PRZ Score', \n",
    "    background_fill_color=\"white\", height = 300)\n",
    "_ = p.quad(\n",
    "    top=hist,\n",
    "    bottom=1,\n",
    "    left=edges[:-1],\n",
    "    right=edges[1:],\n",
    "    fill_color=\"navy\",\n",
    "    line_color=\"navy\",\n",
    "    alpha=1.)\n",
    "show(p)"
   ]
  },
  {
   "cell_type": "code",
   "execution_count": 60,
   "metadata": {},
   "outputs": [
    {
     "data": {
      "text/html": [
       "\n",
       "\n",
       "\n",
       "\n",
       "\n",
       "\n",
       "  <div class=\"bk-root\" id=\"586a9daf-a8dc-4028-929f-5cc7f01003ee\" data-root-id=\"3132\"></div>\n"
      ]
     },
     "metadata": {},
     "output_type": "display_data"
    },
    {
     "data": {
      "application/javascript": [
       "(function(root) {\n",
       "  function embed_document(root) {\n",
       "    \n",
       "  var docs_json = {\"7a77792f-9144-4b32-9d30-aafdcb8888a0\":{\"roots\":{\"references\":[{\"attributes\":{\"below\":[{\"id\":\"3143\"}],\"center\":[{\"id\":\"3146\"},{\"id\":\"3150\"}],\"left\":[{\"id\":\"3147\"}],\"plot_height\":75,\"plot_width\":500,\"renderers\":[{\"id\":\"3168\"}],\"title\":{\"id\":\"3133\"},\"toolbar\":{\"id\":\"3158\"},\"x_range\":{\"id\":\"3135\"},\"x_scale\":{\"id\":\"3139\"},\"y_range\":{\"id\":\"3137\"},\"y_scale\":{\"id\":\"3141\"}},\"id\":\"3132\",\"subtype\":\"Figure\",\"type\":\"Plot\"},{\"attributes\":{\"axis\":{\"id\":\"3147\"},\"dimension\":1,\"ticker\":null},\"id\":\"3150\",\"type\":\"Grid\"},{\"attributes\":{\"bottom_units\":\"screen\",\"fill_alpha\":0.5,\"fill_color\":\"lightgrey\",\"left_units\":\"screen\",\"level\":\"overlay\",\"line_alpha\":1.0,\"line_color\":\"black\",\"line_dash\":[4,4],\"line_width\":2,\"right_units\":\"screen\",\"top_units\":\"screen\"},\"id\":\"3157\",\"type\":\"BoxAnnotation\"},{\"attributes\":{},\"id\":\"3148\",\"type\":\"BasicTicker\"},{\"attributes\":{},\"id\":\"3137\",\"type\":\"DataRange1d\"},{\"attributes\":{\"axis\":{\"id\":\"3143\"},\"ticker\":null},\"id\":\"3146\",\"type\":\"Grid\"},{\"attributes\":{\"text\":\"NEOM PRZ Score\"},\"id\":\"3133\",\"type\":\"Title\"},{\"attributes\":{},\"id\":\"3297\",\"type\":\"Selection\"},{\"attributes\":{},\"id\":\"3139\",\"type\":\"LinearScale\"},{\"attributes\":{},\"id\":\"3156\",\"type\":\"HelpTool\"},{\"attributes\":{},\"id\":\"3296\",\"type\":\"UnionRenderers\"},{\"attributes\":{},\"id\":\"3141\",\"type\":\"LinearScale\"},{\"attributes\":{},\"id\":\"3135\",\"type\":\"DataRange1d\"},{\"attributes\":{\"active_drag\":\"auto\",\"active_inspect\":\"auto\",\"active_multi\":null,\"active_scroll\":\"auto\",\"active_tap\":\"auto\",\"tools\":[{\"id\":\"3151\"},{\"id\":\"3152\"},{\"id\":\"3153\"},{\"id\":\"3154\"},{\"id\":\"3155\"},{\"id\":\"3156\"}]},\"id\":\"3158\",\"type\":\"Toolbar\"},{\"attributes\":{\"formatter\":{\"id\":\"3291\"},\"ticker\":{\"id\":\"3144\"}},\"id\":\"3143\",\"type\":\"LinearAxis\"},{\"attributes\":{},\"id\":\"3152\",\"type\":\"WheelZoomTool\"},{\"attributes\":{},\"id\":\"3151\",\"type\":\"PanTool\"},{\"attributes\":{\"overlay\":{\"id\":\"3157\"}},\"id\":\"3153\",\"type\":\"BoxZoomTool\"},{\"attributes\":{},\"id\":\"3154\",\"type\":\"SaveTool\"},{\"attributes\":{},\"id\":\"3155\",\"type\":\"ResetTool\"},{\"attributes\":{\"data\":{\"bottom\":[1,1,1,1,1],\"fill_color\":[\"#eff3ff\",\"#bdd7e7\",\"#6baed6\",\"#3182bd\",\"#08519c\"],\"line_color\":[\"#eff3ff\",\"#bdd7e7\",\"#6baed6\",\"#3182bd\",\"#08519c\"],\"top\":[0,0,0,0,0],\"x\":[0.1,0.30000000000000004,0.5,0.7000000000000001,0.9]},\"selected\":{\"id\":\"3297\"},\"selection_policy\":{\"id\":\"3296\"}},\"id\":\"3165\",\"type\":\"ColumnDataSource\"},{\"attributes\":{\"data_source\":{\"id\":\"3165\"},\"glyph\":{\"id\":\"3166\"},\"hover_glyph\":null,\"muted_glyph\":null,\"nonselection_glyph\":{\"id\":\"3167\"},\"selection_glyph\":null,\"view\":{\"id\":\"3169\"}},\"id\":\"3168\",\"type\":\"GlyphRenderer\"},{\"attributes\":{},\"id\":\"3293\",\"type\":\"BasicTickFormatter\"},{\"attributes\":{\"source\":{\"id\":\"3165\"}},\"id\":\"3169\",\"type\":\"CDSView\"},{\"attributes\":{\"formatter\":{\"id\":\"3293\"},\"ticker\":{\"id\":\"3148\"}},\"id\":\"3147\",\"type\":\"LinearAxis\"},{\"attributes\":{\"bottom\":{\"field\":\"bottom\"},\"fill_alpha\":{\"value\":0.1},\"fill_color\":{\"field\":\"fill_color\"},\"line_alpha\":{\"value\":0.1},\"line_color\":{\"field\":\"line_color\"},\"top\":{\"field\":\"top\"},\"width\":{\"value\":0.2},\"x\":{\"field\":\"x\"}},\"id\":\"3167\",\"type\":\"VBar\"},{\"attributes\":{},\"id\":\"3291\",\"type\":\"BasicTickFormatter\"},{\"attributes\":{},\"id\":\"3144\",\"type\":\"BasicTicker\"},{\"attributes\":{\"bottom\":{\"field\":\"bottom\"},\"fill_color\":{\"field\":\"fill_color\"},\"line_color\":{\"field\":\"line_color\"},\"top\":{\"field\":\"top\"},\"width\":{\"value\":0.2},\"x\":{\"field\":\"x\"}},\"id\":\"3166\",\"type\":\"VBar\"}],\"root_ids\":[\"3132\"]},\"title\":\"Bokeh Application\",\"version\":\"2.2.3\"}};\n",
       "  var render_items = [{\"docid\":\"7a77792f-9144-4b32-9d30-aafdcb8888a0\",\"root_ids\":[\"3132\"],\"roots\":{\"3132\":\"586a9daf-a8dc-4028-929f-5cc7f01003ee\"}}];\n",
       "  root.Bokeh.embed.embed_items_notebook(docs_json, render_items);\n",
       "\n",
       "  }\n",
       "  if (root.Bokeh !== undefined) {\n",
       "    embed_document(root);\n",
       "  } else {\n",
       "    var attempts = 0;\n",
       "    var timer = setInterval(function(root) {\n",
       "      if (root.Bokeh !== undefined) {\n",
       "        clearInterval(timer);\n",
       "        embed_document(root);\n",
       "      } else {\n",
       "        attempts++;\n",
       "        if (attempts > 100) {\n",
       "          clearInterval(timer);\n",
       "          console.log(\"Bokeh: ERROR: Unable to run BokehJS code because BokehJS library is missing\");\n",
       "        }\n",
       "      }\n",
       "    }, 10, root)\n",
       "  }\n",
       "})(window);"
      ],
      "application/vnd.bokehjs_exec.v0+json": ""
     },
     "metadata": {
      "application/vnd.bokehjs_exec.v0+json": {
       "id": "3132"
      }
     },
     "output_type": "display_data"
    }
   ],
   "source": [
    "# Map parameters\n",
    "box_corners = common.bboxes()['neom'].toGeoJSON()['coordinates'][0]\n",
    "center_lon = mean([corner[0] for corner in box_corners])\n",
    "center_lat = mean([corner[1] for corner in box_corners])\n",
    "\n",
    "palette_name = 'Blues'\n",
    "palette_len = 5\n",
    "\n",
    "vis_min = 0\n",
    "vis_max = 1\n",
    "\n",
    "palette = vis.brewer[palette_name][palette_len][::-1]\n",
    "vis.legend(palette=palette, minimum=vis_min, maximum=vis_max, title='NEOM PRZ Score')\n",
    "\n",
    "vis_params = {\n",
    "    'min': vis_min, 'max': vis_max, 'dimensions': 512,\n",
    "    'palette': palette}"
   ]
  },
  {
   "cell_type": "code",
   "execution_count": 87,
   "metadata": {},
   "outputs": [
    {
     "data": {
      "text/html": [
       "<div style=\"width:100%;\"><div style=\"position:relative;width:100%;height:0;padding-bottom:60%;\"><span style=\"color:#565656\">Make this Notebook Trusted to load map: File -> Trust Notebook</span><iframe src=\"about:blank\" style=\"position:absolute;width:100%;height:100%;left:0;top:0;border:none !important;\" data-html=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 onload=\"this.contentDocument.open();this.contentDocument.write(atob(this.getAttribute('data-html')));this.contentDocument.close();\" allowfullscreen webkitallowfullscreen mozallowfullscreen></iframe></div></div>"
      ],
      "text/plain": [
       "<folium.folium.Map at 0x7fbe98d20df0>"
      ]
     },
     "metadata": {},
     "output_type": "display_data"
    }
   ],
   "source": [
    "#plotting score for NEOM region\n",
    "the_map = vis.folium_map(location=[center_lat-1.1, center_lon], zoom_start=9, height=1500)\n",
    "the_map.add_ee_layer(score, vis_params, name = 'NEOM PRZ Score')\n",
    "vis.folium_display(the_map)"
   ]
  },
  {
   "cell_type": "code",
   "execution_count": 95,
   "metadata": {},
   "outputs": [],
   "source": [
    "#calculate sum of potential water storage from neom area over a year\n",
    "def sum_runoff(runoff_img, geometry, scale):\n",
    "    return (\n",
    "        runoff_img\n",
    "        .reduceRegion(reducer= ee.Reducer.sum(), geometry=geometry, scale=100)\n",
    "        .getInfo()['surface_runoff']*(scale*scale))\n",
    "\n",
    "def sum_runoff_score_thresh(runoff_img, score, thresh, geometry, scale):\n",
    "  thresh_mask = score.gte(thresh)\n",
    "  return sum_runoff(runoff_img.updateMask(thresh_mask), geometry, scale)"
   ]
  },
  {
   "cell_type": "code",
   "execution_count": 92,
   "metadata": {},
   "outputs": [],
   "source": [
    "potential_recharge = sum_runoff(runoff, bbox, 100)\n",
    "thresh_recharge = [sum_runoff_score_thresh(runoff, score, thresh, bbox, 100) for thresh in [0, .2, .4, .6, .8]]"
   ]
  },
  {
   "cell_type": "code",
   "execution_count": null,
   "metadata": {},
   "outputs": [],
   "source": []
  }
 ],
 "metadata": {
  "kernelspec": {
   "display_name": "Python 3",
   "language": "python",
   "name": "python3"
  },
  "language_info": {
   "codemirror_mode": {
    "name": "ipython",
    "version": 3
   },
   "file_extension": ".py",
   "mimetype": "text/x-python",
   "name": "python",
   "nbconvert_exporter": "python",
   "pygments_lexer": "ipython3",
   "version": "3.8.3"
  }
 },
 "nbformat": 4,
 "nbformat_minor": 4
}
