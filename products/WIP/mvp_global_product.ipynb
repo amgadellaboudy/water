{
 "cells": [
  {
   "cell_type": "markdown",
   "metadata": {},
   "source": [
    "# Global Minimial Viable Products (1)\n",
    "\n",
    "Combine:\n",
    "* SMAP available porosity\n",
    "* ERA5 runoff\n",
    "* MERIT terrain slope\n",
    "* USDA soil texture class\n",
    "\n",
    "into global product for PRZ water restoration"
   ]
  },
  {
   "cell_type": "code",
   "execution_count": 15,
   "metadata": {},
   "outputs": [],
   "source": [
    "import ee\n",
    "import numpy as np\n",
    "\n",
    "import sys\n",
    "sys.path.insert(1, '../datasets/SMAP-USDA/')  # until we package this\n",
    "from earthshot import water_viz as vis\n",
    "from earthshot import water_common as common\n",
    "from earthshot import normalize as norm\n",
    "from earthshot import mon_stats\n",
    "from statistics import mean\n",
    "import folium\n",
    "from folium import plugins"
   ]
  },
  {
   "cell_type": "code",
   "execution_count": 16,
   "metadata": {},
   "outputs": [],
   "source": [
    "#ee.Authenticate()\n",
    "ee.Initialize()"
   ]
  },
  {
   "cell_type": "code",
   "execution_count": 34,
   "metadata": {},
   "outputs": [],
   "source": [
    "#import global MAR features\n",
    "\n",
    "import json\n",
    "with open('Mar_Collection_Swales.json') as f: MAR_map = json.load(f)\n",
    "\n",
    "MAR_featurecollection = ee.FeatureCollection(MAR_map)"
   ]
  },
  {
   "cell_type": "code",
   "execution_count": 18,
   "metadata": {},
   "outputs": [],
   "source": [
    "#common parameters\n",
    "bbox_global = ee.Geometry.BBox(-180,-90,180,90)"
   ]
  },
  {
   "cell_type": "markdown",
   "metadata": {},
   "source": [
    "# SMAP-USDA Available Porosity\n",
    "More available porosity is better."
   ]
  },
  {
   "cell_type": "code",
   "execution_count": 19,
   "metadata": {},
   "outputs": [],
   "source": [
    "# Sum up available porosity in mm across the year\n",
    "smap_usda_clim = ee.ImageCollection('users/jamesmcc/smap_usda_climatology')\n",
    "avail_porosity = (smap_usda_clim\n",
    "                  .filter(ee.Filter.eq('band', 'avail_porosity_mm')))\n",
    "\n",
    "avail_porosity_img = avail_porosity.sum()\n",
    "\n",
    "avail_porosity_img_scaled = (norm.img_scale(\n",
    "    avail_porosity_img, area_of_interest= bbox_global))"
   ]
  },
  {
   "cell_type": "markdown",
   "metadata": {},
   "source": [
    "## ERA5 Runoff"
   ]
  },
  {
   "cell_type": "code",
   "execution_count": 114,
   "metadata": {},
   "outputs": [
    {
     "name": "stdout",
     "output_type": "stream",
     "text": [
      "[0.050000064074993134, 387.5152140632271]\n"
     ]
    }
   ],
   "source": [
    "# Sum up runoff across the year to include in product score\n",
    "runoff_clim = ee.ImageCollection(\"ECMWF/ERA5_LAND/MONTHLY\").select('surface_runoff')\n",
    "\n",
    "runoff_clim_m = mon_stats.bands_avgs(['surface_runoff'], runoff_clim)\n",
    "\n",
    "runoff_img = ee.ImageCollection(runoff_clim_m['avgs'].get('surface_runoff')).sum().multiply(720)\n",
    "runoff_mask = runoff_img.gte(0.05) #values masked to areas that runoff 50 mm/ year at least\n",
    "runoff_img_masked = runoff_img.updateMask(runoff_mask)\n",
    "\n",
    "runoff_img_scaled = (norm.img_scale(\n",
    "    runoff_img, \n",
    "    area_of_interest= bbox_global))\n",
    "\n",
    "print(norm.img_range(runoff_img_masked, area_of_interest = bbox_global))"
   ]
  },
  {
   "cell_type": "markdown",
   "metadata": {},
   "source": [
    "## MERIT Terrain Slope"
   ]
  },
  {
   "cell_type": "code",
   "execution_count": 40,
   "metadata": {},
   "outputs": [
    {
     "name": "stdout",
     "output_type": "stream",
     "text": [
      "[0, 1]\n"
     ]
    }
   ],
   "source": [
    "#include slope as a factor in scoring product, mask for lower slopes\n",
    "slope_img = ee.Image('users/jamesmcc/merit_slope/merit_terrain_slope')\n",
    "slope_mask = slope_img.lte(10).And(slope_img.gt(0))\n",
    "slope_img_masked = slope_img.updateMask(slope_mask).pow(-1)\n",
    "slope_img_scaled = norm.img_scale(slope_img_masked, area_of_interest=bbox_global)\n",
    "print(norm.img_range(runoff_img_scaled, area_of_interest = bbox_global))"
   ]
  },
  {
   "cell_type": "markdown",
   "metadata": {},
   "source": [
    "# Soil Types"
   ]
  },
  {
   "cell_type": "code",
   "execution_count": 22,
   "metadata": {},
   "outputs": [],
   "source": [
    "#incorporate soil types as a factor in scoring for PRZ\n",
    "soil_types = ee.Image(\"OpenLandMap/SOL/SOL_TEXTURE-CLASS_USDA-TT_M/v02\")"
   ]
  },
  {
   "cell_type": "code",
   "execution_count": 23,
   "metadata": {},
   "outputs": [],
   "source": [
    "#categorizing soil types and depths based on retaining plant-available water, grouping top soils and bottom soils together\n",
    "top_soils = [5,7,8,10]\n",
    "medium_soils = [2,4,6,9]\n",
    "low_soils = [1,3,11,12]\n",
    "soil_0 = soil_types.expression(\n",
    "        \"(b('b0') == 12) ? 1.0\" +\n",
    "        \": (b('b0') == 11) ? 1.0\" +\n",
    "        \": (b('b0') == 10) ? 1.0\" +\n",
    "        \": (b('b0') == 9) ? 1.0\" +\n",
    "        \": (b('b0') == 8) ? 0.7\" +\n",
    "        \": (b('b0') == 7) ? 0.7\" +\n",
    "        \": (b('b0') == 6) ? 0.7\" +\n",
    "        \": (b('b0') == 5) ? 0.7\" +\n",
    "        \": (b('b0') == 4) ? 0.4\" +\n",
    "        \": (b('b0') == 3) ? 0.4\" +\n",
    "        \": (b('b0') == 2) ? 0.4\" +\n",
    "        \": (b('b0') == 1) ? 0.4\" +\n",
    "        \": 0\")\n",
    "\n",
    "soil_10 = soil_types.expression(\n",
    "        \"(b('b10') == 12) ? 1.0\" +\n",
    "        \": (b('b10') == 11) ? 1.0\" +\n",
    "        \": (b('b10') == 10) ? 1.0\" +\n",
    "        \": (b('b10') == 9) ? 1.0\" +\n",
    "        \": (b('b10') == 8) ? 0.7\" +\n",
    "        \": (b('b10') == 7) ? 0.7\" +\n",
    "        \": (b('b10') == 6) ? 0.7\" +\n",
    "        \": (b('b10') == 5) ? 0.7\" +\n",
    "        \": (b('b10') == 4) ? 0.4\" +\n",
    "        \": (b('b10') == 3) ? 0.4\" +\n",
    "        \": (b('b10') == 2) ? 0.4\" +\n",
    "        \": (b('b10') == 1) ? 0.4\" +\n",
    "        \": 0\")\n",
    "\n",
    "soil_30 = soil_types.expression(\n",
    "        \"(b('b30') == 12) ? 1.0\" +\n",
    "        \": (b('b30') == 11) ? 1.0\" +\n",
    "        \": (b('b30') == 10) ? 1.0\" +\n",
    "        \": (b('b30') == 9) ? 1.0\" +\n",
    "        \": (b('b30') == 8) ? 0.7\" +\n",
    "        \": (b('b30') == 7) ? 0.7\" +\n",
    "        \": (b('b30') == 6) ? 0.7\" +\n",
    "        \": (b('b30') == 5) ? 0.7\" +\n",
    "        \": (b('b30') == 4) ? 0.4\" +\n",
    "        \": (b('b30') == 3) ? 0.4\" +\n",
    "        \": (b('b30') == 2) ? 0.4\" +\n",
    "        \": (b('b30') == 1) ? 0.4\" +\n",
    "        \": 0\")\n",
    "\n",
    "soil_60 = soil_types.expression(\n",
    "        \"(b('b60') == 5) ? 1.0\" +\n",
    "        \": (b('b60') == 7) ? 1.0\" +\n",
    "        \": (b('b60') == 8) ? 1.0\" +\n",
    "        \": (b('b60') == 10) ? 1.0\" +\n",
    "        \": (b('b60') == 2) ? 0.7\" +\n",
    "        \": (b('b60') == 4) ? 0.7\" +\n",
    "        \": (b('b60') == 6) ? 0.7\" +\n",
    "        \": (b('b60') == 9) ? 0.7\" +\n",
    "        \": (b('b60') == 1) ? 0.4\" +\n",
    "        \": (b('b60') == 3) ? 0.4\" +\n",
    "        \": (b('b60') == 11) ? 0.4\" +\n",
    "        \": (b('b60') == 12) ? 0.4\" +\n",
    "        \": 0\")\n",
    "\n",
    "soil_100 = soil_types.expression(\n",
    "        \"(b('b100') == 5) ? 1.0\" +\n",
    "        \": (b('b100') == 7) ? 1.0\" +\n",
    "        \": (b('b100') == 8) ? 1.0\" +\n",
    "        \": (b('b100') == 10) ? 1.0\" +\n",
    "        \": (b('b100') == 2) ? 0.7\" +\n",
    "        \": (b('b100') == 4) ? 0.7\" +\n",
    "        \": (b('b100') == 6) ? 0.7\" +\n",
    "        \": (b('b100') == 9) ? 0.7\" +\n",
    "        \": (b('b100') == 1) ? 0.4\" +\n",
    "        \": (b('b100') == 3) ? 0.4\" +\n",
    "        \": (b('b100') == 11) ? 0.4\" +\n",
    "        \": (b('b100') == 12) ? 0.4\" +\n",
    "        \": 0\")\n",
    "\n",
    "soil_200 = soil_types.expression(\n",
    "        \"(b('b200') == 5) ? 1.0\" +\n",
    "        \": (b('b200') == 7) ? 1.0\" +\n",
    "        \": (b('b200') == 8) ? 1.0\" +\n",
    "        \": (b('b200') == 10) ? 1.0\" +\n",
    "        \": (b('b200') == 2) ? 0.7\" +\n",
    "        \": (b('b200') == 4) ? 0.7\" +\n",
    "        \": (b('b200') == 6) ? 0.7\" +\n",
    "        \": (b('b200') == 9) ? 0.7\" +\n",
    "        \": (b('b200') == 1) ? 0.4\" +\n",
    "        \": (b('b200') == 3) ? 0.4\" +\n",
    "        \": (b('b200') == 11) ? 0.4\" +\n",
    "        \": (b('b200') == 12) ? 0.4\" +\n",
    "        \": 0\")\n",
    "\n",
    "top_soils = soil_0.expression('top_soil + soil_10 + soil_30',\n",
    "                             {'top_soil': soil_0.select('constant'),\n",
    "                             'soil_10': soil_10.select('constant'),\n",
    "                             'soil_30': soil_30.select('constant')})\n",
    "\n",
    "bottom_soils = soil_60.expression('soil_60 + soil_100 + soil_200',\n",
    "                                 {'soil_60': soil_60.select('constant'),\n",
    "                                  'soil_100': soil_100.select('constant'),\n",
    "                                  'soil_200': soil_200.select('constant')})"
   ]
  },
  {
   "cell_type": "code",
   "execution_count": 24,
   "metadata": {},
   "outputs": [],
   "source": [
    "#scaling top soils and bottom soils\n",
    "top_soils_scaled = norm.img_scale(top_soils, area_of_interest=bbox_global)\n",
    "bottom_soils_scaled = norm.img_scale(bottom_soils, area_of_interest=bbox_global)"
   ]
  },
  {
   "cell_type": "code",
   "execution_count": 42,
   "metadata": {},
   "outputs": [
    {
     "name": "stdout",
     "output_type": "stream",
     "text": [
      "[0, 1]\n"
     ]
    }
   ],
   "source": [
    "print(norm.img_range(top_soils_scaled, area_of_interest = bbox_global))"
   ]
  },
  {
   "cell_type": "markdown",
   "metadata": {},
   "source": [
    "## PRZ Score\n",
    "Simply give higher scores to places that have both high runoff, available porosity, favorable soil type and slope. Masked for lower slopes."
   ]
  },
  {
   "cell_type": "code",
   "execution_count": 116,
   "metadata": {},
   "outputs": [],
   "source": [
    "score = (#runoff_img_scaled.multiply(.75)\n",
    "         avail_porosity_img_scaled.multiply(.5)\n",
    "         .add(top_soils_scaled.multiply(.5))\n",
    "        .updateMask(slope_mask)\n",
    "        .updateMask(runoff_mask))\n",
    "         #.add(slope_img_scaled.multiply(.25)))\n",
    "score = norm.img_scale(score, area_of_interest=bbox_global).rename('score')\n",
    "score_range = norm.img_range(score, area_of_interest=bbox_global)"
   ]
  },
  {
   "cell_type": "code",
   "execution_count": 108,
   "metadata": {},
   "outputs": [
    {
     "data": {
      "text/html": [
       "\n",
       "\n",
       "\n",
       "\n",
       "\n",
       "\n",
       "  <div class=\"bk-root\" id=\"8ed85e27-1aca-4607-ba85-4e2ca8cc58d5\" data-root-id=\"6434\"></div>\n"
      ]
     },
     "metadata": {},
     "output_type": "display_data"
    },
    {
     "data": {
      "application/javascript": [
       "(function(root) {\n",
       "  function embed_document(root) {\n",
       "    \n",
       "  var docs_json = {\"b258dbdf-f7f8-485e-a5d5-14ea839ff468\":{\"roots\":{\"references\":[{\"attributes\":{\"below\":[{\"id\":\"6445\"}],\"center\":[{\"id\":\"6448\"},{\"id\":\"6452\"}],\"left\":[{\"id\":\"6449\"}],\"plot_height\":75,\"plot_width\":500,\"renderers\":[{\"id\":\"6470\"}],\"title\":{\"id\":\"6435\"},\"toolbar\":{\"id\":\"6460\"},\"x_range\":{\"id\":\"6437\"},\"x_scale\":{\"id\":\"6441\"},\"y_range\":{\"id\":\"6439\"},\"y_scale\":{\"id\":\"6443\"}},\"id\":\"6434\",\"subtype\":\"Figure\",\"type\":\"Plot\"},{\"attributes\":{},\"id\":\"6458\",\"type\":\"HelpTool\"},{\"attributes\":{},\"id\":\"6698\",\"type\":\"BasicTickFormatter\"},{\"attributes\":{\"bottom\":{\"field\":\"bottom\"},\"fill_alpha\":{\"value\":0.1},\"fill_color\":{\"field\":\"fill_color\"},\"line_alpha\":{\"value\":0.1},\"line_color\":{\"field\":\"line_color\"},\"top\":{\"field\":\"top\"},\"width\":{\"value\":0.45454545454545453},\"x\":{\"field\":\"x\"}},\"id\":\"6469\",\"type\":\"VBar\"},{\"attributes\":{},\"id\":\"6450\",\"type\":\"BasicTicker\"},{\"attributes\":{},\"id\":\"6702\",\"type\":\"UnionRenderers\"},{\"attributes\":{\"active_drag\":\"auto\",\"active_inspect\":\"auto\",\"active_multi\":null,\"active_scroll\":\"auto\",\"active_tap\":\"auto\",\"tools\":[{\"id\":\"6453\"},{\"id\":\"6454\"},{\"id\":\"6455\"},{\"id\":\"6456\"},{\"id\":\"6457\"},{\"id\":\"6458\"}]},\"id\":\"6460\",\"type\":\"Toolbar\"},{\"attributes\":{\"source\":{\"id\":\"6467\"}},\"id\":\"6471\",\"type\":\"CDSView\"},{\"attributes\":{},\"id\":\"6457\",\"type\":\"ResetTool\"},{\"attributes\":{},\"id\":\"6700\",\"type\":\"BasicTickFormatter\"},{\"attributes\":{\"axis\":{\"id\":\"6445\"},\"ticker\":null},\"id\":\"6448\",\"type\":\"Grid\"},{\"attributes\":{},\"id\":\"6446\",\"type\":\"BasicTicker\"},{\"attributes\":{\"overlay\":{\"id\":\"6459\"}},\"id\":\"6455\",\"type\":\"BoxZoomTool\"},{\"attributes\":{},\"id\":\"6437\",\"type\":\"DataRange1d\"},{\"attributes\":{\"formatter\":{\"id\":\"6700\"},\"ticker\":{\"id\":\"6446\"}},\"id\":\"6445\",\"type\":\"LinearAxis\"},{\"attributes\":{\"data_source\":{\"id\":\"6467\"},\"glyph\":{\"id\":\"6468\"},\"hover_glyph\":null,\"muted_glyph\":null,\"nonselection_glyph\":{\"id\":\"6469\"},\"selection_glyph\":null,\"view\":{\"id\":\"6471\"}},\"id\":\"6470\",\"type\":\"GlyphRenderer\"},{\"attributes\":{},\"id\":\"6453\",\"type\":\"PanTool\"},{\"attributes\":{\"bottom_units\":\"screen\",\"fill_alpha\":0.5,\"fill_color\":\"lightgrey\",\"left_units\":\"screen\",\"level\":\"overlay\",\"line_alpha\":1.0,\"line_color\":\"black\",\"line_dash\":[4,4],\"line_width\":2,\"right_units\":\"screen\",\"top_units\":\"screen\"},\"id\":\"6459\",\"type\":\"BoxAnnotation\"},{\"attributes\":{},\"id\":\"6454\",\"type\":\"WheelZoomTool\"},{\"attributes\":{\"data\":{\"bottom\":[1,1,1,1,1,1,1,1,1,1,1],\"fill_color\":[\"#a50026\",\"#d73027\",\"#f46d43\",\"#fdae61\",\"#fee090\",\"#ffffbf\",\"#e0f3f8\",\"#abd9e9\",\"#74add1\",\"#4575b4\",\"#313695\"],\"line_color\":[\"#a50026\",\"#d73027\",\"#f46d43\",\"#fdae61\",\"#fee090\",\"#ffffbf\",\"#e0f3f8\",\"#abd9e9\",\"#74add1\",\"#4575b4\",\"#313695\"],\"top\":[0,0,0,0,0,0,0,0,0,0,0],\"x\":[0.22727272727272727,0.6818181818181818,1.1363636363636362,1.5909090909090908,2.0454545454545454,2.5,2.9545454545454546,3.409090909090909,3.8636363636363633,4.318181818181818,4.7727272727272725]},\"selected\":{\"id\":\"6701\"},\"selection_policy\":{\"id\":\"6702\"}},\"id\":\"6467\",\"type\":\"ColumnDataSource\"},{\"attributes\":{\"formatter\":{\"id\":\"6698\"},\"ticker\":{\"id\":\"6450\"}},\"id\":\"6449\",\"type\":\"LinearAxis\"},{\"attributes\":{\"axis\":{\"id\":\"6449\"},\"dimension\":1,\"ticker\":null},\"id\":\"6452\",\"type\":\"Grid\"},{\"attributes\":{},\"id\":\"6441\",\"type\":\"LinearScale\"},{\"attributes\":{\"text\":\"Legend Title (-)\"},\"id\":\"6435\",\"type\":\"Title\"},{\"attributes\":{},\"id\":\"6439\",\"type\":\"DataRange1d\"},{\"attributes\":{},\"id\":\"6443\",\"type\":\"LinearScale\"},{\"attributes\":{},\"id\":\"6456\",\"type\":\"SaveTool\"},{\"attributes\":{},\"id\":\"6701\",\"type\":\"Selection\"},{\"attributes\":{\"bottom\":{\"field\":\"bottom\"},\"fill_color\":{\"field\":\"fill_color\"},\"line_color\":{\"field\":\"line_color\"},\"top\":{\"field\":\"top\"},\"width\":{\"value\":0.45454545454545453},\"x\":{\"field\":\"x\"}},\"id\":\"6468\",\"type\":\"VBar\"}],\"root_ids\":[\"6434\"]},\"title\":\"Bokeh Application\",\"version\":\"2.2.3\"}};\n",
       "  var render_items = [{\"docid\":\"b258dbdf-f7f8-485e-a5d5-14ea839ff468\",\"root_ids\":[\"6434\"],\"roots\":{\"6434\":\"8ed85e27-1aca-4607-ba85-4e2ca8cc58d5\"}}];\n",
       "  root.Bokeh.embed.embed_items_notebook(docs_json, render_items);\n",
       "\n",
       "  }\n",
       "  if (root.Bokeh !== undefined) {\n",
       "    embed_document(root);\n",
       "  } else {\n",
       "    var attempts = 0;\n",
       "    var timer = setInterval(function(root) {\n",
       "      if (root.Bokeh !== undefined) {\n",
       "        clearInterval(timer);\n",
       "        embed_document(root);\n",
       "      } else {\n",
       "        attempts++;\n",
       "        if (attempts > 100) {\n",
       "          clearInterval(timer);\n",
       "          console.log(\"Bokeh: ERROR: Unable to run BokehJS code because BokehJS library is missing\");\n",
       "        }\n",
       "      }\n",
       "    }, 10, root)\n",
       "  }\n",
       "})(window);"
      ],
      "application/vnd.bokehjs_exec.v0+json": ""
     },
     "metadata": {
      "application/vnd.bokehjs_exec.v0+json": {
       "id": "6434"
      }
     },
     "output_type": "display_data"
    }
   ],
   "source": [
    "#visualizing PRZ score\n",
    "\n",
    "palette_name = 'RdYlBu'\n",
    "palette_len = 11\n",
    "palette = vis.brewer[palette_name][palette_len][::-1]\n",
    "vis.legend(palette=palette, minimum= score_range[0], maximum= 5)\n",
    "\n",
    "box_corners = bbox_global.toGeoJSON()['coordinates'][0]\n",
    "center_lon = mean([corner[0] for corner in box_corners])\n",
    "center_lat = mean([corner[1] for corner in box_corners])\n",
    "\n",
    "vis_params = {\n",
    "    'min': score_range[0], 'max': 1, 'dimensions': 512,\n",
    "    'palette': palette}\n",
    "\n",
    "vis_params_runoff = {\n",
    "    'min': 0, 'max': 5, 'dimensions': 512,\n",
    "    'palette': palette}\n",
    "\n"
   ]
  },
  {
   "cell_type": "code",
   "execution_count": 117,
   "metadata": {
    "scrolled": true
   },
   "outputs": [
    {
     "data": {
      "text/html": [
       "<div style=\"width:100%;\"><div style=\"position:relative;width:100%;height:0;padding-bottom:60%;\"><span style=\"color:#565656\">Make this Notebook Trusted to load map: File -> Trust Notebook</span><iframe src=\"about:blank\" style=\"position:absolute;width:100%;height:100%;left:0;top:0;border:none !important;\" data-html=%3C%21DOCTYPE%20html%3E%0A%3Chead%3E%20%20%20%20%0A%20%20%20%20%3Cmeta%20http-equiv%3D%22content-type%22%20content%3D%22text/html%3B%20charset%3DUTF-8%22%20/%3E%0A%20%20%20%20%0A%20%20%20%20%20%20%20%20%3Cscript%3E%0A%20%20%20%20%20%20%20%20%20%20%20%20L_NO_TOUCH%20%3D%20false%3B%0A%20%20%20%20%20%20%20%20%20%20%20%20L_DISABLE_3D%20%3D%20false%3B%0A%20%20%20%20%20%20%20%20%3C/script%3E%0A%20%20%20%20%0A%20%20%20%20%3Cstyle%3Ehtml%2C%20body%20%7Bwidth%3A%20100%25%3Bheight%3A%20100%25%3Bmargin%3A%200%3Bpadding%3A%200%3B%7D%3C/style%3E%0A%20%20%20%20%3Cstyle%3E%23map%20%7Bposition%3Aabsolute%3Btop%3A0%3Bbottom%3A0%3Bright%3A0%3Bleft%3A0%3B%7D%3C/style%3E%0A%20%20%20%20%3Cscript%20src%3D%22https%3A//cdn.jsdelivr.net/npm/leaflet%401.6.0/dist/leaflet.js%22%3E%3C/script%3E%0A%20%20%20%20%3Cscript%20src%3D%22https%3A//code.jquery.com/jquery-1.12.4.min.js%22%3E%3C/script%3E%0A%20%20%20%20%3Cscript%20src%3D%22https%3A//maxcdn.bootstrapcdn.com/bootstrap/3.2.0/js/bootstrap.min.js%22%3E%3C/script%3E%0A%20%20%20%20%3Cscript%20src%3D%22https%3A//cdnjs.cloudflare.com/ajax/libs/Leaflet.awesome-markers/2.0.2/leaflet.awesome-markers.js%22%3E%3C/script%3E%0A%20%20%20%20%3Clink%20rel%3D%22stylesheet%22%20href%3D%22https%3A//cdn.jsdelivr.net/npm/leaflet%401.6.0/dist/leaflet.css%22/%3E%0A%20%20%20%20%3Clink%20rel%3D%22stylesheet%22%20href%3D%22https%3A//maxcdn.bootstrapcdn.com/bootstrap/3.2.0/css/bootstrap.min.css%22/%3E%0A%20%20%20%20%3Clink%20rel%3D%22stylesheet%22%20href%3D%22https%3A//maxcdn.bootstrapcdn.com/bootstrap/3.2.0/css/bootstrap-theme.min.css%22/%3E%0A%20%20%20%20%3Clink%20rel%3D%22stylesheet%22%20href%3D%22https%3A//maxcdn.bootstrapcdn.com/font-awesome/4.6.3/css/font-awesome.min.css%22/%3E%0A%20%20%20%20%3Clink%20rel%3D%22stylesheet%22%20href%3D%22https%3A//cdnjs.cloudflare.com/ajax/libs/Leaflet.awesome-markers/2.0.2/leaflet.awesome-markers.css%22/%3E%0A%20%20%20%20%3Clink%20rel%3D%22stylesheet%22%20href%3D%22https%3A//cdn.jsdelivr.net/gh/python-visualization/folium/folium/templates/leaflet.awesome.rotate.min.css%22/%3E%0A%20%20%20%20%0A%20%20%20%20%20%20%20%20%20%20%20%20%3Cmeta%20name%3D%22viewport%22%20content%3D%22width%3Ddevice-width%2C%0A%20%20%20%20%20%20%20%20%20%20%20%20%20%20%20%20initial-scale%3D1.0%2C%20maximum-scale%3D1.0%2C%20user-scalable%3Dno%22%20/%3E%0A%20%20%20%20%20%20%20%20%20%20%20%20%3Cstyle%3E%0A%20%20%20%20%20%20%20%20%20%20%20%20%20%20%20%20%23map_f0c3a61e161e4e118b19f24bc920b87a%20%7B%0A%20%20%20%20%20%20%20%20%20%20%20%20%20%20%20%20%20%20%20%20position%3A%20relative%3B%0A%20%20%20%20%20%20%20%20%20%20%20%20%20%20%20%20%20%20%20%20width%3A%20100.0%25%3B%0A%20%20%20%20%20%20%20%20%20%20%20%20%20%20%20%20%20%20%20%20height%3A%20400.0px%3B%0A%20%20%20%20%20%20%20%20%20%20%20%20%20%20%20%20%20%20%20%20left%3A%200.0%25%3B%0A%20%20%20%20%20%20%20%20%20%20%20%20%20%20%20%20%20%20%20%20top%3A%200.0%25%3B%0A%20%20%20%20%20%20%20%20%20%20%20%20%20%20%20%20%7D%0A%20%20%20%20%20%20%20%20%20%20%20%20%3C/style%3E%0A%20%20%20%20%20%20%20%20%0A%3C/head%3E%0A%3Cbody%3E%20%20%20%20%0A%20%20%20%20%0A%20%20%20%20%20%20%20%20%20%20%20%20%3Cdiv%20class%3D%22folium-map%22%20id%3D%22map_f0c3a61e161e4e118b19f24bc920b87a%22%20%3E%3C/div%3E%0A%20%20%20%20%20%20%20%20%0A%3C/body%3E%0A%3Cscript%3E%20%20%20%20%0A%20%20%20%20%0A%20%20%20%20%20%20%20%20%20%20%20%20var%20map_f0c3a61e161e4e118b19f24bc920b87a%20%3D%20L.map%28%0A%20%20%20%20%20%20%20%20%20%20%20%20%20%20%20%20%22map_f0c3a61e161e4e118b19f24bc920b87a%22%2C%0A%20%20%20%20%20%20%20%20%20%20%20%20%20%20%20%20%7B%0A%20%20%20%20%20%20%20%20%20%20%20%20%20%20%20%20%20%20%20%20center%3A%20%5B0.0%2C%200.0%5D%2C%0A%20%20%20%20%20%20%20%20%20%20%20%20%20%20%20%20%20%20%20%20crs%3A%20L.CRS.EPSG3857%2C%0A%20%20%20%20%20%20%20%20%20%20%20%20%20%20%20%20%20%20%20%20zoom%3A%201%2C%0A%20%20%20%20%20%20%20%20%20%20%20%20%20%20%20%20%20%20%20%20zoomControl%3A%20true%2C%0A%20%20%20%20%20%20%20%20%20%20%20%20%20%20%20%20%20%20%20%20preferCanvas%3A%20false%2C%0A%20%20%20%20%20%20%20%20%20%20%20%20%20%20%20%20%7D%0A%20%20%20%20%20%20%20%20%20%20%20%20%29%3B%0A%0A%20%20%20%20%20%20%20%20%20%20%20%20%0A%0A%20%20%20%20%20%20%20%20%0A%20%20%20%20%0A%20%20%20%20%20%20%20%20%20%20%20%20var%20tile_layer_054f1ed5560c4aedbb0f5b1a2ea10e83%20%3D%20L.tileLayer%28%0A%20%20%20%20%20%20%20%20%20%20%20%20%20%20%20%20%22https%3A//%7Bs%7D.tile.openstreetmap.org/%7Bz%7D/%7Bx%7D/%7By%7D.png%22%2C%0A%20%20%20%20%20%20%20%20%20%20%20%20%20%20%20%20%7B%22attribution%22%3A%20%22Data%20by%20%5Cu0026copy%3B%20%5Cu003ca%20href%3D%5C%22http%3A//openstreetmap.org%5C%22%5Cu003eOpenStreetMap%5Cu003c/a%5Cu003e%2C%20under%20%5Cu003ca%20href%3D%5C%22http%3A//www.openstreetmap.org/copyright%5C%22%5Cu003eODbL%5Cu003c/a%5Cu003e.%22%2C%20%22detectRetina%22%3A%20false%2C%20%22maxNativeZoom%22%3A%2018%2C%20%22maxZoom%22%3A%2018%2C%20%22minZoom%22%3A%200%2C%20%22noWrap%22%3A%20false%2C%20%22opacity%22%3A%201%2C%20%22subdomains%22%3A%20%22abc%22%2C%20%22tms%22%3A%20false%7D%0A%20%20%20%20%20%20%20%20%20%20%20%20%29.addTo%28map_f0c3a61e161e4e118b19f24bc920b87a%29%3B%0A%20%20%20%20%20%20%20%20%0A%20%20%20%20%0A%20%20%20%20%20%20%20%20%20%20%20%20var%20tile_layer_fe4a1597941e4638929abb369e87b45a%20%3D%20L.tileLayer%28%0A%20%20%20%20%20%20%20%20%20%20%20%20%20%20%20%20%22https%3A//earthengine.googleapis.com/v1alpha/projects/earthengine-legacy/maps/bded2f7a8c2b15fc679b045fa5353fe5-8daa5ad65d9637b607a02d516bf9e483/tiles/%7Bz%7D/%7Bx%7D/%7By%7D%22%2C%0A%20%20%20%20%20%20%20%20%20%20%20%20%20%20%20%20%7B%22attribution%22%3A%20%22Map%20Data%20%5Cu0026copy%3B%20%5Cu003ca%20href%3D%5C%22https%3A//earthengine.google.com/%5C%22%5Cu003eGoogle%20Earth%20Engine%5Cu003c/a%5Cu003e%22%2C%20%22detectRetina%22%3A%20false%2C%20%22maxNativeZoom%22%3A%2018%2C%20%22maxZoom%22%3A%2018%2C%20%22minZoom%22%3A%200%2C%20%22noWrap%22%3A%20false%2C%20%22opacity%22%3A%201%2C%20%22subdomains%22%3A%20%22abc%22%2C%20%22tms%22%3A%20false%7D%0A%20%20%20%20%20%20%20%20%20%20%20%20%29.addTo%28map_f0c3a61e161e4e118b19f24bc920b87a%29%3B%0A%20%20%20%20%20%20%20%20%0A%20%20%20%20%0A%20%20%20%20%20%20%20%20%20%20%20%20var%20tile_layer_ca0accd4fd934e848ea576948457d6fa%20%3D%20L.tileLayer%28%0A%20%20%20%20%20%20%20%20%20%20%20%20%20%20%20%20%22https%3A//earthengine.googleapis.com/v1alpha/projects/earthengine-legacy/maps/12c53c842e585ed61d4fb78d553bb116-c5caaf213129eae3f517059f3f29526d/tiles/%7Bz%7D/%7Bx%7D/%7By%7D%22%2C%0A%20%20%20%20%20%20%20%20%20%20%20%20%20%20%20%20%7B%22attribution%22%3A%20%22Map%20Data%20%5Cu0026copy%3B%20%5Cu003ca%20href%3D%5C%22https%3A//earthengine.google.com/%5C%22%5Cu003eGoogle%20Earth%20Engine%5Cu003c/a%5Cu003e%22%2C%20%22detectRetina%22%3A%20false%2C%20%22maxNativeZoom%22%3A%2018%2C%20%22maxZoom%22%3A%2018%2C%20%22minZoom%22%3A%200%2C%20%22noWrap%22%3A%20false%2C%20%22opacity%22%3A%201%2C%20%22subdomains%22%3A%20%22abc%22%2C%20%22tms%22%3A%20false%7D%0A%20%20%20%20%20%20%20%20%20%20%20%20%29.addTo%28map_f0c3a61e161e4e118b19f24bc920b87a%29%3B%0A%20%20%20%20%20%20%20%20%0A%20%20%20%20%0A%20%20%20%20%20%20%20%20%20%20%20%20var%20tile_layer_10661d8f863f489a934d131bc749b8d6%20%3D%20L.tileLayer%28%0A%20%20%20%20%20%20%20%20%20%20%20%20%20%20%20%20%22https%3A//earthengine.googleapis.com/v1alpha/projects/earthengine-legacy/maps/f83663058cd8caef093e8aac0d485167-5597f4cd834d62877a4d1827c700574c/tiles/%7Bz%7D/%7Bx%7D/%7By%7D%22%2C%0A%20%20%20%20%20%20%20%20%20%20%20%20%20%20%20%20%7B%22attribution%22%3A%20%22Map%20Data%20%5Cu0026copy%3B%20%5Cu003ca%20href%3D%5C%22https%3A//earthengine.google.com/%5C%22%5Cu003eGoogle%20Earth%20Engine%5Cu003c/a%5Cu003e%22%2C%20%22detectRetina%22%3A%20false%2C%20%22maxNativeZoom%22%3A%2018%2C%20%22maxZoom%22%3A%2018%2C%20%22minZoom%22%3A%200%2C%20%22noWrap%22%3A%20false%2C%20%22opacity%22%3A%201%2C%20%22subdomains%22%3A%20%22abc%22%2C%20%22tms%22%3A%20false%7D%0A%20%20%20%20%20%20%20%20%20%20%20%20%29.addTo%28map_f0c3a61e161e4e118b19f24bc920b87a%29%3B%0A%20%20%20%20%20%20%20%20%0A%20%20%20%20%0A%20%20%20%20%20%20%20%20%20%20%20%20var%20layer_control_c7570bc3e682462ca4e169cdc7690efa%20%3D%20%7B%0A%20%20%20%20%20%20%20%20%20%20%20%20%20%20%20%20base_layers%20%3A%20%7B%0A%20%20%20%20%20%20%20%20%20%20%20%20%20%20%20%20%20%20%20%20%22openstreetmap%22%20%3A%20tile_layer_054f1ed5560c4aedbb0f5b1a2ea10e83%2C%0A%20%20%20%20%20%20%20%20%20%20%20%20%20%20%20%20%7D%2C%0A%20%20%20%20%20%20%20%20%20%20%20%20%20%20%20%20overlays%20%3A%20%20%7B%0A%20%20%20%20%20%20%20%20%20%20%20%20%20%20%20%20%20%20%20%20%22PRZ%20Score%22%20%3A%20tile_layer_fe4a1597941e4638929abb369e87b45a%2C%0A%20%20%20%20%20%20%20%20%20%20%20%20%20%20%20%20%20%20%20%20%22Runoff%22%20%3A%20tile_layer_ca0accd4fd934e848ea576948457d6fa%2C%0A%20%20%20%20%20%20%20%20%20%20%20%20%20%20%20%20%20%20%20%20%22MAR%20Swale%20locations%22%20%3A%20tile_layer_10661d8f863f489a934d131bc749b8d6%2C%0A%20%20%20%20%20%20%20%20%20%20%20%20%20%20%20%20%7D%2C%0A%20%20%20%20%20%20%20%20%20%20%20%20%7D%3B%0A%20%20%20%20%20%20%20%20%20%20%20%20L.control.layers%28%0A%20%20%20%20%20%20%20%20%20%20%20%20%20%20%20%20layer_control_c7570bc3e682462ca4e169cdc7690efa.base_layers%2C%0A%20%20%20%20%20%20%20%20%20%20%20%20%20%20%20%20layer_control_c7570bc3e682462ca4e169cdc7690efa.overlays%2C%0A%20%20%20%20%20%20%20%20%20%20%20%20%20%20%20%20%7B%22autoZIndex%22%3A%20true%2C%20%22collapsed%22%3A%20true%2C%20%22position%22%3A%20%22topright%22%7D%0A%20%20%20%20%20%20%20%20%20%20%20%20%29.addTo%28map_f0c3a61e161e4e118b19f24bc920b87a%29%3B%0A%20%20%20%20%20%20%20%20%0A%3C/script%3E onload=\"this.contentDocument.open();this.contentDocument.write(    decodeURIComponent(this.getAttribute('data-html')));this.contentDocument.close();\" allowfullscreen webkitallowfullscreen mozallowfullscreen></iframe></div></div>"
      ],
      "text/plain": [
       "<folium.folium.Map at 0x7f9192aa1810>"
      ]
     },
     "metadata": {},
     "output_type": "display_data"
    }
   ],
   "source": [
    "#creating the map, visualizing score\n",
    "\n",
    "the_map = vis.folium_map(location=[center_lat, center_lon], zoom_start=1, height=400)\n",
    "\n",
    "the_map.add_ee_layer(score, vis_params, name = 'PRZ Score')\n",
    "the_map.add_ee_layer(runoff_img_masked, vis_params_runoff, name = 'Runoff')\n",
    "the_map.add_ee_layer(MAR_featurecollection.draw(color= '006600', pointRadius = 3, strokeWidth= 3), {}, name = 'MAR Swale locations')\n",
    "\n",
    "\n",
    "\n",
    "#the_map.add_ee_layer(slope_img_scaled, vis_params, name = 'Slope')\n",
    "#the_map.add_ee_layer(avail_porosity_img_scaled, vis_params, name = 'Available Porosity')\n",
    "#the_map.add_ee_layer(top_soils_scaled, vis_params, name = 'Top Soils')\n",
    "\n",
    "vis.folium_display(the_map)\n",
    "\n"
   ]
  },
  {
   "cell_type": "code",
   "execution_count": null,
   "metadata": {},
   "outputs": [],
   "source": [
    "#slope does not seem to be a factor in selection...\n",
    "#runoff is not well correlated\n",
    "#a combination of available porosity and soil type seems to be well correlated"
   ]
  },
  {
   "cell_type": "code",
   "execution_count": null,
   "metadata": {},
   "outputs": [],
   "source": []
  }
 ],
 "metadata": {
  "kernelspec": {
   "display_name": "Python 3",
   "language": "python",
   "name": "python3"
  },
  "language_info": {
   "codemirror_mode": {
    "name": "ipython",
    "version": 3
   },
   "file_extension": ".py",
   "mimetype": "text/x-python",
   "name": "python",
   "nbconvert_exporter": "python",
   "pygments_lexer": "ipython3",
   "version": "3.7.6"
  }
 },
 "nbformat": 4,
 "nbformat_minor": 4
}
