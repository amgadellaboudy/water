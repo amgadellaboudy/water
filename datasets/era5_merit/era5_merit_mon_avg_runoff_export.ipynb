{
 "cells": [
  {
   "cell_type": "markdown",
   "metadata": {},
   "source": [
    "# ERA5 & MERIT: Monthly Potential Runoff Export\n",
    "\n",
    "This data set is large because MERIT is very high resolution.\n"
   ]
  },
  {
   "cell_type": "code",
   "execution_count": 1,
   "metadata": {},
   "outputs": [],
   "source": [
    "import ee\n",
    "\n",
    "import sys\n",
    "sys.path.insert(1, '../SMAP-USDA/')  # until we package this\n",
    "import mon_stats\n",
    "import water_common"
   ]
  },
  {
   "cell_type": "code",
   "execution_count": 2,
   "metadata": {},
   "outputs": [],
   "source": [
    "# import for ipynb\n",
    "%run era5_merit_mon_avg_runoff.ipynb"
   ]
  },
  {
   "cell_type": "code",
   "execution_count": 3,
   "metadata": {},
   "outputs": [],
   "source": [
    "month_names = mon_stats.month_names"
   ]
  },
  {
   "cell_type": "code",
   "execution_count": 4,
   "metadata": {},
   "outputs": [],
   "source": [
    "# TODO: \n",
    "# 1. Global is 90GB images, \n",
    "#   * masking larger values can reduce this but maybe not alot\n",
    "#   * total asset size <=250GiB, not sure that's a single asset or all assets, \n",
    "#     will try exporting these to individual images\n",
    "# 2. The band is still 'upa' in the output image\n",
    "bbox_dict = water_common.bboxes()\n",
    "bbox_name = 'conus'\n",
    "bbox = bbox_dict[bbox_name]\n",
    "variables = ['potential_sfc_runoff_mon_clim_' + \n",
    "             bbox_name + '_cms']\n",
    "collection_name = (\n",
    "    'users/jamesmcc/era5_merit_potential_sfc_runoff_' \n",
    "    + bbox_name + '_climatology')\n",
    "runoff_asset = ee.data.createAsset(\n",
    "    {'type': 'ImageCollection'}, collection_name)\n",
    "# runoff_asset = {'id': collection_name}\n",
    "max_pixels = 100000000000  #For global is quite large\n",
    "\n",
    "# Mask here? or before?\n",
    "\n",
    "for vv in variables:\n",
    "    for mm0 in range(12):\n",
    "        mm = mm0 + 1\n",
    "        mon_name = month_names[mm0]\n",
    "        description = mon_name\n",
    "        xx = ee.batch.Export.image.toAsset(\n",
    "            ee.Image(potential_sfc_runoff_clim_cms.get(mon_name)),\n",
    "            description=description, \n",
    "            assetId=runoff_asset['id'] + '/' + description,\n",
    "            region=bbox, \n",
    "            maxPixels=max_pixels).start()"
   ]
  },
  {
   "cell_type": "code",
   "execution_count": null,
   "metadata": {},
   "outputs": [],
   "source": []
  }
 ],
 "metadata": {
  "kernelspec": {
   "display_name": "Python 3",
   "language": "python",
   "name": "python3"
  },
  "language_info": {
   "codemirror_mode": {
    "name": "ipython",
    "version": 3
   },
   "file_extension": ".py",
   "mimetype": "text/x-python",
   "name": "python",
   "nbconvert_exporter": "python",
   "pygments_lexer": "ipython3",
   "version": "3.8.3"
  }
 },
 "nbformat": 4,
 "nbformat_minor": 4
}
