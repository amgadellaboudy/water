{
 "cells": [
  {
   "cell_type": "markdown",
   "metadata": {},
   "source": [
    "# ERA5 & MERIT: Monthly Potential Runoff \n",
    "\n",
    "*Definition* \n",
    "Potential Runoff: Sum of computed run off in the contributing area of a point. \n",
    "\n",
    "Taking a super simple approach because we are interested in\n",
    "relatively small areas. The simplifying assumption is that the runoff upstream of a point is the same as at the point. This would clearly not be a reasonable assumption for large areas. It may also not be a good assumption for arid areas. The full runoff integration at a point would require topological tracing, which appears a bit akward in EE and quite a bit more work. \n",
    "\n",
    "Going with the simplifying assumptions, take ERA5 surface runoff (meters) and multiply it by MERIT upstream area (km^2, converted to m^2)\n",
    "\n",
    "(This could likewise be done for subsurface runoff, even more sketchy!)\n",
    "\n",
    "This notebook constructs the monthly climatologies but does not export of visualize them."
   ]
  },
  {
   "cell_type": "code",
   "execution_count": 1,
   "metadata": {},
   "outputs": [],
   "source": [
    "import ee\n",
    "\n",
    "import sys\n",
    "sys.path.insert(1, '../SMAP-USDA/')  # until we package this\n",
    "import mon_stats"
   ]
  },
  {
   "cell_type": "code",
   "execution_count": 2,
   "metadata": {},
   "outputs": [],
   "source": [
    "#ee.Authenticate()"
   ]
  },
  {
   "cell_type": "code",
   "execution_count": 3,
   "metadata": {},
   "outputs": [],
   "source": [
    "ee.Initialize()"
   ]
  },
  {
   "cell_type": "code",
   "execution_count": 4,
   "metadata": {},
   "outputs": [],
   "source": [
    "# ERA5 Monthly Average (of hourly) Surface runoff \n",
    "# https://www.ecmwf.int/sites/default/files/elibrary/2016/17117-part-iv-physical-processes.pdf#subsection.H.6.3\n",
    "# https://developers.google.com/earth-engine/datasets/catalog/ECMWF_ERA5_LAND_MONTHLY#bands\n",
    "era5_month_sfc_runoff_m = (\n",
    "    ee\n",
    "    .ImageCollection(\"ECMWF/ERA5_LAND/MONTHLY\")\n",
    "    .select('surface_runoff'))"
   ]
  },
  {
   "cell_type": "code",
   "execution_count": 5,
   "metadata": {},
   "outputs": [],
   "source": [
    "era5_sfc_runoff_clim_m = mon_stats.bands_avgs(['surface_runoff'], era5_month_sfc_runoff_m)"
   ]
  },
  {
   "cell_type": "code",
   "execution_count": 6,
   "metadata": {},
   "outputs": [
    {
     "data": {
      "text/plain": [
       "{'surface_runoff': {'type': 'ImageCollection', 'bands': []}}"
      ]
     },
     "execution_count": 6,
     "metadata": {},
     "output_type": "execute_result"
    }
   ],
   "source": [
    "era5_sfc_runoff_clim_m['avgs'].getInfo()"
   ]
  },
  {
   "cell_type": "code",
   "execution_count": 7,
   "metadata": {},
   "outputs": [
    {
     "data": {
      "text/plain": [
       "{'surface_runoff': [40, 40, 40, 40, 40, 40, 40, 40, 40, 40, 39, 39]}"
      ]
     },
     "execution_count": 7,
     "metadata": {},
     "output_type": "execute_result"
    }
   ],
   "source": [
    "era5_sfc_runoff_clim_m['lens'].getInfo()"
   ]
  },
  {
   "cell_type": "code",
   "execution_count": 8,
   "metadata": {},
   "outputs": [],
   "source": [
    "# MERIT Upstream Area \n",
    "# https://developers.google.com/earth-engine/datasets/catalog/MERIT_Hydro_v1_0_1#description\n",
    "merit_drain_area_m2 = (\n",
    "    ee\n",
    "    .Image(\"MERIT/Hydro/v1_0_1\")\n",
    "    .select('upa')\n",
    "    .multiply(1e6))  ## km2 -> m2"
   ]
  },
  {
   "cell_type": "code",
   "execution_count": 9,
   "metadata": {},
   "outputs": [],
   "source": [
    "# Potential Runoff - combine and put in average m^3/s\n",
    "# m3/hr = m3 / (60min*60s)\n",
    "def runoff_times_contrib_area_cms(month_key, month):\n",
    "    runoff_m = (\n",
    "        ee.ImageCollection(\n",
    "            era5_sfc_runoff_clim_m['avgs'].get('surface_runoff'))\n",
    "        .filter(ee.Filter.eq('month', month)).first())\n",
    "    return (\n",
    "        merit_drain_area_m2\n",
    "        .multiply(runoff_m)\n",
    "        .multiply(1.0/(60*60))\n",
    "        .set('month', month).set('variable', 'potential_sfc_runoff_mon_clim_cms'))"
   ]
  },
  {
   "cell_type": "code",
   "execution_count": 10,
   "metadata": {},
   "outputs": [],
   "source": [
    "months_dict = mon_stats.months_dict()"
   ]
  },
  {
   "cell_type": "code",
   "execution_count": 11,
   "metadata": {},
   "outputs": [],
   "source": [
    "potential_sfc_runoff_clim_cms = months_dict.map(runoff_times_contrib_area_cms)\n",
    "# potential_sfc_runoff_clim_cms.getInfo()"
   ]
  },
  {
   "cell_type": "code",
   "execution_count": 12,
   "metadata": {},
   "outputs": [
    {
     "data": {
      "text/plain": [
       "{'01_Jan': {'type': 'Image',\n",
       "  'bands': [{'id': 'upa',\n",
       "    'data_type': {'type': 'PixelType', 'precision': 'double'},\n",
       "    'crs': 'EPSG:4326',\n",
       "    'crs_transform': [0.0008333333333333334,\n",
       "     0,\n",
       "     -180.00041666666667,\n",
       "     0,\n",
       "     -0.0008333333333333334,\n",
       "     84.99958333333333]}],\n",
       "  'properties': {'month': 1, 'variable': 'potential_sfc_runoff_mon_clim_cms'}},\n",
       " '02_Feb': {'type': 'Image',\n",
       "  'bands': [{'id': 'upa',\n",
       "    'data_type': {'type': 'PixelType', 'precision': 'double'},\n",
       "    'crs': 'EPSG:4326',\n",
       "    'crs_transform': [0.0008333333333333334,\n",
       "     0,\n",
       "     -180.00041666666667,\n",
       "     0,\n",
       "     -0.0008333333333333334,\n",
       "     84.99958333333333]}],\n",
       "  'properties': {'month': 2, 'variable': 'potential_sfc_runoff_mon_clim_cms'}},\n",
       " '03_Mar': {'type': 'Image',\n",
       "  'bands': [{'id': 'upa',\n",
       "    'data_type': {'type': 'PixelType', 'precision': 'double'},\n",
       "    'crs': 'EPSG:4326',\n",
       "    'crs_transform': [0.0008333333333333334,\n",
       "     0,\n",
       "     -180.00041666666667,\n",
       "     0,\n",
       "     -0.0008333333333333334,\n",
       "     84.99958333333333]}],\n",
       "  'properties': {'month': 3, 'variable': 'potential_sfc_runoff_mon_clim_cms'}},\n",
       " '04_Apr': {'type': 'Image',\n",
       "  'bands': [{'id': 'upa',\n",
       "    'data_type': {'type': 'PixelType', 'precision': 'double'},\n",
       "    'crs': 'EPSG:4326',\n",
       "    'crs_transform': [0.0008333333333333334,\n",
       "     0,\n",
       "     -180.00041666666667,\n",
       "     0,\n",
       "     -0.0008333333333333334,\n",
       "     84.99958333333333]}],\n",
       "  'properties': {'month': 4, 'variable': 'potential_sfc_runoff_mon_clim_cms'}},\n",
       " '05_May': {'type': 'Image',\n",
       "  'bands': [{'id': 'upa',\n",
       "    'data_type': {'type': 'PixelType', 'precision': 'double'},\n",
       "    'crs': 'EPSG:4326',\n",
       "    'crs_transform': [0.0008333333333333334,\n",
       "     0,\n",
       "     -180.00041666666667,\n",
       "     0,\n",
       "     -0.0008333333333333334,\n",
       "     84.99958333333333]}],\n",
       "  'properties': {'month': 5, 'variable': 'potential_sfc_runoff_mon_clim_cms'}},\n",
       " '06_Jun': {'type': 'Image',\n",
       "  'bands': [{'id': 'upa',\n",
       "    'data_type': {'type': 'PixelType', 'precision': 'double'},\n",
       "    'crs': 'EPSG:4326',\n",
       "    'crs_transform': [0.0008333333333333334,\n",
       "     0,\n",
       "     -180.00041666666667,\n",
       "     0,\n",
       "     -0.0008333333333333334,\n",
       "     84.99958333333333]}],\n",
       "  'properties': {'month': 6, 'variable': 'potential_sfc_runoff_mon_clim_cms'}},\n",
       " '07_Jul': {'type': 'Image',\n",
       "  'bands': [{'id': 'upa',\n",
       "    'data_type': {'type': 'PixelType', 'precision': 'double'},\n",
       "    'crs': 'EPSG:4326',\n",
       "    'crs_transform': [0.0008333333333333334,\n",
       "     0,\n",
       "     -180.00041666666667,\n",
       "     0,\n",
       "     -0.0008333333333333334,\n",
       "     84.99958333333333]}],\n",
       "  'properties': {'month': 7, 'variable': 'potential_sfc_runoff_mon_clim_cms'}},\n",
       " '08_Aug': {'type': 'Image',\n",
       "  'bands': [{'id': 'upa',\n",
       "    'data_type': {'type': 'PixelType', 'precision': 'double'},\n",
       "    'crs': 'EPSG:4326',\n",
       "    'crs_transform': [0.0008333333333333334,\n",
       "     0,\n",
       "     -180.00041666666667,\n",
       "     0,\n",
       "     -0.0008333333333333334,\n",
       "     84.99958333333333]}],\n",
       "  'properties': {'month': 8, 'variable': 'potential_sfc_runoff_mon_clim_cms'}},\n",
       " '09_Sep': {'type': 'Image',\n",
       "  'bands': [{'id': 'upa',\n",
       "    'data_type': {'type': 'PixelType', 'precision': 'double'},\n",
       "    'crs': 'EPSG:4326',\n",
       "    'crs_transform': [0.0008333333333333334,\n",
       "     0,\n",
       "     -180.00041666666667,\n",
       "     0,\n",
       "     -0.0008333333333333334,\n",
       "     84.99958333333333]}],\n",
       "  'properties': {'month': 9, 'variable': 'potential_sfc_runoff_mon_clim_cms'}},\n",
       " '10_Oct': {'type': 'Image',\n",
       "  'bands': [{'id': 'upa',\n",
       "    'data_type': {'type': 'PixelType', 'precision': 'double'},\n",
       "    'crs': 'EPSG:4326',\n",
       "    'crs_transform': [0.0008333333333333334,\n",
       "     0,\n",
       "     -180.00041666666667,\n",
       "     0,\n",
       "     -0.0008333333333333334,\n",
       "     84.99958333333333]}],\n",
       "  'properties': {'month': 10,\n",
       "   'variable': 'potential_sfc_runoff_mon_clim_cms'}},\n",
       " '11_Nov': {'type': 'Image',\n",
       "  'bands': [{'id': 'upa',\n",
       "    'data_type': {'type': 'PixelType', 'precision': 'double'},\n",
       "    'crs': 'EPSG:4326',\n",
       "    'crs_transform': [0.0008333333333333334,\n",
       "     0,\n",
       "     -180.00041666666667,\n",
       "     0,\n",
       "     -0.0008333333333333334,\n",
       "     84.99958333333333]}],\n",
       "  'properties': {'month': 11,\n",
       "   'variable': 'potential_sfc_runoff_mon_clim_cms'}},\n",
       " '12_Dec': {'type': 'Image',\n",
       "  'bands': [{'id': 'upa',\n",
       "    'data_type': {'type': 'PixelType', 'precision': 'double'},\n",
       "    'crs': 'EPSG:4326',\n",
       "    'crs_transform': [0.0008333333333333334,\n",
       "     0,\n",
       "     -180.00041666666667,\n",
       "     0,\n",
       "     -0.0008333333333333334,\n",
       "     84.99958333333333]}],\n",
       "  'properties': {'month': 12,\n",
       "   'variable': 'potential_sfc_runoff_mon_clim_cms'}}}"
      ]
     },
     "execution_count": 12,
     "metadata": {},
     "output_type": "execute_result"
    }
   ],
   "source": [
    " potential_sfc_runoff_clim_cms.getInfo()"
   ]
  }
 ],
 "metadata": {
  "kernelspec": {
   "display_name": "Python 3",
   "language": "python",
   "name": "python3"
  },
  "language_info": {
   "codemirror_mode": {
    "name": "ipython",
    "version": 3
   },
   "file_extension": ".py",
   "mimetype": "text/x-python",
   "name": "python",
   "nbconvert_exporter": "python",
   "pygments_lexer": "ipython3",
   "version": "3.8.3"
  }
 },
 "nbformat": 4,
 "nbformat_minor": 4
}
