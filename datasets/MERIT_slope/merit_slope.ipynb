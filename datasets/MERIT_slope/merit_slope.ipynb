{
 "cells": [
  {
   "cell_type": "markdown",
   "metadata": {},
   "source": [
    "# MERIT based terrain slope"
   ]
  },
  {
   "cell_type": "code",
   "execution_count": 1,
   "metadata": {},
   "outputs": [],
   "source": [
    "import ee\n",
    "\n",
    "import sys\n",
    "sys.path.insert(1, '../SMAP-USDA/')  # until we package this\n",
    "import water_common"
   ]
  },
  {
   "cell_type": "code",
   "execution_count": 2,
   "metadata": {},
   "outputs": [],
   "source": [
    "# ee.Authenticate()\n",
    "ee.Initialize()"
   ]
  },
  {
   "cell_type": "code",
   "execution_count": 3,
   "metadata": {},
   "outputs": [],
   "source": [
    "merit_elev_m = (ee\n",
    "  .Image(\"MERIT/Hydro/v1_0_1\")\n",
    "  .select('elv'))"
   ]
  },
  {
   "cell_type": "code",
   "execution_count": 4,
   "metadata": {},
   "outputs": [
    {
     "name": "stdout",
     "output_type": "stream",
     "text": [
      "ee.Image({\n",
      "  \"functionInvocationValue\": {\n",
      "    \"functionName\": \"Terrain.slope\",\n",
      "    \"arguments\": {\n",
      "      \"input\": {\n",
      "        \"functionInvocationValue\": {\n",
      "          \"functionName\": \"Image.select\",\n",
      "          \"arguments\": {\n",
      "            \"bandSelectors\": {\n",
      "              \"constantValue\": [\n",
      "                \"elv\"\n",
      "              ]\n",
      "            },\n",
      "            \"input\": {\n",
      "              \"functionInvocationValue\": {\n",
      "                \"functionName\": \"Image.load\",\n",
      "                \"arguments\": {\n",
      "                  \"id\": {\n",
      "                    \"constantValue\": \"MERIT/Hydro/v1_0_1\"\n",
      "                  }\n",
      "                }\n",
      "              }\n",
      "            }\n",
      "          }\n",
      "        }\n",
      "      }\n",
      "    }\n",
      "  }\n",
      "})\n"
     ]
    }
   ],
   "source": [
    "merit_slope = ee.Terrain.slope(merit_elev_m)\n",
    "_ = merit_slope.set('variable', 'merit_terrain_slope')\n",
    "print(merit_slope)"
   ]
  },
  {
   "cell_type": "code",
   "execution_count": null,
   "metadata": {},
   "outputs": [],
   "source": [
    "bbox_dict = water_common.bboxes()\n",
    "bbox_name = 'world'\n",
    "bbox = bbox_dict[bbox_name]\n",
    "collection_name = ('users/jamesmcc/merit_slope')\n",
    "runoff_asset = ee.data.createAsset(\n",
    "    {'type': 'ImageCollection'}, collection_name)\n",
    "# runoff_asset = {'id': collection_name}\n",
    "max_pixels = 100000000000  #For global is quite large\n",
    "description = 'merit_terrain_slope'\n",
    "xx = ee.batch.Export.image.toAsset(\n",
    "        ee.Image(merit_slope),\n",
    "        description=description, \n",
    "        assetId=runoff_asset['id'] + '/' + description,\n",
    "        region=bbox, \n",
    "        maxPixels=max_pixels).start()"
   ]
  }
 ],
 "metadata": {
  "kernelspec": {
   "display_name": "Python 3",
   "language": "python",
   "name": "python3"
  },
  "language_info": {
   "codemirror_mode": {
    "name": "ipython",
    "version": 3
   },
   "file_extension": ".py",
   "mimetype": "text/x-python",
   "name": "python",
   "nbconvert_exporter": "python",
   "pygments_lexer": "ipython3",
   "version": "3.8.3"
  }
 },
 "nbformat": 4,
 "nbformat_minor": 4
}
