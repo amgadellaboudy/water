{
 "cells": [
  {
   "cell_type": "markdown",
   "metadata": {},
   "source": [
    "# SMAP-USDA monthly averages\n",
    "\n",
    "Monthly climatologies/stats of \n",
    "soil moisture quantities and \n",
    "their derivatives (porosity and available porosity)\n",
    "\n",
    "James McCreight \n"
   ]
  },
  {
   "cell_type": "code",
   "execution_count": 1,
   "metadata": {},
   "outputs": [],
   "source": [
    "from bokeh.io import output_notebook \n",
    "from bokeh.plotting import figure, output_file, show \n",
    "from bokeh.palettes import brewer, colorblind\n",
    "from IPython.display import Image\n",
    "output_notebook()\n",
    "\n",
    "import ee"
   ]
  },
  {
   "cell_type": "code",
   "execution_count": 2,
   "metadata": {},
   "outputs": [
    {
     "data": {
      "text/html": [
       "<p>To authorize access needed by Earth Engine, open the following\n",
       "        URL in a web browser and follow the instructions:</p>\n",
       "        <p><a href=https://accounts.google.com/o/oauth2/auth?client_id=517222506229-vsmmajv00ul0bs7p89v5m89qs8eb9359.apps.googleusercontent.com&scope=https%3A%2F%2Fwww.googleapis.com%2Fauth%2Fearthengine+https%3A%2F%2Fwww.googleapis.com%2Fauth%2Fdevstorage.full_control&redirect_uri=urn%3Aietf%3Awg%3Aoauth%3A2.0%3Aoob&response_type=code&code_challenge=URFoxJuxAxjXCVGW8kvOefnQ9Qiw15lED1Ioc0FmVj8&code_challenge_method=S256>https://accounts.google.com/o/oauth2/auth?client_id=517222506229-vsmmajv00ul0bs7p89v5m89qs8eb9359.apps.googleusercontent.com&scope=https%3A%2F%2Fwww.googleapis.com%2Fauth%2Fearthengine+https%3A%2F%2Fwww.googleapis.com%2Fauth%2Fdevstorage.full_control&redirect_uri=urn%3Aietf%3Awg%3Aoauth%3A2.0%3Aoob&response_type=code&code_challenge=URFoxJuxAxjXCVGW8kvOefnQ9Qiw15lED1Ioc0FmVj8&code_challenge_method=S256</a></p>\n",
       "        <p>The authorization workflow will generate a code, which you\n",
       "        should paste in the box below</p>\n",
       "        "
      ],
      "text/plain": [
       "<IPython.core.display.HTML object>"
      ]
     },
     "metadata": {},
     "output_type": "display_data"
    },
    {
     "name": "stdin",
     "output_type": "stream",
     "text": [
      "Enter verification code:  4/1AY0e-g5-6Adt57xPRykgTyvhENzTVDzZjc3SXoeMGoZdyv2WpjebsQ3j7ME\n"
     ]
    },
    {
     "name": "stdout",
     "output_type": "stream",
     "text": [
      "\n",
      "Successfully saved authorization token.\n"
     ]
    }
   ],
   "source": [
    "ee.Authenticate()"
   ]
  },
  {
   "cell_type": "code",
   "execution_count": 3,
   "metadata": {},
   "outputs": [],
   "source": [
    "ee.Initialize()"
   ]
  },
  {
   "cell_type": "code",
   "execution_count": 4,
   "metadata": {},
   "outputs": [],
   "source": [
    "smap_usda = (ee\n",
    "  .ImageCollection('NASA_USDA/HSL/SMAP_soil_moisture'))"
   ]
  },
  {
   "cell_type": "code",
   "execution_count": 5,
   "metadata": {},
   "outputs": [],
   "source": [
    "bands = ee.List(['smp', 'ssm', 'susm'])\n",
    "months = ee.List.sequence(1, 12);"
   ]
  },
  {
   "cell_type": "code",
   "execution_count": 6,
   "metadata": {},
   "outputs": [],
   "source": [
    "# monthly averages for each band\n",
    "def band_mon_avg(bb):\n",
    "  def mon_avg(mm):\n",
    "    return (smap_usda\n",
    "           .filter(ee.Filter.calendarRange(mm, mm, 'month'))\n",
    "           .select([bb])\n",
    "           .mean()\n",
    "           .set('month', mm).set('band', bb))\n",
    "  return ee.ImageCollection.fromImages(months.map(mon_avg).flatten())"
   ]
  },
  {
   "cell_type": "code",
   "execution_count": 7,
   "metadata": {},
   "outputs": [],
   "source": [
    "monthly_means = bands.map(band_mon_avg)"
   ]
  },
  {
   "cell_type": "code",
   "execution_count": 8,
   "metadata": {},
   "outputs": [],
   "source": [
    "# print(monthly_means)"
   ]
  },
  {
   "cell_type": "code",
   "execution_count": 9,
   "metadata": {},
   "outputs": [
    {
     "data": {
      "text/plain": [
       "[{'type': 'ImageCollection', 'bands': []},\n",
       " {'type': 'ImageCollection', 'bands': []},\n",
       " {'type': 'ImageCollection', 'bands': []}]"
      ]
     },
     "execution_count": 9,
     "metadata": {},
     "output_type": "execute_result"
    }
   ],
   "source": [
    "monthly_means.getInfo()"
   ]
  },
  {
   "cell_type": "code",
   "execution_count": 10,
   "metadata": {},
   "outputs": [],
   "source": [
    "# separate the variables\n",
    "smp = ee.ImageCollection(monthly_means.get(0))\n",
    "ssm = ee.ImageCollection(monthly_means.get(1))\n",
    "susm = ee.ImageCollection(monthly_means.get(2))"
   ]
  },
  {
   "cell_type": "code",
   "execution_count": 11,
   "metadata": {},
   "outputs": [],
   "source": [
    "# porosity in mm (millimeters)\n",
    "def mon_porosity_calc(mm):\n",
    "  porosity = (ssm\n",
    "    .filter(ee.Filter.eq('month', mm)).first()\n",
    "    .add(susm.filter(ee.Filter.eq('month', mm)).first())\n",
    "    .divide(smp.filter(ee.Filter.eq('month', mm)).first())\n",
    "    .set('month', mm).set('band', 'porosity_mm'))\n",
    "  return ee.Image(porosity)\n",
    "\n",
    "porosity = ee.ImageCollection(months.map(mon_porosity_calc))\n",
    "# porosity.getInfo()"
   ]
  },
  {
   "cell_type": "code",
   "execution_count": 12,
   "metadata": {},
   "outputs": [],
   "source": [
    "# available/additional/unused porosity\n",
    "def mon_avail_porosity_calc(mm):\n",
    "  avail_porosity = (porosity\n",
    "    .filter(ee.Filter.eq('month', mm)).first()\n",
    "    .subtract(\n",
    "      ssm.filter(ee.Filter.eq('month', mm)).first()\n",
    "      .add(susm.filter(ee.Filter.eq('month', mm)).first()))\n",
    "      .set('month', mm).set('band', 'avail_porosity_mm'))\n",
    "  return ee.Image(avail_porosity)\n",
    "\n",
    "avail_porosity = ee.ImageCollection(months.map(mon_avail_porosity_calc))\n",
    "# avail_porosity.getInfo()"
   ]
  },
  {
   "cell_type": "code",
   "execution_count": 13,
   "metadata": {},
   "outputs": [],
   "source": [
    "# Export to images, build a collection\n",
    "smap_collection = ee.ImageCollection(\n",
    "  ee.List([\n",
    "    ssm.toList(12),\n",
    "    susm.toList(12),\n",
    "    smp.toList(12),\n",
    "    porosity.toList(12),\n",
    "    avail_porosity.toList(12)]).flatten())\n",
    "\n",
    "# smap_collection.getInfo()"
   ]
  },
  {
   "cell_type": "code",
   "execution_count": 14,
   "metadata": {},
   "outputs": [],
   "source": [
    "# smap_asset = ee.data.createAsset({'type': 'ImageCollection'}, 'users/jamesmcc/smap_usda_climatology')\n",
    "smap_asset = {'id': 'users/jamesmcc/smap_usda_climatology'}"
   ]
  },
  {
   "cell_type": "code",
   "execution_count": 15,
   "metadata": {},
   "outputs": [
    {
     "data": {
      "text/plain": [
       "{'id': 'users/jamesmcc/smap_usda_climatology'}"
      ]
     },
     "execution_count": 15,
     "metadata": {},
     "output_type": "execute_result"
    }
   ],
   "source": [
    "smap_asset"
   ]
  },
  {
   "cell_type": "code",
   "execution_count": 28,
   "metadata": {},
   "outputs": [],
   "source": [
    "month_names = [\n",
    "    'Jan', 'Feb', 'Mar', 'Apr', 'May', 'Jun', \n",
    "    'Jul', 'Aug', 'Sep', 'Oct', 'Nov', 'Dec']\n",
    "# bands = ['smp'] #, 'ssm', 'susm']\n",
    "bands = ['porosity_mm', 'avail_porosity_mm']\n",
    "bbox = ee.Geometry.BBox(-180.0, -90, 180, 90)\n",
    "for bb in bands:\n",
    "    for mm0 in range(12):\n",
    "        mm = mm0 + 1\n",
    "        description = 'SMAP-USDA_mon_clim_' + str(bb) + '_' + str(mm).zfill(2) + '_' + month_names[mm0]\n",
    "        xx = ee.batch.Export.image.toAsset(\n",
    "            smap_collection\n",
    "            .filter(ee.Filter.eq('month', mm))\n",
    "            .filter(ee.Filter.eq('band', bb)).first(),\n",
    "            description=description, \n",
    "            assetId=smap_asset['id'] + '/' + description,\n",
    "            region=bbox).start()"
   ]
  },
  {
   "cell_type": "code",
   "execution_count": null,
   "metadata": {},
   "outputs": [],
   "source": []
  },
  {
   "cell_type": "code",
   "execution_count": 20,
   "metadata": {},
   "outputs": [],
   "source": [
    "# -------------------------"
   ]
  },
  {
   "cell_type": "code",
   "execution_count": 17,
   "metadata": {},
   "outputs": [],
   "source": [
    "palette_name = 'BrBG'\n",
    "palette_len = 11\n",
    "palette = brewer[palette_name][palette_len][::-1]  # reverse it"
   ]
  },
  {
   "cell_type": "code",
   "execution_count": 30,
   "metadata": {},
   "outputs": [
    {
     "data": {
      "text/html": [
       "\n",
       "\n",
       "\n",
       "\n",
       "\n",
       "\n",
       "  <div class=\"bk-root\" id=\"3df8bb12-7fe3-4dcf-816a-a12d6f63c236\" data-root-id=\"1289\"></div>\n"
      ]
     },
     "metadata": {},
     "output_type": "display_data"
    },
    {
     "data": {
      "application/javascript": [
       "(function(root) {\n",
       "  function embed_document(root) {\n",
       "    \n",
       "  var docs_json = {\"f331d784-1faf-48c5-9598-ca3784942dcc\":{\"roots\":{\"references\":[{\"attributes\":{\"below\":[{\"id\":\"1300\"}],\"center\":[{\"id\":\"1303\"},{\"id\":\"1307\"}],\"left\":[{\"id\":\"1304\"}],\"plot_height\":75,\"plot_width\":400,\"renderers\":[{\"id\":\"1325\"}],\"title\":{\"id\":\"1290\"},\"toolbar\":{\"id\":\"1315\"},\"x_range\":{\"id\":\"1292\"},\"x_scale\":{\"id\":\"1296\"},\"y_range\":{\"id\":\"1294\"},\"y_scale\":{\"id\":\"1298\"}},\"id\":\"1289\",\"subtype\":\"Figure\",\"type\":\"Plot\"},{\"attributes\":{},\"id\":\"1292\",\"type\":\"DataRange1d\"},{\"attributes\":{},\"id\":\"1313\",\"type\":\"HelpTool\"},{\"attributes\":{\"formatter\":{\"id\":\"1346\"},\"ticker\":{\"id\":\"1301\"}},\"id\":\"1300\",\"type\":\"LinearAxis\"},{\"attributes\":{\"source\":{\"id\":\"1322\"}},\"id\":\"1326\",\"type\":\"CDSView\"},{\"attributes\":{},\"id\":\"1311\",\"type\":\"SaveTool\"},{\"attributes\":{},\"id\":\"1346\",\"type\":\"BasicTickFormatter\"},{\"attributes\":{\"overlay\":{\"id\":\"1314\"}},\"id\":\"1310\",\"type\":\"BoxZoomTool\"},{\"attributes\":{\"bottom\":{\"field\":\"bottom\"},\"fill_alpha\":{\"value\":0.1},\"fill_color\":{\"field\":\"fill_color\"},\"line_alpha\":{\"value\":0.1},\"line_color\":{\"field\":\"line_color\"},\"top\":{\"field\":\"top\"},\"width\":{\"value\":1},\"x\":{\"field\":\"x\"}},\"id\":\"1324\",\"type\":\"VBar\"},{\"attributes\":{},\"id\":\"1301\",\"type\":\"BasicTicker\"},{\"attributes\":{\"bottom_units\":\"screen\",\"fill_alpha\":0.5,\"fill_color\":\"lightgrey\",\"left_units\":\"screen\",\"level\":\"overlay\",\"line_alpha\":1.0,\"line_color\":\"black\",\"line_dash\":[4,4],\"line_width\":2,\"right_units\":\"screen\",\"top_units\":\"screen\"},\"id\":\"1314\",\"type\":\"BoxAnnotation\"},{\"attributes\":{\"axis\":{\"id\":\"1300\"},\"ticker\":null},\"id\":\"1303\",\"type\":\"Grid\"},{\"attributes\":{\"active_drag\":\"auto\",\"active_inspect\":\"auto\",\"active_multi\":null,\"active_scroll\":\"auto\",\"active_tap\":\"auto\",\"tools\":[{\"id\":\"1308\"},{\"id\":\"1309\"},{\"id\":\"1310\"},{\"id\":\"1311\"},{\"id\":\"1312\"},{\"id\":\"1313\"}]},\"id\":\"1315\",\"type\":\"Toolbar\"},{\"attributes\":{},\"id\":\"1298\",\"type\":\"LinearScale\"},{\"attributes\":{},\"id\":\"1348\",\"type\":\"BasicTickFormatter\"},{\"attributes\":{},\"id\":\"1308\",\"type\":\"PanTool\"},{\"attributes\":{\"formatter\":{\"id\":\"1348\"},\"ticker\":{\"id\":\"1305\"}},\"id\":\"1304\",\"type\":\"LinearAxis\"},{\"attributes\":{},\"id\":\"1309\",\"type\":\"WheelZoomTool\"},{\"attributes\":{\"data\":{\"bottom\":[0,0,0,0,0,0,0,0,0,0,0],\"fill_color\":[\"#543005\",\"#8c510a\",\"#bf812d\",\"#dfc27d\",\"#f6e8c3\",\"#f5f5f5\",\"#c7eae5\",\"#80cdc1\",\"#35978f\",\"#01665e\",\"#003c30\"],\"line_color\":[\"#543005\",\"#8c510a\",\"#bf812d\",\"#dfc27d\",\"#f6e8c3\",\"#f5f5f5\",\"#c7eae5\",\"#80cdc1\",\"#35978f\",\"#01665e\",\"#003c30\"],\"top\":[1,1,1,1,1,1,1,1,1,1,1],\"x\":[0,1,2,3,4,5,6,7,8,9,10]},\"selected\":{\"id\":\"1350\"},\"selection_policy\":{\"id\":\"1351\"}},\"id\":\"1322\",\"type\":\"ColumnDataSource\"},{\"attributes\":{\"text\":\"BrBG\"},\"id\":\"1290\",\"type\":\"Title\"},{\"attributes\":{\"axis\":{\"id\":\"1304\"},\"dimension\":1,\"ticker\":null},\"id\":\"1307\",\"type\":\"Grid\"},{\"attributes\":{},\"id\":\"1294\",\"type\":\"DataRange1d\"},{\"attributes\":{},\"id\":\"1305\",\"type\":\"BasicTicker\"},{\"attributes\":{\"data_source\":{\"id\":\"1322\"},\"glyph\":{\"id\":\"1323\"},\"hover_glyph\":null,\"muted_glyph\":null,\"nonselection_glyph\":{\"id\":\"1324\"},\"selection_glyph\":null,\"view\":{\"id\":\"1326\"}},\"id\":\"1325\",\"type\":\"GlyphRenderer\"},{\"attributes\":{\"bottom\":{\"field\":\"bottom\"},\"fill_color\":{\"field\":\"fill_color\"},\"line_color\":{\"field\":\"line_color\"},\"top\":{\"field\":\"top\"},\"width\":{\"value\":1},\"x\":{\"field\":\"x\"}},\"id\":\"1323\",\"type\":\"VBar\"},{\"attributes\":{},\"id\":\"1312\",\"type\":\"ResetTool\"},{\"attributes\":{},\"id\":\"1350\",\"type\":\"Selection\"},{\"attributes\":{},\"id\":\"1351\",\"type\":\"UnionRenderers\"},{\"attributes\":{},\"id\":\"1296\",\"type\":\"LinearScale\"}],\"root_ids\":[\"1289\"]},\"title\":\"Bokeh Application\",\"version\":\"2.2.3\"}};\n",
       "  var render_items = [{\"docid\":\"f331d784-1faf-48c5-9598-ca3784942dcc\",\"root_ids\":[\"1289\"],\"roots\":{\"1289\":\"3df8bb12-7fe3-4dcf-816a-a12d6f63c236\"}}];\n",
       "  root.Bokeh.embed.embed_items_notebook(docs_json, render_items);\n",
       "\n",
       "  }\n",
       "  if (root.Bokeh !== undefined) {\n",
       "    embed_document(root);\n",
       "  } else {\n",
       "    var attempts = 0;\n",
       "    var timer = setInterval(function(root) {\n",
       "      if (root.Bokeh !== undefined) {\n",
       "        clearInterval(timer);\n",
       "        embed_document(root);\n",
       "      } else {\n",
       "        attempts++;\n",
       "        if (attempts > 100) {\n",
       "          clearInterval(timer);\n",
       "          console.log(\"Bokeh: ERROR: Unable to run BokehJS code because BokehJS library is missing\");\n",
       "        }\n",
       "      }\n",
       "    }, 10, root)\n",
       "  }\n",
       "})(window);"
      ],
      "application/vnd.bokehjs_exec.v0+json": ""
     },
     "metadata": {
      "application/vnd.bokehjs_exec.v0+json": {
       "id": "1289"
      }
     },
     "output_type": "display_data"
    }
   ],
   "source": [
    "legend = figure(title=palette_name, plot_width=400, plot_height=75)  \n",
    "# demonstrating the BrBG palette \n",
    "legend.vbar(x = range(palette_len),  \n",
    "           top = [1] * palette_len, \n",
    "           bottom = [0] * palette_len, \n",
    "           width = 1, \n",
    "           color = palette) \n",
    "show(legend)"
   ]
  },
  {
   "cell_type": "code",
   "execution_count": 27,
   "metadata": {},
   "outputs": [
    {
     "data": {
      "text/html": [
       "<img src=\"https://earthengine.googleapis.com/v1alpha/projects/earthengine-legacy/thumbnails/a44eef8190b289d4e6e1db4d84ff0fba-8074d97a368639396a0c023c4ea551c3:getPixels\"/>"
      ],
      "text/plain": [
       "<IPython.core.display.Image object>"
      ]
     },
     "metadata": {},
     "output_type": "display_data"
    }
   ],
   "source": [
    "# Display thumbnails\n",
    "\n",
    "bb = 'avail_porosity_mm'\n",
    "\n",
    "# How to get the min/max over the full climatology\n",
    "vis_params = {\n",
    "    'min': 0, 'max': 1, 'dimensions': 512,\n",
    "    'palette': palette}\n",
    "\n",
    "for mm0 in range(1):\n",
    "    mm = mm0 + 1\n",
    "    img = (\n",
    "        smap_collection\n",
    "        .filter(ee.Filter.eq('month', mm))\n",
    "        .filter(ee.Filter.eq('band', bb)).first())\n",
    "    display(Image(url = img.getThumbURL(vis_params)))"
   ]
  },
  {
   "cell_type": "code",
   "execution_count": null,
   "metadata": {},
   "outputs": [],
   "source": []
  }
 ],
 "metadata": {
  "kernelspec": {
   "display_name": "Python 3",
   "language": "python",
   "name": "python3"
  },
  "language_info": {
   "codemirror_mode": {
    "name": "ipython",
    "version": 3
   },
   "file_extension": ".py",
   "mimetype": "text/x-python",
   "name": "python",
   "nbconvert_exporter": "python",
   "pygments_lexer": "ipython3",
   "version": "3.8.3"
  }
 },
 "nbformat": 4,
 "nbformat_minor": 4
}
