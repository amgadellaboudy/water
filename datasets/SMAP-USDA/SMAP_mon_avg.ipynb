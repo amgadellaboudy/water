{
 "cells": [
  {
   "cell_type": "markdown",
   "metadata": {},
   "source": [
    "# SMAP-USDA monthly averages\n",
    "\n",
    "James McCreight \n",
    "Josh Daniel\n",
    "\n",
    "Monthly climatologies/stats of soil moisture quantities and \n",
    "their derivatives (porosity and available porosity).\n",
    "\n",
    "Moativating Question: What is the additional amount of water that soil could hold?\n",
    "\n",
    "Notes about the data:\n",
    "* This product is poorly documented but this appears to be a mostly a\n",
    "  modeled/assimilated product similar to \n",
    "  https://ieeexplore.ieee.org/document/5353747 \n",
    "  which used AMSR-E instead of SMAP.\n",
    "* IPAD is the 2-layer soil moisture model used \n",
    "* \"For this  study,  the  soil moisture  estimates  from  AMSR-E  are assumed\n",
    "   to represent a soil depth comparable to the surface layer used by the IPAD \n",
    "   modified Palmer model.\"\n",
    "* \"The available soil moisture capacity in for the soil column is calculated \n",
    "  from the available water content (AWC) of both layers (i.e., AWC_sz and AWC_rz\n",
    "  for the surface and root-zone model layers respectively) derived from  the  \n",
    "  FAO  Digital  Soil  Map  of  the World [15], soil texture and the total \n",
    "  depth of the soil column.\n",
    "* For compatibility with the volumetric soil moisture retrievals from AMSR-E, \n",
    "  we trans-formed  soil  moisture  units  from  depth  to  volumetric  content\n",
    "  during  implementation  of  our  data  assimilation  system  (Sec-tion  IV)\n",
    "  using  soil  porosity  data  from  the  Soil  Survey  Geo-graphic (SSURGO) database. \n",
    "* 1-D EnKF assimilates surface obs into IPAD (error covariances in the vertical?)\n",
    "\n",
    "Bands (some interpretation):  \n",
    "`smp`: soil moisture profile (fraction - volumetric?), range=[0,1], assimilated  \n",
    "`ssm`: surface soil moisture (mm), range=[0, 25.39], observed  \n",
    "`susm`: subsurface soil moisture (mm), range=[0, 274.6], assimilated  \n",
    "\n",
    "Then:  \n",
    "```\n",
    "smp = (ssm + susm) / porosity_mm  [ - = mm/mm ]\n",
    "porosity_mm = (ssm + susm) / smp\n",
    "```\n",
    "where porosity (SSURGO) is total  column (variable, per FAO).\n",
    "So the unused porosity or additional porosity:\n",
    "\n",
    "```\n",
    "additional_porosity = porosity_mm - (ssm + susm)\n",
    "  = (ssm + susm)/smp - (ssm + susm)\n",
    "  = (ssm + susm - smp*ssm -smp*susm)/smp\n",
    "  = (ssm(1 - smp) + susm(1 - smp)) / smp\n",
    "  = (1 - smp)(ssm + susm)/smp\n",
    "```"
   ]
  },
  {
   "cell_type": "code",
   "execution_count": 1,
   "metadata": {},
   "outputs": [],
   "source": [
    "import mon_stats\n",
    "import ee"
   ]
  },
  {
   "cell_type": "code",
   "execution_count": 2,
   "metadata": {},
   "outputs": [],
   "source": [
    "#ee.Authenticate()"
   ]
  },
  {
   "cell_type": "code",
   "execution_count": 3,
   "metadata": {},
   "outputs": [],
   "source": [
    "ee.Initialize()"
   ]
  },
  {
   "cell_type": "code",
   "execution_count": 4,
   "metadata": {},
   "outputs": [],
   "source": [
    "smap_usda = (ee\n",
    "  .ImageCollection('NASA_USDA/HSL/SMAP_soil_moisture'))"
   ]
  },
  {
   "cell_type": "code",
   "execution_count": 5,
   "metadata": {},
   "outputs": [],
   "source": [
    "smap_usda_clim = mon_stats.bands_avgs(['smp', 'ssm', 'susm'], smap_usda)"
   ]
  },
  {
   "cell_type": "code",
   "execution_count": 6,
   "metadata": {},
   "outputs": [
    {
     "data": {
      "text/plain": [
       "{'avgs': <ee.dictionary.Dictionary at 0x7f930085d8b0>,\n",
       " 'lens': <ee.dictionary.Dictionary at 0x7f930085daf0>}"
      ]
     },
     "execution_count": 6,
     "metadata": {},
     "output_type": "execute_result"
    }
   ],
   "source": [
    "smap_usda_clim"
   ]
  },
  {
   "cell_type": "code",
   "execution_count": 7,
   "metadata": {},
   "outputs": [
    {
     "data": {
      "text/plain": [
       "{'smp': {'type': 'ImageCollection', 'bands': []},\n",
       " 'ssm': {'type': 'ImageCollection', 'bands': []},\n",
       " 'susm': {'type': 'ImageCollection', 'bands': []}}"
      ]
     },
     "execution_count": 7,
     "metadata": {},
     "output_type": "execute_result"
    }
   ],
   "source": [
    "smap_usda_clim['avgs'].getInfo()"
   ]
  },
  {
   "cell_type": "code",
   "execution_count": 8,
   "metadata": {},
   "outputs": [
    {
     "data": {
      "text/plain": [
       "{'smp': [51, 45, 51, 60, 61, 60, 64, 61, 60, 60, 59, 61],\n",
       " 'ssm': [51, 45, 51, 60, 61, 60, 64, 61, 60, 60, 59, 61],\n",
       " 'susm': [51, 45, 51, 60, 61, 60, 64, 61, 60, 60, 59, 61]}"
      ]
     },
     "execution_count": 8,
     "metadata": {},
     "output_type": "execute_result"
    }
   ],
   "source": [
    "smap_usda_clim['lens'].getInfo()"
   ]
  },
  {
   "cell_type": "code",
   "execution_count": 9,
   "metadata": {},
   "outputs": [],
   "source": [
    "# separate the variables\n",
    "smp = ee.ImageCollection(smap_usda_clim['avgs'].get('smp'))\n",
    "ssm = ee.ImageCollection(smap_usda_clim['avgs'].get('ssm'))\n",
    "susm = ee.ImageCollection(smap_usda_clim['avgs'].get('susm'))"
   ]
  },
  {
   "cell_type": "code",
   "execution_count": 10,
   "metadata": {},
   "outputs": [],
   "source": [
    "months = mon_stats.months_list()"
   ]
  },
  {
   "cell_type": "code",
   "execution_count": 11,
   "metadata": {},
   "outputs": [],
   "source": [
    "# porosity in mm (millimeters)\n",
    "def mon_porosity_calc(mm):\n",
    "  porosity = (ssm\n",
    "    .filter(ee.Filter.eq('month', mm)).first()\n",
    "    .add(susm.filter(ee.Filter.eq('month', mm)).first())\n",
    "    .divide(smp.filter(ee.Filter.eq('month', mm)).first())\n",
    "    .set('month', mm)\n",
    "    .set('variable', 'porosity_mm')\n",
    "    .rename(['porosity_mm']))\n",
    "  return ee.Image(porosity)\n",
    "\n",
    "porosity = ee.ImageCollection(months.map(mon_porosity_calc))\n",
    "# porosity.getInfo()"
   ]
  },
  {
   "cell_type": "code",
   "execution_count": 12,
   "metadata": {},
   "outputs": [],
   "source": [
    "# available/additional/unused porosity\n",
    "def mon_avail_porosity_calc(mm):\n",
    "  avail_porosity = (porosity\n",
    "    .filter(ee.Filter.eq('month', mm)).first()\n",
    "    .subtract(\n",
    "      ssm.filter(ee.Filter.eq('month', mm)).first()\n",
    "      .add(susm.filter(ee.Filter.eq('month', mm)).first()))\n",
    "      .set('month', mm)\n",
    "      .set('band', 'avail_porosity_mm')\n",
    "      .rename(['avail_porosity_mm']))\n",
    "  return ee.Image(avail_porosity)\n",
    "\n",
    "avail_porosity = ee.ImageCollection(months.map(mon_avail_porosity_calc))\n",
    "# avail_porosity.getInfo()"
   ]
  },
  {
   "cell_type": "code",
   "execution_count": 13,
   "metadata": {},
   "outputs": [],
   "source": [
    "# Export to images, build a collection\n",
    "smap_collection = ee.ImageCollection(\n",
    "  ee.List([\n",
    "    ssm.toList(12),\n",
    "    susm.toList(12),\n",
    "    smp.toList(12),\n",
    "    porosity.toList(12),\n",
    "    avail_porosity.toList(12)]).flatten())\n",
    "\n",
    "# smap_collection.getInfo()"
   ]
  },
  {
   "cell_type": "code",
   "execution_count": 14,
   "metadata": {},
   "outputs": [],
   "source": [
    "smap_asset = ee.data.createAsset({'type': 'ImageCollection'}, 'users/jamesmcc/smap_usda_climatology')\n",
    "#smap_asset = {'id': 'users/jamesmcc/smap_usda_climatology_2'}"
   ]
  },
  {
   "cell_type": "code",
   "execution_count": 15,
   "metadata": {},
   "outputs": [
    {
     "data": {
      "text/plain": [
       "{'type': 'IMAGE_COLLECTION',\n",
       " 'name': 'projects/earthengine-legacy/assets/users/jamesmcc/smap_usda_climatology',\n",
       " 'id': 'users/jamesmcc/smap_usda_climatology',\n",
       " 'updateTime': '2021-01-14T23:36:31.584919Z'}"
      ]
     },
     "execution_count": 15,
     "metadata": {},
     "output_type": "execute_result"
    }
   ],
   "source": [
    "smap_asset"
   ]
  },
  {
   "cell_type": "code",
   "execution_count": 16,
   "metadata": {},
   "outputs": [],
   "source": [
    "month_names = [\n",
    "    'Jan', 'Feb', 'Mar', 'Apr', 'May', 'Jun', \n",
    "    'Jul', 'Aug', 'Sep', 'Oct', 'Nov', 'Dec']\n",
    "bands = ['smp', 'ssm', 'susm', 'porosity_mm', 'avail_porosity_mm']\n",
    "bbox = ee.Geometry.BBox(-180.0, -90, 180, 90)\n",
    "for bb in bands:\n",
    "    for mm0 in range(12):\n",
    "        mm = mm0 + 1\n",
    "        description = 'SMAP-USDA_mon_clim_' + str(bb) + '_' + str(mm).zfill(2) + '_' + month_names[mm0]\n",
    "        xx = ee.batch.Export.image.toAsset(\n",
    "            smap_collection\n",
    "            .filter(ee.Filter.eq('month', mm))\n",
    "            .filter(ee.Filter.eq('band', bb)).first(),\n",
    "            description=description, \n",
    "            assetId=smap_asset['id'] + '/' + description,\n",
    "            region=bbox).start()"
   ]
  },
  {
   "cell_type": "code",
   "execution_count": null,
   "metadata": {},
   "outputs": [],
   "source": []
  }
 ],
 "metadata": {
  "kernelspec": {
   "display_name": "Python 3",
   "language": "python",
   "name": "python3"
  },
  "language_info": {
   "codemirror_mode": {
    "name": "ipython",
    "version": 3
   },
   "file_extension": ".py",
   "mimetype": "text/x-python",
   "name": "python",
   "nbconvert_exporter": "python",
   "pygments_lexer": "ipython3",
   "version": "3.8.3"
  }
 },
 "nbformat": 4,
 "nbformat_minor": 4
}
