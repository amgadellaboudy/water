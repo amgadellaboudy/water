{
 "cells": [
  {
   "cell_type": "markdown",
   "metadata": {},
   "source": [
    "# SMAP-USDA monthly averages\n",
    "\n",
    "Monthly climatologies/stats of \n",
    "soil moisture quantities and \n",
    "their derivatives (porosity and available porosity)\n",
    "\n",
    "James McCreight \n"
   ]
  },
  {
   "cell_type": "code",
   "execution_count": 1,
   "metadata": {},
   "outputs": [],
   "source": [
    "import mon_stats\n",
    "import ee"
   ]
  },
  {
   "cell_type": "code",
   "execution_count": 2,
   "metadata": {},
   "outputs": [],
   "source": [
    "#ee.Authenticate()"
   ]
  },
  {
   "cell_type": "code",
   "execution_count": 3,
   "metadata": {},
   "outputs": [],
   "source": [
    "ee.Initialize()"
   ]
  },
  {
   "cell_type": "code",
   "execution_count": 4,
   "metadata": {},
   "outputs": [],
   "source": [
    "smap_usda = (ee\n",
    "  .ImageCollection('NASA_USDA/HSL/SMAP_soil_moisture'))"
   ]
  },
  {
   "cell_type": "code",
   "execution_count": 5,
   "metadata": {},
   "outputs": [],
   "source": [
    "smap_usda_clim = mon_stats.bands_avgs(['smp', 'ssm', 'susm'], smap_usda)"
   ]
  },
  {
   "cell_type": "code",
   "execution_count": 6,
   "metadata": {},
   "outputs": [
    {
     "data": {
      "text/plain": [
       "{'avgs': <ee.dictionary.Dictionary at 0x7fe3789b7cd0>,\n",
       " 'lens': <ee.dictionary.Dictionary at 0x7fe3789b7c10>}"
      ]
     },
     "execution_count": 6,
     "metadata": {},
     "output_type": "execute_result"
    }
   ],
   "source": [
    "smap_usda_clim"
   ]
  },
  {
   "cell_type": "code",
   "execution_count": 7,
   "metadata": {},
   "outputs": [
    {
     "data": {
      "text/plain": [
       "{'smp': {'type': 'ImageCollection', 'bands': []},\n",
       " 'ssm': {'type': 'ImageCollection', 'bands': []},\n",
       " 'susm': {'type': 'ImageCollection', 'bands': []}}"
      ]
     },
     "execution_count": 7,
     "metadata": {},
     "output_type": "execute_result"
    }
   ],
   "source": [
    "smap_usda_clim['avgs'].getInfo()"
   ]
  },
  {
   "cell_type": "code",
   "execution_count": 8,
   "metadata": {},
   "outputs": [
    {
     "data": {
      "text/plain": [
       "{'smp': [51, 45, 51, 60, 61, 60, 64, 61, 60, 60, 59, 60],\n",
       " 'ssm': [51, 45, 51, 60, 61, 60, 64, 61, 60, 60, 59, 60],\n",
       " 'susm': [51, 45, 51, 60, 61, 60, 64, 61, 60, 60, 59, 60]}"
      ]
     },
     "execution_count": 8,
     "metadata": {},
     "output_type": "execute_result"
    }
   ],
   "source": [
    "smap_usda_clim['lens'].getInfo()"
   ]
  },
  {
   "cell_type": "code",
   "execution_count": 9,
   "metadata": {},
   "outputs": [],
   "source": [
    "# separate the variables\n",
    "smp = ee.ImageCollection(smap_usda_clim['avgs'].get('smp'))\n",
    "ssm = ee.ImageCollection(smap_usda_clim['avgs'].get('ssm'))\n",
    "susm = ee.ImageCollection(smap_usda_clim['avgs'].get('susm'))"
   ]
  },
  {
   "cell_type": "code",
   "execution_count": 10,
   "metadata": {},
   "outputs": [],
   "source": [
    "months = mon_stats.months_list()"
   ]
  },
  {
   "cell_type": "code",
   "execution_count": 11,
   "metadata": {},
   "outputs": [],
   "source": [
    "# porosity in mm (millimeters)\n",
    "def mon_porosity_calc(mm):\n",
    "  porosity = (ssm\n",
    "    .filter(ee.Filter.eq('month', mm)).first()\n",
    "    .add(susm.filter(ee.Filter.eq('month', mm)).first())\n",
    "    .divide(smp.filter(ee.Filter.eq('month', mm)).first())\n",
    "    .set('month', mm).set('band', 'porosity_mm'))\n",
    "  return ee.Image(porosity)\n",
    "\n",
    "porosity = ee.ImageCollection(months.map(mon_porosity_calc))\n",
    "# porosity.getInfo()"
   ]
  },
  {
   "cell_type": "code",
   "execution_count": 12,
   "metadata": {},
   "outputs": [],
   "source": [
    "# available/additional/unused porosity\n",
    "def mon_avail_porosity_calc(mm):\n",
    "  avail_porosity = (porosity\n",
    "    .filter(ee.Filter.eq('month', mm)).first()\n",
    "    .subtract(\n",
    "      ssm.filter(ee.Filter.eq('month', mm)).first()\n",
    "      .add(susm.filter(ee.Filter.eq('month', mm)).first()))\n",
    "      .set('month', mm).set('band', 'avail_porosity_mm'))\n",
    "  return ee.Image(avail_porosity)\n",
    "\n",
    "avail_porosity = ee.ImageCollection(months.map(mon_avail_porosity_calc))\n",
    "# avail_porosity.getInfo()"
   ]
  },
  {
   "cell_type": "code",
   "execution_count": 13,
   "metadata": {},
   "outputs": [],
   "source": [
    "# Export to images, build a collection\n",
    "smap_collection = ee.ImageCollection(\n",
    "  ee.List([\n",
    "    ssm.toList(12),\n",
    "    susm.toList(12),\n",
    "    smp.toList(12),\n",
    "    porosity.toList(12),\n",
    "    avail_porosity.toList(12)]).flatten())\n",
    "\n",
    "# smap_collection.getInfo()"
   ]
  },
  {
   "cell_type": "code",
   "execution_count": 14,
   "metadata": {},
   "outputs": [],
   "source": [
    "smap_asset = ee.data.createAsset({'type': 'ImageCollection'}, 'users/jamesmcc/smap_usda_climatology')\n",
    "#smap_asset = {'id': 'users/jamesmcc/smap_usda_climatology_2'}"
   ]
  },
  {
   "cell_type": "code",
   "execution_count": 15,
   "metadata": {},
   "outputs": [
    {
     "data": {
      "text/plain": [
       "{'type': 'IMAGE_COLLECTION',\n",
       " 'name': 'projects/earthengine-legacy/assets/users/jamesmcc/smap_usda_climatology',\n",
       " 'id': 'users/jamesmcc/smap_usda_climatology',\n",
       " 'updateTime': '2021-01-03T21:28:58.630438Z'}"
      ]
     },
     "execution_count": 15,
     "metadata": {},
     "output_type": "execute_result"
    }
   ],
   "source": [
    "smap_asset"
   ]
  },
  {
   "cell_type": "code",
   "execution_count": 16,
   "metadata": {},
   "outputs": [],
   "source": [
    "month_names = [\n",
    "    'Jan', 'Feb', 'Mar', 'Apr', 'May', 'Jun', \n",
    "    'Jul', 'Aug', 'Sep', 'Oct', 'Nov', 'Dec']\n",
    "bands = ['smp', 'ssm', 'susm', 'porosity_mm', 'avail_porosity_mm']\n",
    "bbox = ee.Geometry.BBox(-180.0, -90, 180, 90)\n",
    "for bb in bands:\n",
    "    for mm0 in range(12):\n",
    "        mm = mm0 + 1\n",
    "        description = 'SMAP-USDA_mon_clim_' + str(bb) + '_' + str(mm).zfill(2) + '_' + month_names[mm0]\n",
    "        xx = ee.batch.Export.image.toAsset(\n",
    "            smap_collection\n",
    "            .filter(ee.Filter.eq('month', mm))\n",
    "            .filter(ee.Filter.eq('band', bb)).first(),\n",
    "            description=description, \n",
    "            assetId=smap_asset['id'] + '/' + description,\n",
    "            region=bbox).start()"
   ]
  }
 ],
 "metadata": {
  "kernelspec": {
   "display_name": "Python 3",
   "language": "python",
   "name": "python3"
  },
  "language_info": {
   "codemirror_mode": {
    "name": "ipython",
    "version": 3
   },
   "file_extension": ".py",
   "mimetype": "text/x-python",
   "name": "python",
   "nbconvert_exporter": "python",
   "pygments_lexer": "ipython3",
   "version": "3.8.3"
  }
 },
 "nbformat": 4,
 "nbformat_minor": 4
}
