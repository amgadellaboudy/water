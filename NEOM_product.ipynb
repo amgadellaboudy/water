{
 "cells": [
  {
   "cell_type": "markdown",
   "metadata": {},
   "source": [
    "## NEOM region swale potential\n",
    "\n",
    "Amgad, James, Josh\n",
    "\n",
    "Mapping NEOM region for suitability of building features (such as swales) to capture surface/ sub-surface water, mainly to build up plant-available water in the soil.\n",
    "\n",
    "Layers/ Factors:\n",
    "1. Slope : Restricted to [0-10 degrees], gradual slopes are more desirable\n",
    "2. Top Soil Types: Medium texture (loam/ silt) score highest, second is fine clays, and last is coarse sands for retaining plant-avaialble water\n",
    "3. Runoff: Higher runoff is better, masked to values only above 1E-3 mm per grid box"
   ]
  },
  {
   "cell_type": "code",
   "execution_count": null,
   "metadata": {},
   "outputs": [],
   "source": [
    "import ee\n",
    "import numpy as np\n",
    "\n",
    "import sys\n",
    "sys.path.insert(1, '../datasets/SMAP-USDA/')  # until we package this\n",
    "import visualize as vis\n",
    "import water_common as common\n",
    "import normalize as norm\n",
    "from statistics import mean\n",
    "import folium\n",
    "from folium import plugins"
   ]
  },
  {
   "cell_type": "code",
   "execution_count": 2,
   "metadata": {},
   "outputs": [],
   "source": [
    "ee.Initialize()"
   ]
  },
  {
   "cell_type": "code",
   "execution_count": 95,
   "metadata": {},
   "outputs": [],
   "source": [
    "#importing slope variable, masking for gradual slopes\n",
    "neom = ee.Geometry.BBox(34.52778, 27.72417, 35.96528, 29.14139)\n",
    "\n",
    "slope_img = ee.Image('users/jamesmcc/merit_slope/merit_terrain_slope')\n",
    "slope_mask = slope_img.lte(10).And(slope_img.gt(0))\n",
    "slope_img_inv = slope_img.updateMask(slope_mask).pow(-1)\n",
    "\n",
    "slope_img_scaled = norm.img_scale(slope_img_inv, area_of_interest = neom)"
   ]
  },
  {
   "cell_type": "code",
   "execution_count": null,
   "metadata": {},
   "outputs": [],
   "source": []
  },
  {
   "cell_type": "code",
   "execution_count": null,
   "metadata": {},
   "outputs": [],
   "source": []
  },
  {
   "cell_type": "code",
   "execution_count": 4,
   "metadata": {},
   "outputs": [],
   "source": [
    "#soil types\n",
    "soil_types = ee.Image(\"OpenLandMap/SOL/SOL_TEXTURE-CLASS_USDA-TT_M/v02\")"
   ]
  },
  {
   "cell_type": "code",
   "execution_count": 96,
   "metadata": {},
   "outputs": [],
   "source": [
    "#categorizing soil types at 0, 10, and 30 cm depths based on retaining plant-available water ability\n",
    "top_soils = [5,7,8,10]\n",
    "medium_soils = [2,4,6,9]\n",
    "low_soils = [1,3,11,12]\n",
    "soil_0 = soil_types.expression(\n",
    "        \"(b('b0') == 5) ? 1.0\" +\n",
    "        \": (b('b0') == 7) ? 1.0\" +\n",
    "        \": (b('b0') == 8) ? 1.0\" +\n",
    "        \": (b('b0') == 10) ? 1.0\" +\n",
    "        \": (b('b0') == 2) ? 0.7\" +\n",
    "        \": (b('b0') == 4) ? 0.7\" +\n",
    "        \": (b('b0') == 6) ? 0.7\" +\n",
    "        \": (b('b0') == 9) ? 0.7\" +\n",
    "        \": (b('b0') == 1) ? 0.4\" +\n",
    "        \": (b('b0') == 3) ? 0.4\" +\n",
    "        \": (b('b0') == 11) ? 0.4\" +\n",
    "        \": (b('b0') == 12) ? 0.4\" +\n",
    "        \": 0\")\n",
    "\n",
    "soil_10 = soil_types.expression(\n",
    "        \"(b('b10') == 5) ? 1.0\" +\n",
    "        \": (b('b10') == 7) ? 1.0\" +\n",
    "        \": (b('b10') == 8) ? 1.0\" +\n",
    "        \": (b('b10') == 10) ? 1.0\" +\n",
    "        \": (b('b10') == 2) ? 0.7\" +\n",
    "        \": (b('b10') == 4) ? 0.7\" +\n",
    "        \": (b('b10') == 6) ? 0.7\" +\n",
    "        \": (b('b10') == 9) ? 0.7\" +\n",
    "        \": (b('b10') == 1) ? 0.4\" +\n",
    "        \": (b('b10') == 3) ? 0.4\" +\n",
    "        \": (b('b10') == 11) ? 0.4\" +\n",
    "        \": (b('b10') == 12) ? 0.4\" +\n",
    "        \": 0\")\n",
    "\n",
    "soil_30 = soil_types.expression(\n",
    "        \"(b('b30') == 5) ? 1.0\" +\n",
    "        \": (b('b30') == 7) ? 1.0\" +\n",
    "        \": (b('b30') == 8) ? 1.0\" +\n",
    "        \": (b('b30') == 10) ? 1.0\" +\n",
    "        \": (b('b30') == 2) ? 0.7\" +\n",
    "        \": (b('b30') == 4) ? 0.7\" +\n",
    "        \": (b('b30') == 6) ? 0.7\" +\n",
    "        \": (b('b30') == 9) ? 0.7\" +\n",
    "        \": (b('b30') == 1) ? 0.4\" +\n",
    "        \": (b('b30') == 3) ? 0.4\" +\n",
    "        \": (b('b30') == 11) ? 0.4\" +\n",
    "        \": (b('b30') == 12) ? 0.4\" +\n",
    "        \": 0\")\n",
    "\n",
    "top_soils = soil_0.expression('top_soil + soil_10 + soil_30',\n",
    "                             {'top_soil': soil_0.select('constant'),\n",
    "                             'soil_10': soil_10.select('constant'),\n",
    "                             'soil_30': soil_30.select('constant')})"
   ]
  },
  {
   "cell_type": "code",
   "execution_count": 97,
   "metadata": {},
   "outputs": [],
   "source": [
    "#scaling top soils and bottom soils\n",
    "top_soils_scaled = norm.img_scale(top_soils, area_of_interest= neom)"
   ]
  },
  {
   "cell_type": "code",
   "execution_count": null,
   "metadata": {},
   "outputs": [],
   "source": []
  },
  {
   "cell_type": "code",
   "execution_count": 98,
   "metadata": {},
   "outputs": [],
   "source": [
    "#importing runoff for January, masking for values higher than 1e-03 mm\n",
    "\n",
    "month = 1\n",
    "\n",
    "runoff = ee.ImageCollection('users/jamesmcc/era5_sfc_runoff_neom_climatology')\n",
    "\n",
    "runoff_img = (\n",
    "    runoff\n",
    "    .filter(ee.Filter.eq('month', month))\n",
    "    .select('surface_runoff').first())\n",
    "\n",
    "runoff_mask = runoff_img.gte(1e-06)\n",
    "runoff_update = runoff_img.updateMask(runoff_mask)\n",
    "\n",
    "runoff_scaled = norm.img_scale(runoff_update, area_of_interest = neom)"
   ]
  },
  {
   "cell_type": "code",
   "execution_count": null,
   "metadata": {},
   "outputs": [],
   "source": [
    "\n"
   ]
  },
  {
   "cell_type": "code",
   "execution_count": 99,
   "metadata": {},
   "outputs": [
    {
     "name": "stdout",
     "output_type": "stream",
     "text": [
      "[0.0018684243936366606, 0.7113979901770086]\n"
     ]
    }
   ],
   "source": [
    "#Compiling score, printing score range\n",
    "\n",
    "score = ((runoff_scaled.multiply(.5))\n",
    "        .add(top_soils_scaled.multiply(.25))\n",
    "        .add(slope_img_scaled.multiply(.25)))\n",
    "score_range = norm.img_range(score, area_of_interest = neom)\n",
    "print(score_range)"
   ]
  },
  {
   "cell_type": "code",
   "execution_count": 100,
   "metadata": {},
   "outputs": [
    {
     "data": {
      "text/html": [
       "\n",
       "\n",
       "\n",
       "\n",
       "\n",
       "\n",
       "  <div class=\"bk-root\" id=\"e9220bea-b385-43eb-a54d-68faff45c564\" data-root-id=\"2879\"></div>\n"
      ]
     },
     "metadata": {},
     "output_type": "display_data"
    },
    {
     "data": {
      "application/javascript": [
       "(function(root) {\n",
       "  function embed_document(root) {\n",
       "    \n",
       "  var docs_json = {\"d3dce8d3-89b4-410b-a57c-7690f85ca71b\":{\"roots\":{\"references\":[{\"attributes\":{\"below\":[{\"id\":\"2890\",\"type\":\"LinearAxis\"}],\"center\":[{\"id\":\"2894\",\"type\":\"Grid\"},{\"id\":\"2899\",\"type\":\"Grid\"}],\"left\":[{\"id\":\"2895\",\"type\":\"LinearAxis\"}],\"plot_height\":75,\"plot_width\":500,\"renderers\":[{\"id\":\"2916\",\"type\":\"GlyphRenderer\"}],\"title\":{\"id\":\"2880\",\"type\":\"Title\"},\"toolbar\":{\"id\":\"2906\",\"type\":\"Toolbar\"},\"x_range\":{\"id\":\"2882\",\"type\":\"DataRange1d\"},\"x_scale\":{\"id\":\"2886\",\"type\":\"LinearScale\"},\"y_range\":{\"id\":\"2884\",\"type\":\"DataRange1d\"},\"y_scale\":{\"id\":\"2888\",\"type\":\"LinearScale\"}},\"id\":\"2879\",\"subtype\":\"Figure\",\"type\":\"Plot\"},{\"attributes\":{},\"id\":\"2900\",\"type\":\"PanTool\"},{\"attributes\":{\"dimension\":1,\"ticker\":{\"id\":\"2896\",\"type\":\"BasicTicker\"}},\"id\":\"2899\",\"type\":\"Grid\"},{\"attributes\":{\"data_source\":{\"id\":\"2913\",\"type\":\"ColumnDataSource\"},\"glyph\":{\"id\":\"2914\",\"type\":\"VBar\"},\"hover_glyph\":null,\"muted_glyph\":null,\"nonselection_glyph\":{\"id\":\"2915\",\"type\":\"VBar\"},\"selection_glyph\":null,\"view\":{\"id\":\"2917\",\"type\":\"CDSView\"}},\"id\":\"2916\",\"type\":\"GlyphRenderer\"},{\"attributes\":{},\"id\":\"2901\",\"type\":\"WheelZoomTool\"},{\"attributes\":{},\"id\":\"3033\",\"type\":\"Selection\"},{\"attributes\":{},\"id\":\"2886\",\"type\":\"LinearScale\"},{\"attributes\":{\"callback\":null},\"id\":\"2882\",\"type\":\"DataRange1d\"},{\"attributes\":{\"bottom_units\":\"screen\",\"fill_alpha\":{\"value\":0.5},\"fill_color\":{\"value\":\"lightgrey\"},\"left_units\":\"screen\",\"level\":\"overlay\",\"line_alpha\":{\"value\":1.0},\"line_color\":{\"value\":\"black\"},\"line_dash\":[4,4],\"line_width\":{\"value\":2},\"render_mode\":\"css\",\"right_units\":\"screen\",\"top_units\":\"screen\"},\"id\":\"3034\",\"type\":\"BoxAnnotation\"},{\"attributes\":{},\"id\":\"2896\",\"type\":\"BasicTicker\"},{\"attributes\":{\"formatter\":{\"id\":\"3031\",\"type\":\"BasicTickFormatter\"},\"ticker\":{\"id\":\"2891\",\"type\":\"BasicTicker\"}},\"id\":\"2890\",\"type\":\"LinearAxis\"},{\"attributes\":{\"bottom\":{\"field\":\"bottom\"},\"fill_alpha\":{\"value\":0.1},\"fill_color\":{\"value\":\"#1f77b4\"},\"line_alpha\":{\"value\":0.1},\"line_color\":{\"value\":\"#1f77b4\"},\"top\":{\"field\":\"top\"},\"width\":{\"value\":0.1},\"x\":{\"field\":\"x\"}},\"id\":\"2915\",\"type\":\"VBar\"},{\"attributes\":{\"source\":{\"id\":\"2913\",\"type\":\"ColumnDataSource\"}},\"id\":\"2917\",\"type\":\"CDSView\"},{\"attributes\":{},\"id\":\"2905\",\"type\":\"HelpTool\"},{\"attributes\":{\"active_drag\":\"auto\",\"active_inspect\":\"auto\",\"active_multi\":null,\"active_scroll\":\"auto\",\"active_tap\":\"auto\",\"tools\":[{\"id\":\"2900\",\"type\":\"PanTool\"},{\"id\":\"2901\",\"type\":\"WheelZoomTool\"},{\"id\":\"2902\",\"type\":\"BoxZoomTool\"},{\"id\":\"2903\",\"type\":\"SaveTool\"},{\"id\":\"2904\",\"type\":\"ResetTool\"},{\"id\":\"2905\",\"type\":\"HelpTool\"}]},\"id\":\"2906\",\"type\":\"Toolbar\"},{\"attributes\":{},\"id\":\"2903\",\"type\":\"SaveTool\"},{\"attributes\":{},\"id\":\"2888\",\"type\":\"LinearScale\"},{\"attributes\":{\"ticker\":{\"id\":\"2891\",\"type\":\"BasicTicker\"}},\"id\":\"2894\",\"type\":\"Grid\"},{\"attributes\":{\"overlay\":{\"id\":\"3034\",\"type\":\"BoxAnnotation\"}},\"id\":\"2902\",\"type\":\"BoxZoomTool\"},{\"attributes\":{},\"id\":\"3031\",\"type\":\"BasicTickFormatter\"},{\"attributes\":{\"callback\":null},\"id\":\"2884\",\"type\":\"DataRange1d\"},{\"attributes\":{\"formatter\":{\"id\":\"3029\",\"type\":\"BasicTickFormatter\"},\"ticker\":{\"id\":\"2896\",\"type\":\"BasicTicker\"}},\"id\":\"2895\",\"type\":\"LinearAxis\"},{\"attributes\":{},\"id\":\"3029\",\"type\":\"BasicTickFormatter\"},{\"attributes\":{},\"id\":\"3032\",\"type\":\"UnionRenderers\"},{\"attributes\":{\"callback\":null,\"data\":{\"bottom\":[1,1,1,1],\"fill_color\":[\"#eff3ff\",\"#bdd7e7\",\"#6baed6\",\"#2171b5\"],\"line_color\":[\"#eff3ff\",\"#bdd7e7\",\"#6baed6\",\"#2171b5\"],\"top\":[0,0,0,0],\"x\":[0.15000000000000002,0.25,0.35,0.45000000000000007]},\"selected\":{\"id\":\"3033\",\"type\":\"Selection\"},\"selection_policy\":{\"id\":\"3032\",\"type\":\"UnionRenderers\"}},\"id\":\"2913\",\"type\":\"ColumnDataSource\"},{\"attributes\":{},\"id\":\"2904\",\"type\":\"ResetTool\"},{\"attributes\":{},\"id\":\"2891\",\"type\":\"BasicTicker\"},{\"attributes\":{\"bottom\":{\"field\":\"bottom\"},\"fill_color\":{\"field\":\"fill_color\"},\"line_color\":{\"field\":\"line_color\"},\"top\":{\"field\":\"top\"},\"width\":{\"value\":0.1},\"x\":{\"field\":\"x\"}},\"id\":\"2914\",\"type\":\"VBar\"},{\"attributes\":{\"text\":\"Legend Title (-)\"},\"id\":\"2880\",\"type\":\"Title\"}],\"root_ids\":[\"2879\"]},\"title\":\"Bokeh Application\",\"version\":\"1.4.0\"}};\n",
       "  var render_items = [{\"docid\":\"d3dce8d3-89b4-410b-a57c-7690f85ca71b\",\"roots\":{\"2879\":\"e9220bea-b385-43eb-a54d-68faff45c564\"}}];\n",
       "  root.Bokeh.embed.embed_items_notebook(docs_json, render_items);\n",
       "\n",
       "  }\n",
       "  if (root.Bokeh !== undefined) {\n",
       "    embed_document(root);\n",
       "  } else {\n",
       "    var attempts = 0;\n",
       "    var timer = setInterval(function(root) {\n",
       "      if (root.Bokeh !== undefined) {\n",
       "        clearInterval(timer);\n",
       "        embed_document(root);\n",
       "      } else {\n",
       "        attempts++;\n",
       "        if (attempts > 100) {\n",
       "          clearInterval(timer);\n",
       "          console.log(\"Bokeh: ERROR: Unable to run BokehJS code because BokehJS library is missing\");\n",
       "        }\n",
       "      }\n",
       "    }, 10, root)\n",
       "  }\n",
       "})(window);"
      ],
      "application/vnd.bokehjs_exec.v0+json": ""
     },
     "metadata": {
      "application/vnd.bokehjs_exec.v0+json": {
       "id": "2879"
      }
     },
     "output_type": "display_data"
    }
   ],
   "source": [
    "#visualization parameters\n",
    "\n",
    "palette_name = 'Blues'\n",
    "palette_len = 4\n",
    "palette = vis.brewer[palette_name][palette_len][::-1]\n",
    "vis.legend(palette=palette, minimum = 0.1, maximum= 0.5)\n",
    "\n",
    "vis_params = {\n",
    "    'min': 0.1, 'max': 0.5,'dimensions': 512,\n",
    "    'palette': palette}\n",
    "\n",
    "vis_params_var = {\n",
    "    'min': 0, 'max': 1,'dimensions': 512,\n",
    "    'palette': palette}"
   ]
  },
  {
   "cell_type": "code",
   "execution_count": 101,
   "metadata": {},
   "outputs": [
    {
     "data": {
      "text/html": [
       "<div style=\"width:100%;\"><div style=\"position:relative;width:100%;height:0;padding-bottom:60%;\"><span style=\"color:#565656\">Make this Notebook Trusted to load map: File -> Trust Notebook</span><iframe src=\"about:blank\" style=\"position:absolute;width:100%;height:100%;left:0;top:0;border:none !important;\" data-html=%3C%21DOCTYPE%20html%3E%0A%3Chead%3E%20%20%20%20%0A%20%20%20%20%3Cmeta%20http-equiv%3D%22content-type%22%20content%3D%22text/html%3B%20charset%3DUTF-8%22%20/%3E%0A%20%20%20%20%0A%20%20%20%20%20%20%20%20%3Cscript%3E%0A%20%20%20%20%20%20%20%20%20%20%20%20L_NO_TOUCH%20%3D%20false%3B%0A%20%20%20%20%20%20%20%20%20%20%20%20L_DISABLE_3D%20%3D%20false%3B%0A%20%20%20%20%20%20%20%20%3C/script%3E%0A%20%20%20%20%0A%20%20%20%20%3Cstyle%3Ehtml%2C%20body%20%7Bwidth%3A%20100%25%3Bheight%3A%20100%25%3Bmargin%3A%200%3Bpadding%3A%200%3B%7D%3C/style%3E%0A%20%20%20%20%3Cstyle%3E%23map%20%7Bposition%3Aabsolute%3Btop%3A0%3Bbottom%3A0%3Bright%3A0%3Bleft%3A0%3B%7D%3C/style%3E%0A%20%20%20%20%3Cscript%20src%3D%22https%3A//cdn.jsdelivr.net/npm/leaflet%401.6.0/dist/leaflet.js%22%3E%3C/script%3E%0A%20%20%20%20%3Cscript%20src%3D%22https%3A//code.jquery.com/jquery-1.12.4.min.js%22%3E%3C/script%3E%0A%20%20%20%20%3Cscript%20src%3D%22https%3A//maxcdn.bootstrapcdn.com/bootstrap/3.2.0/js/bootstrap.min.js%22%3E%3C/script%3E%0A%20%20%20%20%3Cscript%20src%3D%22https%3A//cdnjs.cloudflare.com/ajax/libs/Leaflet.awesome-markers/2.0.2/leaflet.awesome-markers.js%22%3E%3C/script%3E%0A%20%20%20%20%3Clink%20rel%3D%22stylesheet%22%20href%3D%22https%3A//cdn.jsdelivr.net/npm/leaflet%401.6.0/dist/leaflet.css%22/%3E%0A%20%20%20%20%3Clink%20rel%3D%22stylesheet%22%20href%3D%22https%3A//maxcdn.bootstrapcdn.com/bootstrap/3.2.0/css/bootstrap.min.css%22/%3E%0A%20%20%20%20%3Clink%20rel%3D%22stylesheet%22%20href%3D%22https%3A//maxcdn.bootstrapcdn.com/bootstrap/3.2.0/css/bootstrap-theme.min.css%22/%3E%0A%20%20%20%20%3Clink%20rel%3D%22stylesheet%22%20href%3D%22https%3A//maxcdn.bootstrapcdn.com/font-awesome/4.6.3/css/font-awesome.min.css%22/%3E%0A%20%20%20%20%3Clink%20rel%3D%22stylesheet%22%20href%3D%22https%3A//cdnjs.cloudflare.com/ajax/libs/Leaflet.awesome-markers/2.0.2/leaflet.awesome-markers.css%22/%3E%0A%20%20%20%20%3Clink%20rel%3D%22stylesheet%22%20href%3D%22https%3A//cdn.jsdelivr.net/gh/python-visualization/folium/folium/templates/leaflet.awesome.rotate.min.css%22/%3E%0A%20%20%20%20%0A%20%20%20%20%20%20%20%20%20%20%20%20%3Cmeta%20name%3D%22viewport%22%20content%3D%22width%3Ddevice-width%2C%0A%20%20%20%20%20%20%20%20%20%20%20%20%20%20%20%20initial-scale%3D1.0%2C%20maximum-scale%3D1.0%2C%20user-scalable%3Dno%22%20/%3E%0A%20%20%20%20%20%20%20%20%20%20%20%20%3Cstyle%3E%0A%20%20%20%20%20%20%20%20%20%20%20%20%20%20%20%20%23map_8da358635690416997890c7a1390a75e%20%7B%0A%20%20%20%20%20%20%20%20%20%20%20%20%20%20%20%20%20%20%20%20position%3A%20relative%3B%0A%20%20%20%20%20%20%20%20%20%20%20%20%20%20%20%20%20%20%20%20width%3A%20100.0%25%3B%0A%20%20%20%20%20%20%20%20%20%20%20%20%20%20%20%20%20%20%20%20height%3A%20500.0px%3B%0A%20%20%20%20%20%20%20%20%20%20%20%20%20%20%20%20%20%20%20%20left%3A%200.0%25%3B%0A%20%20%20%20%20%20%20%20%20%20%20%20%20%20%20%20%20%20%20%20top%3A%200.0%25%3B%0A%20%20%20%20%20%20%20%20%20%20%20%20%20%20%20%20%7D%0A%20%20%20%20%20%20%20%20%20%20%20%20%3C/style%3E%0A%20%20%20%20%20%20%20%20%0A%3C/head%3E%0A%3Cbody%3E%20%20%20%20%0A%20%20%20%20%0A%20%20%20%20%20%20%20%20%20%20%20%20%3Cdiv%20class%3D%22folium-map%22%20id%3D%22map_8da358635690416997890c7a1390a75e%22%20%3E%3C/div%3E%0A%20%20%20%20%20%20%20%20%0A%3C/body%3E%0A%3Cscript%3E%20%20%20%20%0A%20%20%20%20%0A%20%20%20%20%20%20%20%20%20%20%20%20var%20map_8da358635690416997890c7a1390a75e%20%3D%20L.map%28%0A%20%20%20%20%20%20%20%20%20%20%20%20%20%20%20%20%22map_8da358635690416997890c7a1390a75e%22%2C%0A%20%20%20%20%20%20%20%20%20%20%20%20%20%20%20%20%7B%0A%20%20%20%20%20%20%20%20%20%20%20%20%20%20%20%20%20%20%20%20center%3A%20%5B28.5%2C%2035.3%5D%2C%0A%20%20%20%20%20%20%20%20%20%20%20%20%20%20%20%20%20%20%20%20crs%3A%20L.CRS.EPSG3857%2C%0A%20%20%20%20%20%20%20%20%20%20%20%20%20%20%20%20%20%20%20%20zoom%3A%208%2C%0A%20%20%20%20%20%20%20%20%20%20%20%20%20%20%20%20%20%20%20%20zoomControl%3A%20true%2C%0A%20%20%20%20%20%20%20%20%20%20%20%20%20%20%20%20%20%20%20%20preferCanvas%3A%20false%2C%0A%20%20%20%20%20%20%20%20%20%20%20%20%20%20%20%20%7D%0A%20%20%20%20%20%20%20%20%20%20%20%20%29%3B%0A%0A%20%20%20%20%20%20%20%20%20%20%20%20%0A%0A%20%20%20%20%20%20%20%20%0A%20%20%20%20%0A%20%20%20%20%20%20%20%20%20%20%20%20var%20tile_layer_54f6fcd1f86c4565b3d0bac6a6c61be5%20%3D%20L.tileLayer%28%0A%20%20%20%20%20%20%20%20%20%20%20%20%20%20%20%20%22https%3A//%7Bs%7D.tile.openstreetmap.org/%7Bz%7D/%7Bx%7D/%7By%7D.png%22%2C%0A%20%20%20%20%20%20%20%20%20%20%20%20%20%20%20%20%7B%22attribution%22%3A%20%22Data%20by%20%5Cu0026copy%3B%20%5Cu003ca%20href%3D%5C%22http%3A//openstreetmap.org%5C%22%5Cu003eOpenStreetMap%5Cu003c/a%5Cu003e%2C%20under%20%5Cu003ca%20href%3D%5C%22http%3A//www.openstreetmap.org/copyright%5C%22%5Cu003eODbL%5Cu003c/a%5Cu003e.%22%2C%20%22detectRetina%22%3A%20false%2C%20%22maxNativeZoom%22%3A%2018%2C%20%22maxZoom%22%3A%2018%2C%20%22minZoom%22%3A%200%2C%20%22noWrap%22%3A%20false%2C%20%22opacity%22%3A%201%2C%20%22subdomains%22%3A%20%22abc%22%2C%20%22tms%22%3A%20false%7D%0A%20%20%20%20%20%20%20%20%20%20%20%20%29.addTo%28map_8da358635690416997890c7a1390a75e%29%3B%0A%20%20%20%20%20%20%20%20%0A%20%20%20%20%0A%20%20%20%20%20%20%20%20%20%20%20%20var%20tile_layer_a09083643df5466ba6798ce454c266e3%20%3D%20L.tileLayer%28%0A%20%20%20%20%20%20%20%20%20%20%20%20%20%20%20%20%22https%3A//earthengine.googleapis.com/v1alpha/projects/earthengine-legacy/maps/7b5d6b71d46aed186c7b11feab1e7045-46fed552edefecaaf84f365de91fdb31/tiles/%7Bz%7D/%7Bx%7D/%7By%7D%22%2C%0A%20%20%20%20%20%20%20%20%20%20%20%20%20%20%20%20%7B%22attribution%22%3A%20%22Map%20Data%20%5Cu0026copy%3B%20%5Cu003ca%20href%3D%5C%22https%3A//earthengine.google.com/%5C%22%5Cu003eGoogle%20Earth%20Engine%5Cu003c/a%5Cu003e%22%2C%20%22detectRetina%22%3A%20false%2C%20%22maxNativeZoom%22%3A%2018%2C%20%22maxZoom%22%3A%2018%2C%20%22minZoom%22%3A%200%2C%20%22noWrap%22%3A%20false%2C%20%22opacity%22%3A%201%2C%20%22subdomains%22%3A%20%22abc%22%2C%20%22tms%22%3A%20false%7D%0A%20%20%20%20%20%20%20%20%20%20%20%20%29.addTo%28map_8da358635690416997890c7a1390a75e%29%3B%0A%20%20%20%20%20%20%20%20%0A%20%20%20%20%0A%20%20%20%20%20%20%20%20%20%20%20%20var%20layer_control_0c4733ed638e48b3be73ed6a30103ce0%20%3D%20%7B%0A%20%20%20%20%20%20%20%20%20%20%20%20%20%20%20%20base_layers%20%3A%20%7B%0A%20%20%20%20%20%20%20%20%20%20%20%20%20%20%20%20%20%20%20%20%22openstreetmap%22%20%3A%20tile_layer_54f6fcd1f86c4565b3d0bac6a6c61be5%2C%0A%20%20%20%20%20%20%20%20%20%20%20%20%20%20%20%20%7D%2C%0A%20%20%20%20%20%20%20%20%20%20%20%20%20%20%20%20overlays%20%3A%20%20%7B%0A%20%20%20%20%20%20%20%20%20%20%20%20%20%20%20%20%20%20%20%20%22Score%22%20%3A%20tile_layer_a09083643df5466ba6798ce454c266e3%2C%0A%20%20%20%20%20%20%20%20%20%20%20%20%20%20%20%20%7D%2C%0A%20%20%20%20%20%20%20%20%20%20%20%20%7D%3B%0A%20%20%20%20%20%20%20%20%20%20%20%20L.control.layers%28%0A%20%20%20%20%20%20%20%20%20%20%20%20%20%20%20%20layer_control_0c4733ed638e48b3be73ed6a30103ce0.base_layers%2C%0A%20%20%20%20%20%20%20%20%20%20%20%20%20%20%20%20layer_control_0c4733ed638e48b3be73ed6a30103ce0.overlays%2C%0A%20%20%20%20%20%20%20%20%20%20%20%20%20%20%20%20%7B%22autoZIndex%22%3A%20true%2C%20%22collapsed%22%3A%20true%2C%20%22position%22%3A%20%22topright%22%7D%0A%20%20%20%20%20%20%20%20%20%20%20%20%29.addTo%28map_8da358635690416997890c7a1390a75e%29%3B%0A%20%20%20%20%20%20%20%20%0A%3C/script%3E onload=\"this.contentDocument.open();this.contentDocument.write(    decodeURIComponent(this.getAttribute('data-html')));this.contentDocument.close();\" allowfullscreen webkitallowfullscreen mozallowfullscreen></iframe></div></div>"
      ],
      "text/plain": [
       "<folium.folium.Map at 0x7fdcd9a5fdd0>"
      ]
     },
     "metadata": {},
     "output_type": "display_data"
    }
   ],
   "source": [
    "#plotting score for NEOM region\n",
    "\n",
    "the_map = vis.folium_map(location=[28.5, 35.3], zoom_start=8, height=500)\n",
    "the_map.add_ee_layer(score, vis_params, name = 'Score')\n",
    "vis.folium_display(the_map)"
   ]
  },
  {
   "cell_type": "code",
   "execution_count": null,
   "metadata": {},
   "outputs": [],
   "source": []
  }
 ],
 "metadata": {
  "kernelspec": {
   "display_name": "Python 3",
   "language": "python",
   "name": "python3"
  },
  "language_info": {
   "codemirror_mode": {
    "name": "ipython",
    "version": 3
   },
   "file_extension": ".py",
   "mimetype": "text/x-python",
   "name": "python",
   "nbconvert_exporter": "python",
   "pygments_lexer": "ipython3",
   "version": "3.7.6"
  }
 },
 "nbformat": 4,
 "nbformat_minor": 4
}
